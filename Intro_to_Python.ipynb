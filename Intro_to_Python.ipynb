{
  "nbformat": 4,
  "nbformat_minor": 0,
  "metadata": {
    "colab": {
      "name": "Intro to Python",
      "provenance": [],
      "authorship_tag": "ABX9TyOuF/Yufr+8vb6qkDVdZmCV",
      "include_colab_link": true
    },
    "kernelspec": {
      "name": "python3",
      "display_name": "Python 3"
    }
  },
  "cells": [
    {
      "cell_type": "markdown",
      "metadata": {
        "id": "view-in-github",
        "colab_type": "text"
      },
      "source": [
        "<a href=\"https://colab.research.google.com/github/karmagurung00/Data_Analytics/blob/main/Intro_to_Python.ipynb\" target=\"_parent\"><img src=\"https://colab.research.google.com/assets/colab-badge.svg\" alt=\"Open In Colab\"/></a>"
      ]
    },
    {
      "cell_type": "code",
      "metadata": {
        "colab": {
          "base_uri": "https://localhost:8080/"
        },
        "id": "_ARm-YheH0V1",
        "outputId": "4ba3a4f8-d42b-44c2-b9bf-d63bae23a997"
      },
      "source": [
        "message='Hello world'\r\n",
        "print(message)"
      ],
      "execution_count": null,
      "outputs": [
        {
          "output_type": "stream",
          "text": [
            "Hello world\n"
          ],
          "name": "stdout"
        }
      ]
    },
    {
      "cell_type": "code",
      "metadata": {
        "colab": {
          "base_uri": "https://localhost:8080/"
        },
        "id": "A1ZU3vpjIA5v",
        "outputId": "bd0f4fa7-9521-47fe-eae9-6b9ef3c7f378"
      },
      "source": [
        "variableA=\"hello world\"\r\n",
        "print(variableA)"
      ],
      "execution_count": null,
      "outputs": [
        {
          "output_type": "stream",
          "text": [
            "hello world\n"
          ],
          "name": "stdout"
        }
      ]
    },
    {
      "cell_type": "code",
      "metadata": {
        "colab": {
          "base_uri": "https://localhost:8080/"
        },
        "id": "grgfdxQcI0lc",
        "outputId": "0016e743-6523-4b7a-ad00-8bfe2e998f98"
      },
      "source": [
        "apple1=\"i hope this year is better\"\r\n",
        "print(apple1)"
      ],
      "execution_count": null,
      "outputs": [
        {
          "output_type": "stream",
          "text": [
            "i hope this year is better\n"
          ],
          "name": "stdout"
        }
      ]
    },
    {
      "cell_type": "code",
      "metadata": {
        "colab": {
          "base_uri": "https://localhost:8080/"
        },
        "id": "G5zzzaQ2MIf2",
        "outputId": "f2ecf91e-e801-4fd8-8b98-712680246eed"
      },
      "source": [
        "first_name ='Baruch'\r\n",
        "print(first_name.upper())\r\n",
        "print(first_name.lower())"
      ],
      "execution_count": null,
      "outputs": [
        {
          "output_type": "stream",
          "text": [
            "BARUCH\n",
            "baruch\n"
          ],
          "name": "stdout"
        }
      ]
    },
    {
      "cell_type": "code",
      "metadata": {
        "colab": {
          "base_uri": "https://localhost:8080/"
        },
        "id": "AYTnvldMOWrl",
        "outputId": "d79bc2f6-5ea3-4fd0-f673-6c8f5dfb8eb7"
      },
      "source": [
        "first='Cuny'\r\n",
        "last=\"Baruch\"\r\n",
        "complete_name= first + \" \" +last \r\n",
        "print(complete_name)"
      ],
      "execution_count": null,
      "outputs": [
        {
          "output_type": "stream",
          "text": [
            "Cuny Baruch\n"
          ],
          "name": "stdout"
        }
      ]
    },
    {
      "cell_type": "code",
      "metadata": {
        "colab": {
          "base_uri": "https://localhost:8080/"
        },
        "id": "PaqId-lePwl3",
        "outputId": "9fd68785-df7f-472c-fbf9-2d1016f2f8fb"
      },
      "source": [
        "first='Cuny'\r\n",
        "last=\"Baruch\"\r\n",
        "complete_name= first +last\r\n",
        "print(complete_name)"
      ],
      "execution_count": null,
      "outputs": [
        {
          "output_type": "stream",
          "text": [
            "CunyBaruch\n"
          ],
          "name": "stdout"
        }
      ]
    },
    {
      "cell_type": "code",
      "metadata": {
        "colab": {
          "base_uri": "https://localhost:8080/"
        },
        "id": "Hu_UyCWCQwdS",
        "outputId": "6ffd8314-d3c6-454f-a7c5-b34cd38fd681"
      },
      "source": [
        "a1=\"tom\"\r\n",
        "b1=\"what are your plans for the weekend?\"\r\n",
        "c1=\"Hello\"+ \" \" + a1 +\", \"+ b1\r\n",
        "print(c1)"
      ],
      "execution_count": null,
      "outputs": [
        {
          "output_type": "stream",
          "text": [
            "Hello tom, what are your plans for the weekend?\n"
          ],
          "name": "stdout"
        }
      ]
    },
    {
      "cell_type": "code",
      "metadata": {
        "id": "AAdlYc5_UJgN"
      },
      "source": [
        ""
      ],
      "execution_count": null,
      "outputs": []
    },
    {
      "cell_type": "code",
      "metadata": {
        "colab": {
          "base_uri": "https://localhost:8080/"
        },
        "id": "CaKKBwmBW27n",
        "outputId": "a34eb3a5-ca02-4426-a729-af9ab6737288"
      },
      "source": [
        "x=2\r\n",
        "x=x*x-x+x+x*x\r\n",
        "print(x)"
      ],
      "execution_count": null,
      "outputs": [
        {
          "output_type": "stream",
          "text": [
            "8\n"
          ],
          "name": "stdout"
        }
      ]
    },
    {
      "cell_type": "code",
      "metadata": {
        "colab": {
          "base_uri": "https://localhost:8080/"
        },
        "id": "0vLvqcuFXPLr",
        "outputId": "40772916-2ef5-42e5-af1c-2e27101f1ea0"
      },
      "source": [
        "age=23\r\n",
        "b1=\"happy\"\r\n",
        "c1=\"rd birthday to me\"\r\n",
        "print(b1+\" \"+str(age)+c1)\r\n",
        "\r\n"
      ],
      "execution_count": null,
      "outputs": [
        {
          "output_type": "stream",
          "text": [
            "happy 23rd birthday to me\n"
          ],
          "name": "stdout"
        }
      ]
    },
    {
      "cell_type": "code",
      "metadata": {
        "colab": {
          "base_uri": "https://localhost:8080/"
        },
        "id": "DeyR1HTzXn1y",
        "outputId": "05e419f2-adcf-4942-843a-10e1edcaea09"
      },
      "source": [
        "age=\"23\"\r\n",
        "b1=\"happy\"\r\n",
        "c1=\"rd birthday to me\"\r\n",
        "print(b1+\" \"+age+c1)"
      ],
      "execution_count": null,
      "outputs": [
        {
          "output_type": "stream",
          "text": [
            "happy 23rd birthday to me\n"
          ],
          "name": "stdout"
        }
      ]
    },
    {
      "cell_type": "code",
      "metadata": {
        "colab": {
          "base_uri": "https://localhost:8080/"
        },
        "id": "yoMDHjbTaNN7",
        "outputId": "b0cbb520-e6e8-4172-bb7b-90b1dee6a216"
      },
      "source": [
        "apple='123'\r\n",
        "print(type(apple))"
      ],
      "execution_count": null,
      "outputs": [
        {
          "output_type": "stream",
          "text": [
            "<class 'str'>\n"
          ],
          "name": "stdout"
        }
      ]
    },
    {
      "cell_type": "code",
      "metadata": {
        "colab": {
          "base_uri": "https://localhost:8080/"
        },
        "id": "BLfwQrUtaQFI",
        "outputId": "3fe032d3-5ed5-44f2-a0f0-ad83607e07f4"
      },
      "source": [
        "print(\"Cuny\")\r\n",
        "print(\"\\tCuny\")\r\n",
        "print(\"\\nCuny\")"
      ],
      "execution_count": null,
      "outputs": [
        {
          "output_type": "stream",
          "text": [
            "Cuny\n",
            "\tCuny\n",
            "\n",
            "Cuny\n"
          ],
          "name": "stdout"
        }
      ]
    },
    {
      "cell_type": "code",
      "metadata": {
        "id": "B970U86Vc8UW"
      },
      "source": [
        ""
      ],
      "execution_count": null,
      "outputs": []
    }
  ]
}