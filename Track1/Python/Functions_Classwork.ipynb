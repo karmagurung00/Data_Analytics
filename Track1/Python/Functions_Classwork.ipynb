{
  "nbformat": 4,
  "nbformat_minor": 0,
  "metadata": {
    "colab": {
      "name": "Functions_Classwork.ipynb",
      "provenance": [],
      "collapsed_sections": [],
      "authorship_tag": "ABX9TyP/3ZN3OCxl2yv/Ajbl0rC8",
      "include_colab_link": true
    },
    "kernelspec": {
      "name": "python3",
      "display_name": "Python 3"
    }
  },
  "cells": [
    {
      "cell_type": "markdown",
      "metadata": {
        "id": "view-in-github",
        "colab_type": "text"
      },
      "source": [
        "<a href=\"https://colab.research.google.com/github/karmagurung00/Data_Analytics/blob/main/Track1/Python/Functions_Classwork.ipynb\" target=\"_parent\"><img src=\"https://colab.research.google.com/assets/colab-badge.svg\" alt=\"Open In Colab\"/></a>"
      ]
    },
    {
      "cell_type": "code",
      "metadata": {
        "colab": {
          "base_uri": "https://localhost:8080/"
        },
        "id": "trad_PnWz5qN",
        "outputId": "f7551a5d-b2c1-480b-e4a5-d6ea2b78ff67"
      },
      "source": [
        "def greeting():\r\n",
        "  \"\"\"This function displays a greeting\"\"\"\r\n",
        "  print('Hello there!')\r\n",
        "\r\n",
        "greeting()\r\n",
        "  "
      ],
      "execution_count": 18,
      "outputs": [
        {
          "output_type": "stream",
          "text": [
            "Hello there!\n"
          ],
          "name": "stdout"
        }
      ]
    },
    {
      "cell_type": "code",
      "metadata": {
        "colab": {
          "base_uri": "https://localhost:8080/"
        },
        "id": "dN6Q4SKEz_vF",
        "outputId": "0da4c96c-9d92-4884-9b9f-f8f497fc3694"
      },
      "source": [
        "def greeting_2(first_name, last_name):\r\n",
        "  print('Hello there,'+ first_name+' '+last_name)\r\n",
        "\r\n",
        "greeting_2('Paul','John')"
      ],
      "execution_count": 11,
      "outputs": [
        {
          "output_type": "stream",
          "text": [
            "Hello there,Paul John\n"
          ],
          "name": "stdout"
        }
      ]
    },
    {
      "cell_type": "code",
      "metadata": {
        "colab": {
          "base_uri": "https://localhost:8080/"
        },
        "id": "vJ8K44qZ1pGe",
        "outputId": "3771c353-7f2d-4cda-d331-7d164ba79aa1"
      },
      "source": [
        "def greeting_2(first_name, last_name, age=23):\r\n",
        "  print('My name is '+ first_name + ' '+last_name)\r\n",
        "  print('I am'+' '+str(age)+ ',years old')\r\n",
        "\r\n",
        "greeting_2(first_name=\"PAPA\",last_name=\"JOHN\")\r\n",
        "greeting_2(age=43, first_name='SON', last_name=\"JOHN\")"
      ],
      "execution_count": 15,
      "outputs": [
        {
          "output_type": "stream",
          "text": [
            "My name is PAPA JOHN\n",
            "I am 23,years old\n",
            "My name is SON JOHN\n",
            "I am 43,years old\n"
          ],
          "name": "stdout"
        }
      ]
    },
    {
      "cell_type": "code",
      "metadata": {
        "colab": {
          "base_uri": "https://localhost:8080/"
        },
        "id": "_qQLIug42Lk5",
        "outputId": "a3d8d91b-7b19-4c03-8c7b-5faca1171a0a"
      },
      "source": [
        "def general(city,country):\r\n",
        "  print('I currently live in' + ' ' +city +','+' '+country+'.')\r\n",
        "\r\n",
        "general(city='NewYork', country='United States')\r\n",
        "general(city='Chicago',country='United States')\r\n",
        "general(city='Houston',country='United States')"
      ],
      "execution_count": 27,
      "outputs": [
        {
          "output_type": "stream",
          "text": [
            "I currently live in NewYork, United States.\n",
            "I currently live in Chicago, United States.\n",
            "I currently live in Houston, United States.\n"
          ],
          "name": "stdout"
        }
      ]
    },
    {
      "cell_type": "code",
      "metadata": {
        "id": "VQrs-I_65MWZ"
      },
      "source": [
        ""
      ],
      "execution_count": null,
      "outputs": []
    }
  ]
}