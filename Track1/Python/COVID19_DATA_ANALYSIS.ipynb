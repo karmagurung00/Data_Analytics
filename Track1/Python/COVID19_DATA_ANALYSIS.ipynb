{
  "nbformat": 4,
  "nbformat_minor": 0,
  "metadata": {
    "colab": {
      "name": "COVID19_DATA_ANALYSIS.ipynb",
      "provenance": [],
      "collapsed_sections": [],
      "include_colab_link": true
    },
    "kernelspec": {
      "name": "python3",
      "display_name": "Python 3"
    }
  },
  "cells": [
    {
      "cell_type": "markdown",
      "metadata": {
        "id": "view-in-github",
        "colab_type": "text"
      },
      "source": [
        "<a href=\"https://colab.research.google.com/github/karmagurung00/Data_Analytics/blob/main/Track1/Python/COVID19_DATA_ANALYSIS.ipynb\" target=\"_parent\"><img src=\"https://colab.research.google.com/assets/colab-badge.svg\" alt=\"Open In Colab\"/></a>"
      ]
    },
    {
      "cell_type": "markdown",
      "metadata": {
        "id": "9jvXpX2bbIFF"
      },
      "source": [
        "# COVID 19 Data Analysis"
      ]
    },
    {
      "cell_type": "markdown",
      "metadata": {
        "id": "RSvGZmxBa_Gk"
      },
      "source": [
        "**Description:** This script will read the latest data from the New York Times' county-level COVID-19 database at https://github.com/nytimes/covid-19-data/blob/master/us-counties.csv, filter the data for a chosen county in a chosen state, calculate the daily count of new cases and new deaths, print the most recent 28 days' worth of data for the selected county, and save the county's data for all dates to a comma-separated value (.csv) file on your computer. The printed data can be copied and pasted directly into a spreadsheet for further analysis and visualization.\r\n",
        "\r\n",
        "**Note:** For information about the data, see https://github.com/nytimes/covid-19-data.\r\n",
        "\r\n",
        "**Note:** After you have run the script one time in a given Anaconda environment, you may reduce the script's execution time by adding a `#` in front of `pip install pandas`. For example, `#pip install pandas` instead of `pip install pandas`. The `#` will tell Python to skip the code without running it."
      ]
    },
    {
      "cell_type": "markdown",
      "metadata": {
        "id": "ji_HknaobZJh"
      },
      "source": [
        "# Task 1 : Environment Set up"
      ]
    },
    {
      "cell_type": "markdown",
      "metadata": {
        "id": "q2y0bY0XbhNZ"
      },
      "source": [
        "Import all required libraries that are needed for data analysis"
      ]
    },
    {
      "cell_type": "code",
      "metadata": {
        "id": "k2f9bX3aiTDP"
      },
      "source": [
        "import pandas as pd\n",
        "import numpy as np\n",
        "import matplotlib.pyplot as plt\n",
        "from matplotlib import style\n",
        "import datetime as dt\n",
        "import seaborn as sns"
      ],
      "execution_count": 78,
      "outputs": []
    },
    {
      "cell_type": "markdown",
      "metadata": {
        "id": "vgt8s61dbueM"
      },
      "source": [
        "# Task 2 :  Data Collection"
      ]
    },
    {
      "cell_type": "markdown",
      "metadata": {
        "id": "CEc5pqrkbxcX"
      },
      "source": [
        "Use nytimes github repository as a data source to collect the covid 19 data in real time and ingest it into colab notebook for data analysis purpose"
      ]
    },
    {
      "cell_type": "code",
      "metadata": {
        "id": "vgw9nO9Hm_SB"
      },
      "source": [
        "df = pd.read_csv('https://raw.githubusercontent.com/nytimes/covid-19-data/master/us-states.csv')\r\n"
      ],
      "execution_count": 79,
      "outputs": []
    },
    {
      "cell_type": "code",
      "metadata": {
        "id": "FEG9n2sI0Yxu",
        "colab": {
          "base_uri": "https://localhost:8080/"
        },
        "outputId": "c174b6af-346f-4bf6-fb70-07700e51a0ec"
      },
      "source": [
        "df['date']"
      ],
      "execution_count": 80,
      "outputs": [
        {
          "output_type": "execute_result",
          "data": {
            "text/plain": [
              "0        2020-01-21\n",
              "1        2020-01-22\n",
              "2        2020-01-23\n",
              "3        2020-01-24\n",
              "4        2020-01-24\n",
              "            ...    \n",
              "17664    2021-01-17\n",
              "17665    2021-01-17\n",
              "17666    2021-01-17\n",
              "17667    2021-01-17\n",
              "17668    2021-01-17\n",
              "Name: date, Length: 17669, dtype: object"
            ]
          },
          "metadata": {
            "tags": []
          },
          "execution_count": 80
        }
      ]
    },
    {
      "cell_type": "code",
      "metadata": {
        "id": "ap0owuu30bLe",
        "colab": {
          "base_uri": "https://localhost:8080/"
        },
        "outputId": "c07b2087-ab86-43f4-cf16-7167b81e5795"
      },
      "source": [
        "df['date']=pd.to_datetime(df['date'])\r\n",
        "df['date']"
      ],
      "execution_count": 107,
      "outputs": [
        {
          "output_type": "execute_result",
          "data": {
            "text/plain": [
              "0       2020-01-21\n",
              "1       2020-01-22\n",
              "2       2020-01-23\n",
              "3       2020-01-24\n",
              "4       2020-01-24\n",
              "           ...    \n",
              "17664   2021-01-17\n",
              "17665   2021-01-17\n",
              "17666   2021-01-17\n",
              "17667   2021-01-17\n",
              "17668   2021-01-17\n",
              "Name: date, Length: 17669, dtype: datetime64[ns]"
            ]
          },
          "metadata": {
            "tags": []
          },
          "execution_count": 107
        }
      ]
    },
    {
      "cell_type": "code",
      "metadata": {
        "colab": {
          "base_uri": "https://localhost:8080/",
          "height": 340
        },
        "id": "zM4hYI3NlwM4",
        "outputId": "062fa96f-9896-4dd3-9f84-020c054e2550"
      },
      "source": [
        "df.head(10)"
      ],
      "execution_count": 108,
      "outputs": [
        {
          "output_type": "execute_result",
          "data": {
            "text/html": [
              "<div>\n",
              "<style scoped>\n",
              "    .dataframe tbody tr th:only-of-type {\n",
              "        vertical-align: middle;\n",
              "    }\n",
              "\n",
              "    .dataframe tbody tr th {\n",
              "        vertical-align: top;\n",
              "    }\n",
              "\n",
              "    .dataframe thead th {\n",
              "        text-align: right;\n",
              "    }\n",
              "</style>\n",
              "<table border=\"1\" class=\"dataframe\">\n",
              "  <thead>\n",
              "    <tr style=\"text-align: right;\">\n",
              "      <th></th>\n",
              "      <th>date</th>\n",
              "      <th>state</th>\n",
              "      <th>fips</th>\n",
              "      <th>cases</th>\n",
              "      <th>deaths</th>\n",
              "    </tr>\n",
              "  </thead>\n",
              "  <tbody>\n",
              "    <tr>\n",
              "      <th>0</th>\n",
              "      <td>2020-01-21</td>\n",
              "      <td>Washington</td>\n",
              "      <td>53</td>\n",
              "      <td>1</td>\n",
              "      <td>0</td>\n",
              "    </tr>\n",
              "    <tr>\n",
              "      <th>1</th>\n",
              "      <td>2020-01-22</td>\n",
              "      <td>Washington</td>\n",
              "      <td>53</td>\n",
              "      <td>1</td>\n",
              "      <td>0</td>\n",
              "    </tr>\n",
              "    <tr>\n",
              "      <th>2</th>\n",
              "      <td>2020-01-23</td>\n",
              "      <td>Washington</td>\n",
              "      <td>53</td>\n",
              "      <td>1</td>\n",
              "      <td>0</td>\n",
              "    </tr>\n",
              "    <tr>\n",
              "      <th>3</th>\n",
              "      <td>2020-01-24</td>\n",
              "      <td>Illinois</td>\n",
              "      <td>17</td>\n",
              "      <td>1</td>\n",
              "      <td>0</td>\n",
              "    </tr>\n",
              "    <tr>\n",
              "      <th>4</th>\n",
              "      <td>2020-01-24</td>\n",
              "      <td>Washington</td>\n",
              "      <td>53</td>\n",
              "      <td>1</td>\n",
              "      <td>0</td>\n",
              "    </tr>\n",
              "    <tr>\n",
              "      <th>5</th>\n",
              "      <td>2020-01-25</td>\n",
              "      <td>California</td>\n",
              "      <td>6</td>\n",
              "      <td>1</td>\n",
              "      <td>0</td>\n",
              "    </tr>\n",
              "    <tr>\n",
              "      <th>6</th>\n",
              "      <td>2020-01-25</td>\n",
              "      <td>Illinois</td>\n",
              "      <td>17</td>\n",
              "      <td>1</td>\n",
              "      <td>0</td>\n",
              "    </tr>\n",
              "    <tr>\n",
              "      <th>7</th>\n",
              "      <td>2020-01-25</td>\n",
              "      <td>Washington</td>\n",
              "      <td>53</td>\n",
              "      <td>1</td>\n",
              "      <td>0</td>\n",
              "    </tr>\n",
              "    <tr>\n",
              "      <th>8</th>\n",
              "      <td>2020-01-26</td>\n",
              "      <td>Arizona</td>\n",
              "      <td>4</td>\n",
              "      <td>1</td>\n",
              "      <td>0</td>\n",
              "    </tr>\n",
              "    <tr>\n",
              "      <th>9</th>\n",
              "      <td>2020-01-26</td>\n",
              "      <td>California</td>\n",
              "      <td>6</td>\n",
              "      <td>2</td>\n",
              "      <td>0</td>\n",
              "    </tr>\n",
              "  </tbody>\n",
              "</table>\n",
              "</div>"
            ],
            "text/plain": [
              "        date       state  fips  cases  deaths\n",
              "0 2020-01-21  Washington    53      1       0\n",
              "1 2020-01-22  Washington    53      1       0\n",
              "2 2020-01-23  Washington    53      1       0\n",
              "3 2020-01-24    Illinois    17      1       0\n",
              "4 2020-01-24  Washington    53      1       0\n",
              "5 2020-01-25  California     6      1       0\n",
              "6 2020-01-25    Illinois    17      1       0\n",
              "7 2020-01-25  Washington    53      1       0\n",
              "8 2020-01-26     Arizona     4      1       0\n",
              "9 2020-01-26  California     6      2       0"
            ]
          },
          "metadata": {
            "tags": []
          },
          "execution_count": 108
        }
      ]
    },
    {
      "cell_type": "code",
      "metadata": {
        "colab": {
          "base_uri": "https://localhost:8080/",
          "height": 340
        },
        "id": "KIxcRRL6lwYF",
        "outputId": "268c1998-1750-4711-a00b-525e96dce74b"
      },
      "source": [
        "df.tail(10)"
      ],
      "execution_count": 109,
      "outputs": [
        {
          "output_type": "execute_result",
          "data": {
            "text/html": [
              "<div>\n",
              "<style scoped>\n",
              "    .dataframe tbody tr th:only-of-type {\n",
              "        vertical-align: middle;\n",
              "    }\n",
              "\n",
              "    .dataframe tbody tr th {\n",
              "        vertical-align: top;\n",
              "    }\n",
              "\n",
              "    .dataframe thead th {\n",
              "        text-align: right;\n",
              "    }\n",
              "</style>\n",
              "<table border=\"1\" class=\"dataframe\">\n",
              "  <thead>\n",
              "    <tr style=\"text-align: right;\">\n",
              "      <th></th>\n",
              "      <th>date</th>\n",
              "      <th>state</th>\n",
              "      <th>fips</th>\n",
              "      <th>cases</th>\n",
              "      <th>deaths</th>\n",
              "    </tr>\n",
              "  </thead>\n",
              "  <tbody>\n",
              "    <tr>\n",
              "      <th>17659</th>\n",
              "      <td>2021-01-17</td>\n",
              "      <td>Tennessee</td>\n",
              "      <td>47</td>\n",
              "      <td>672292</td>\n",
              "      <td>8312</td>\n",
              "    </tr>\n",
              "    <tr>\n",
              "      <th>17660</th>\n",
              "      <td>2021-01-17</td>\n",
              "      <td>Texas</td>\n",
              "      <td>48</td>\n",
              "      <td>2127334</td>\n",
              "      <td>32747</td>\n",
              "    </tr>\n",
              "    <tr>\n",
              "      <th>17661</th>\n",
              "      <td>2021-01-17</td>\n",
              "      <td>Utah</td>\n",
              "      <td>49</td>\n",
              "      <td>323837</td>\n",
              "      <td>1493</td>\n",
              "    </tr>\n",
              "    <tr>\n",
              "      <th>17662</th>\n",
              "      <td>2021-01-17</td>\n",
              "      <td>Vermont</td>\n",
              "      <td>50</td>\n",
              "      <td>10057</td>\n",
              "      <td>163</td>\n",
              "    </tr>\n",
              "    <tr>\n",
              "      <th>17663</th>\n",
              "      <td>2021-01-17</td>\n",
              "      <td>Virgin Islands</td>\n",
              "      <td>78</td>\n",
              "      <td>2260</td>\n",
              "      <td>24</td>\n",
              "    </tr>\n",
              "    <tr>\n",
              "      <th>17664</th>\n",
              "      <td>2021-01-17</td>\n",
              "      <td>Virginia</td>\n",
              "      <td>51</td>\n",
              "      <td>439305</td>\n",
              "      <td>5729</td>\n",
              "    </tr>\n",
              "    <tr>\n",
              "      <th>17665</th>\n",
              "      <td>2021-01-17</td>\n",
              "      <td>Washington</td>\n",
              "      <td>53</td>\n",
              "      <td>293296</td>\n",
              "      <td>3971</td>\n",
              "    </tr>\n",
              "    <tr>\n",
              "      <th>17666</th>\n",
              "      <td>2021-01-17</td>\n",
              "      <td>West Virginia</td>\n",
              "      <td>54</td>\n",
              "      <td>108821</td>\n",
              "      <td>1776</td>\n",
              "    </tr>\n",
              "    <tr>\n",
              "      <th>17667</th>\n",
              "      <td>2021-01-17</td>\n",
              "      <td>Wisconsin</td>\n",
              "      <td>55</td>\n",
              "      <td>568166</td>\n",
              "      <td>5907</td>\n",
              "    </tr>\n",
              "    <tr>\n",
              "      <th>17668</th>\n",
              "      <td>2021-01-17</td>\n",
              "      <td>Wyoming</td>\n",
              "      <td>56</td>\n",
              "      <td>49363</td>\n",
              "      <td>522</td>\n",
              "    </tr>\n",
              "  </tbody>\n",
              "</table>\n",
              "</div>"
            ],
            "text/plain": [
              "            date           state  fips    cases  deaths\n",
              "17659 2021-01-17       Tennessee    47   672292    8312\n",
              "17660 2021-01-17           Texas    48  2127334   32747\n",
              "17661 2021-01-17            Utah    49   323837    1493\n",
              "17662 2021-01-17         Vermont    50    10057     163\n",
              "17663 2021-01-17  Virgin Islands    78     2260      24\n",
              "17664 2021-01-17        Virginia    51   439305    5729\n",
              "17665 2021-01-17      Washington    53   293296    3971\n",
              "17666 2021-01-17   West Virginia    54   108821    1776\n",
              "17667 2021-01-17       Wisconsin    55   568166    5907\n",
              "17668 2021-01-17         Wyoming    56    49363     522"
            ]
          },
          "metadata": {
            "tags": []
          },
          "execution_count": 109
        }
      ]
    },
    {
      "cell_type": "code",
      "metadata": {
        "colab": {
          "base_uri": "https://localhost:8080/",
          "height": 282
        },
        "id": "qChqG_BulwgY",
        "outputId": "5d053eda-6926-45cb-a918-d96d1767a74f"
      },
      "source": [
        "df.describe()"
      ],
      "execution_count": 110,
      "outputs": [
        {
          "output_type": "execute_result",
          "data": {
            "text/html": [
              "<div>\n",
              "<style scoped>\n",
              "    .dataframe tbody tr th:only-of-type {\n",
              "        vertical-align: middle;\n",
              "    }\n",
              "\n",
              "    .dataframe tbody tr th {\n",
              "        vertical-align: top;\n",
              "    }\n",
              "\n",
              "    .dataframe thead th {\n",
              "        text-align: right;\n",
              "    }\n",
              "</style>\n",
              "<table border=\"1\" class=\"dataframe\">\n",
              "  <thead>\n",
              "    <tr style=\"text-align: right;\">\n",
              "      <th></th>\n",
              "      <th>fips</th>\n",
              "      <th>cases</th>\n",
              "      <th>deaths</th>\n",
              "    </tr>\n",
              "  </thead>\n",
              "  <tbody>\n",
              "    <tr>\n",
              "      <th>count</th>\n",
              "      <td>17669.000000</td>\n",
              "      <td>1.766900e+04</td>\n",
              "      <td>17669.000000</td>\n",
              "    </tr>\n",
              "    <tr>\n",
              "      <th>mean</th>\n",
              "      <td>31.910861</td>\n",
              "      <td>1.190759e+05</td>\n",
              "      <td>2984.598053</td>\n",
              "    </tr>\n",
              "    <tr>\n",
              "      <th>std</th>\n",
              "      <td>18.640163</td>\n",
              "      <td>2.274607e+05</td>\n",
              "      <td>5554.979599</td>\n",
              "    </tr>\n",
              "    <tr>\n",
              "      <th>min</th>\n",
              "      <td>1.000000</td>\n",
              "      <td>1.000000e+00</td>\n",
              "      <td>0.000000</td>\n",
              "    </tr>\n",
              "    <tr>\n",
              "      <th>25%</th>\n",
              "      <td>17.000000</td>\n",
              "      <td>4.587000e+03</td>\n",
              "      <td>98.000000</td>\n",
              "    </tr>\n",
              "    <tr>\n",
              "      <th>50%</th>\n",
              "      <td>31.000000</td>\n",
              "      <td>3.417400e+04</td>\n",
              "      <td>774.000000</td>\n",
              "    </tr>\n",
              "    <tr>\n",
              "      <th>75%</th>\n",
              "      <td>46.000000</td>\n",
              "      <td>1.334700e+05</td>\n",
              "      <td>3324.000000</td>\n",
              "    </tr>\n",
              "    <tr>\n",
              "      <th>max</th>\n",
              "      <td>78.000000</td>\n",
              "      <td>3.006583e+06</td>\n",
              "      <td>40570.000000</td>\n",
              "    </tr>\n",
              "  </tbody>\n",
              "</table>\n",
              "</div>"
            ],
            "text/plain": [
              "               fips         cases        deaths\n",
              "count  17669.000000  1.766900e+04  17669.000000\n",
              "mean      31.910861  1.190759e+05   2984.598053\n",
              "std       18.640163  2.274607e+05   5554.979599\n",
              "min        1.000000  1.000000e+00      0.000000\n",
              "25%       17.000000  4.587000e+03     98.000000\n",
              "50%       31.000000  3.417400e+04    774.000000\n",
              "75%       46.000000  1.334700e+05   3324.000000\n",
              "max       78.000000  3.006583e+06  40570.000000"
            ]
          },
          "metadata": {
            "tags": []
          },
          "execution_count": 110
        }
      ]
    },
    {
      "cell_type": "code",
      "metadata": {
        "colab": {
          "base_uri": "https://localhost:8080/"
        },
        "id": "BQU796FUmojK",
        "outputId": "48632cb2-3fb0-4d8b-a194-57a2eeea84ea"
      },
      "source": [
        "df.columns"
      ],
      "execution_count": 111,
      "outputs": [
        {
          "output_type": "execute_result",
          "data": {
            "text/plain": [
              "Index(['date', 'state', 'fips', 'cases', 'deaths'], dtype='object')"
            ]
          },
          "metadata": {
            "tags": []
          },
          "execution_count": 111
        }
      ]
    },
    {
      "cell_type": "code",
      "metadata": {
        "colab": {
          "base_uri": "https://localhost:8080/"
        },
        "id": "UCHOsfWclwof",
        "outputId": "e541ab39-ecb7-4cc8-b907-c51443fc1540"
      },
      "source": [
        "df.shape"
      ],
      "execution_count": 112,
      "outputs": [
        {
          "output_type": "execute_result",
          "data": {
            "text/plain": [
              "(17669, 5)"
            ]
          },
          "metadata": {
            "tags": []
          },
          "execution_count": 112
        }
      ]
    },
    {
      "cell_type": "markdown",
      "metadata": {
        "id": "dXToiyPccf4h"
      },
      "source": [
        "# Task 3 : Data Wrangling and EDA (Exploratory Data Analysis)"
      ]
    },
    {
      "cell_type": "markdown",
      "metadata": {
        "id": "XrywUhma1LD6"
      },
      "source": [
        "**1. Analyzing New York state data for Covid 19"
      ]
    },
    {
      "cell_type": "code",
      "metadata": {
        "id": "-IXvRlig1Qjq",
        "colab": {
          "base_uri": "https://localhost:8080/",
          "height": 399
        },
        "outputId": "967592e1-7437-4ba3-83d7-87ea00c0f557"
      },
      "source": [
        "df_ny=df[df['state']=='New York']\r\n",
        "df_ny"
      ],
      "execution_count": 113,
      "outputs": [
        {
          "output_type": "execute_result",
          "data": {
            "text/html": [
              "<div>\n",
              "<style scoped>\n",
              "    .dataframe tbody tr th:only-of-type {\n",
              "        vertical-align: middle;\n",
              "    }\n",
              "\n",
              "    .dataframe tbody tr th {\n",
              "        vertical-align: top;\n",
              "    }\n",
              "\n",
              "    .dataframe thead th {\n",
              "        text-align: right;\n",
              "    }\n",
              "</style>\n",
              "<table border=\"1\" class=\"dataframe\">\n",
              "  <thead>\n",
              "    <tr style=\"text-align: right;\">\n",
              "      <th></th>\n",
              "      <th>date</th>\n",
              "      <th>state</th>\n",
              "      <th>fips</th>\n",
              "      <th>cases</th>\n",
              "      <th>deaths</th>\n",
              "    </tr>\n",
              "  </thead>\n",
              "  <tbody>\n",
              "    <tr>\n",
              "      <th>246</th>\n",
              "      <td>2020-03-01</td>\n",
              "      <td>New York</td>\n",
              "      <td>36</td>\n",
              "      <td>1</td>\n",
              "      <td>0</td>\n",
              "    </tr>\n",
              "    <tr>\n",
              "      <th>261</th>\n",
              "      <td>2020-03-02</td>\n",
              "      <td>New York</td>\n",
              "      <td>36</td>\n",
              "      <td>1</td>\n",
              "      <td>0</td>\n",
              "    </tr>\n",
              "    <tr>\n",
              "      <th>276</th>\n",
              "      <td>2020-03-03</td>\n",
              "      <td>New York</td>\n",
              "      <td>36</td>\n",
              "      <td>2</td>\n",
              "      <td>0</td>\n",
              "    </tr>\n",
              "    <tr>\n",
              "      <th>293</th>\n",
              "      <td>2020-03-04</td>\n",
              "      <td>New York</td>\n",
              "      <td>36</td>\n",
              "      <td>11</td>\n",
              "      <td>0</td>\n",
              "    </tr>\n",
              "    <tr>\n",
              "      <th>313</th>\n",
              "      <td>2020-03-05</td>\n",
              "      <td>New York</td>\n",
              "      <td>36</td>\n",
              "      <td>22</td>\n",
              "      <td>0</td>\n",
              "    </tr>\n",
              "    <tr>\n",
              "      <th>...</th>\n",
              "      <td>...</td>\n",
              "      <td>...</td>\n",
              "      <td>...</td>\n",
              "      <td>...</td>\n",
              "      <td>...</td>\n",
              "    </tr>\n",
              "    <tr>\n",
              "      <th>17427</th>\n",
              "      <td>2021-01-13</td>\n",
              "      <td>New York</td>\n",
              "      <td>36</td>\n",
              "      <td>1179523</td>\n",
              "      <td>39760</td>\n",
              "    </tr>\n",
              "    <tr>\n",
              "      <th>17482</th>\n",
              "      <td>2021-01-14</td>\n",
              "      <td>New York</td>\n",
              "      <td>36</td>\n",
              "      <td>1193710</td>\n",
              "      <td>39997</td>\n",
              "    </tr>\n",
              "    <tr>\n",
              "      <th>17537</th>\n",
              "      <td>2021-01-15</td>\n",
              "      <td>New York</td>\n",
              "      <td>36</td>\n",
              "      <td>1213179</td>\n",
              "      <td>40203</td>\n",
              "    </tr>\n",
              "    <tr>\n",
              "      <th>17592</th>\n",
              "      <td>2021-01-16</td>\n",
              "      <td>New York</td>\n",
              "      <td>36</td>\n",
              "      <td>1229124</td>\n",
              "      <td>40376</td>\n",
              "    </tr>\n",
              "    <tr>\n",
              "      <th>17647</th>\n",
              "      <td>2021-01-17</td>\n",
              "      <td>New York</td>\n",
              "      <td>36</td>\n",
              "      <td>1242818</td>\n",
              "      <td>40570</td>\n",
              "    </tr>\n",
              "  </tbody>\n",
              "</table>\n",
              "<p>323 rows × 5 columns</p>\n",
              "</div>"
            ],
            "text/plain": [
              "            date     state  fips    cases  deaths\n",
              "246   2020-03-01  New York    36        1       0\n",
              "261   2020-03-02  New York    36        1       0\n",
              "276   2020-03-03  New York    36        2       0\n",
              "293   2020-03-04  New York    36       11       0\n",
              "313   2020-03-05  New York    36       22       0\n",
              "...          ...       ...   ...      ...     ...\n",
              "17427 2021-01-13  New York    36  1179523   39760\n",
              "17482 2021-01-14  New York    36  1193710   39997\n",
              "17537 2021-01-15  New York    36  1213179   40203\n",
              "17592 2021-01-16  New York    36  1229124   40376\n",
              "17647 2021-01-17  New York    36  1242818   40570\n",
              "\n",
              "[323 rows x 5 columns]"
            ]
          },
          "metadata": {
            "tags": []
          },
          "execution_count": 113
        }
      ]
    },
    {
      "cell_type": "code",
      "metadata": {
        "id": "vAPsO4Yq1yAj",
        "colab": {
          "base_uri": "https://localhost:8080/",
          "height": 282
        },
        "outputId": "c61cfe54-9035-4731-b1e2-98120bfe8f7a"
      },
      "source": [
        "df_ny.describe()"
      ],
      "execution_count": 114,
      "outputs": [
        {
          "output_type": "execute_result",
          "data": {
            "text/html": [
              "<div>\n",
              "<style scoped>\n",
              "    .dataframe tbody tr th:only-of-type {\n",
              "        vertical-align: middle;\n",
              "    }\n",
              "\n",
              "    .dataframe tbody tr th {\n",
              "        vertical-align: top;\n",
              "    }\n",
              "\n",
              "    .dataframe thead th {\n",
              "        text-align: right;\n",
              "    }\n",
              "</style>\n",
              "<table border=\"1\" class=\"dataframe\">\n",
              "  <thead>\n",
              "    <tr style=\"text-align: right;\">\n",
              "      <th></th>\n",
              "      <th>fips</th>\n",
              "      <th>cases</th>\n",
              "      <th>deaths</th>\n",
              "    </tr>\n",
              "  </thead>\n",
              "  <tbody>\n",
              "    <tr>\n",
              "      <th>count</th>\n",
              "      <td>323.0</td>\n",
              "      <td>3.230000e+02</td>\n",
              "      <td>323.000000</td>\n",
              "    </tr>\n",
              "    <tr>\n",
              "      <th>mean</th>\n",
              "      <td>36.0</td>\n",
              "      <td>4.498481e+05</td>\n",
              "      <td>27816.811146</td>\n",
              "    </tr>\n",
              "    <tr>\n",
              "      <th>std</th>\n",
              "      <td>0.0</td>\n",
              "      <td>2.542205e+05</td>\n",
              "      <td>10960.953599</td>\n",
              "    </tr>\n",
              "    <tr>\n",
              "      <th>min</th>\n",
              "      <td>36.0</td>\n",
              "      <td>1.000000e+00</td>\n",
              "      <td>0.000000</td>\n",
              "    </tr>\n",
              "    <tr>\n",
              "      <th>25%</th>\n",
              "      <td>36.0</td>\n",
              "      <td>3.602740e+05</td>\n",
              "      <td>28601.500000</td>\n",
              "    </tr>\n",
              "    <tr>\n",
              "      <th>50%</th>\n",
              "      <td>36.0</td>\n",
              "      <td>4.255680e+05</td>\n",
              "      <td>32399.000000</td>\n",
              "    </tr>\n",
              "    <tr>\n",
              "      <th>75%</th>\n",
              "      <td>36.0</td>\n",
              "      <td>5.066645e+05</td>\n",
              "      <td>33117.500000</td>\n",
              "    </tr>\n",
              "    <tr>\n",
              "      <th>max</th>\n",
              "      <td>36.0</td>\n",
              "      <td>1.242818e+06</td>\n",
              "      <td>40570.000000</td>\n",
              "    </tr>\n",
              "  </tbody>\n",
              "</table>\n",
              "</div>"
            ],
            "text/plain": [
              "        fips         cases        deaths\n",
              "count  323.0  3.230000e+02    323.000000\n",
              "mean    36.0  4.498481e+05  27816.811146\n",
              "std      0.0  2.542205e+05  10960.953599\n",
              "min     36.0  1.000000e+00      0.000000\n",
              "25%     36.0  3.602740e+05  28601.500000\n",
              "50%     36.0  4.255680e+05  32399.000000\n",
              "75%     36.0  5.066645e+05  33117.500000\n",
              "max     36.0  1.242818e+06  40570.000000"
            ]
          },
          "metadata": {
            "tags": []
          },
          "execution_count": 114
        }
      ]
    },
    {
      "cell_type": "code",
      "metadata": {
        "colab": {
          "base_uri": "https://localhost:8080/"
        },
        "id": "53sI_GsG6QUy",
        "outputId": "4e0dd53a-a4e3-454d-ae53-868b3f181d7e"
      },
      "source": [
        "df_ny.mean()"
      ],
      "execution_count": 158,
      "outputs": [
        {
          "output_type": "stream",
          "text": [
            "/usr/local/lib/python3.6/dist-packages/ipykernel_launcher.py:1: FutureWarning: DataFrame.mean and DataFrame.median with numeric_only=None will include datetime64 and datetime64tz columns in a future version.\n",
            "  \"\"\"Entry point for launching an IPython kernel.\n"
          ],
          "name": "stderr"
        },
        {
          "output_type": "execute_result",
          "data": {
            "text/plain": [
              "fips             36.000000\n",
              "cases        449848.142415\n",
              "deaths        27816.811146\n",
              "new_cases      3847.733746\n",
              "dtype: float64"
            ]
          },
          "metadata": {
            "tags": []
          },
          "execution_count": 158
        }
      ]
    },
    {
      "cell_type": "code",
      "metadata": {
        "id": "XNuZqUlI1096",
        "colab": {
          "base_uri": "https://localhost:8080/",
          "height": 675
        },
        "outputId": "7c6f840b-a2ff-43a3-adb0-e7db41ed6307"
      },
      "source": [
        "sns.jointplot(x='date', y='cases', data=df_ny,kind='scatter',height=9)"
      ],
      "execution_count": 115,
      "outputs": [
        {
          "output_type": "execute_result",
          "data": {
            "text/plain": [
              "<seaborn.axisgrid.JointGrid at 0x7ff2563aa3c8>"
            ]
          },
          "metadata": {
            "tags": []
          },
          "execution_count": 115
        },
        {
          "output_type": "display_data",
          "data": {
            "image/png": "[encoded data removed]",
            "text/plain": [
              "<Figure size 648x648 with 3 Axes>"
            ]
          },
          "metadata": {
            "tags": [],
            "needs_background": "light"
          }
        }
      ]
    },
    {
      "cell_type": "code",
      "metadata": {
        "id": "z7sGUFdO2CAo",
        "colab": {
          "base_uri": "https://localhost:8080/",
          "height": 675
        },
        "outputId": "27026185-c040-4ba4-90f9-9de836ea5bef"
      },
      "source": [
        "sns.jointplot(x='date', y='deaths', data=df_ny,kind='scatter',height=9)"
      ],
      "execution_count": 116,
      "outputs": [
        {
          "output_type": "execute_result",
          "data": {
            "text/plain": [
              "<seaborn.axisgrid.JointGrid at 0x7ff2549c84e0>"
            ]
          },
          "metadata": {
            "tags": []
          },
          "execution_count": 116
        },
        {
          "output_type": "display_data",
          "data": {
            "image/png": "[encoded data removed]",
            "text/plain": [
              "<Figure size 648x648 with 3 Axes>"
            ]
          },
          "metadata": {
            "tags": [],
            "needs_background": "light"
          }
        }
      ]
    },
    {
      "cell_type": "code",
      "metadata": {
        "id": "TNYs0GNm4K5O",
        "colab": {
          "base_uri": "https://localhost:8080/",
          "height": 531
        },
        "outputId": "1a3b441a-20b3-4de6-fbf1-2607a18532c8"
      },
      "source": [
        "sns.jointplot(x='cases', y='deaths', data=df_ny,kind='scatter',height=7)"
      ],
      "execution_count": 117,
      "outputs": [
        {
          "output_type": "execute_result",
          "data": {
            "text/plain": [
              "<seaborn.axisgrid.JointGrid at 0x7ff25489df60>"
            ]
          },
          "metadata": {
            "tags": []
          },
          "execution_count": 117
        },
        {
          "output_type": "display_data",
          "data": {
            "image/png": "[encoded data removed]",
            "text/plain": [
              "<Figure size 504x504 with 3 Axes>"
            ]
          },
          "metadata": {
            "tags": [],
            "needs_background": "light"
          }
        }
      ]
    },
    {
      "cell_type": "code",
      "metadata": {
        "colab": {
          "base_uri": "https://localhost:8080/",
          "height": 531
        },
        "id": "vVdC-TY7qT_P",
        "outputId": "b12b9ba6-a9fa-4fa0-ab5b-243368cd5009"
      },
      "source": [
        "sns.jointplot(x='deaths', y='cases', data=df_ny,kind='scatter',height=7)"
      ],
      "execution_count": 118,
      "outputs": [
        {
          "output_type": "execute_result",
          "data": {
            "text/plain": [
              "<seaborn.axisgrid.JointGrid at 0x7ff2546c7080>"
            ]
          },
          "metadata": {
            "tags": []
          },
          "execution_count": 118
        },
        {
          "output_type": "display_data",
          "data": {
            "image/png": "[encoded data removed]",
            "text/plain": [
              "<Figure size 504x504 with 3 Axes>"
            ]
          },
          "metadata": {
            "tags": [],
            "needs_background": "light"
          }
        }
      ]
    },
    {
      "cell_type": "code",
      "metadata": {
        "colab": {
          "base_uri": "https://localhost:8080/",
          "height": 363
        },
        "id": "weyrXAJww3X3",
        "outputId": "3effd2c9-496b-4802-bc2e-d474a0a16d19"
      },
      "source": [
        "sns.distplot(df_ny['cases'], bins=7,color='green',kde=True)"
      ],
      "execution_count": 119,
      "outputs": [
        {
          "output_type": "stream",
          "text": [
            "/usr/local/lib/python3.6/dist-packages/seaborn/distributions.py:2557: FutureWarning: `distplot` is a deprecated function and will be removed in a future version. Please adapt your code to use either `displot` (a figure-level function with similar flexibility) or `histplot` (an axes-level function for histograms).\n",
            "  warnings.warn(msg, FutureWarning)\n"
          ],
          "name": "stderr"
        },
        {
          "output_type": "execute_result",
          "data": {
            "text/plain": [
              "<matplotlib.axes._subplots.AxesSubplot at 0x7ff254531ba8>"
            ]
          },
          "metadata": {
            "tags": []
          },
          "execution_count": 119
        },
        {
          "output_type": "display_data",
          "data": {
            "image/png": "[encoded data removed]",
            "text/plain": [
              "<Figure size 432x288 with 1 Axes>"
            ]
          },
          "metadata": {
            "tags": [],
            "needs_background": "light"
          }
        }
      ]
    },
    {
      "cell_type": "code",
      "metadata": {
        "colab": {
          "base_uri": "https://localhost:8080/",
          "height": 352
        },
        "id": "gmSafUNmw3g8",
        "outputId": "b1e9e658-ddc6-4f51-9b48-aab9fbab1d69"
      },
      "source": [
        "sns.distplot(df_ny['deaths'], bins=7,color='green',kde=True)"
      ],
      "execution_count": 120,
      "outputs": [
        {
          "output_type": "stream",
          "text": [
            "/usr/local/lib/python3.6/dist-packages/seaborn/distributions.py:2557: FutureWarning: `distplot` is a deprecated function and will be removed in a future version. Please adapt your code to use either `displot` (a figure-level function with similar flexibility) or `histplot` (an axes-level function for histograms).\n",
            "  warnings.warn(msg, FutureWarning)\n"
          ],
          "name": "stderr"
        },
        {
          "output_type": "execute_result",
          "data": {
            "text/plain": [
              "<matplotlib.axes._subplots.AxesSubplot at 0x7ff25455bba8>"
            ]
          },
          "metadata": {
            "tags": []
          },
          "execution_count": 120
        },
        {
          "output_type": "display_data",
          "data": {
            "image/png": "[encoded data removed]",
            "text/plain": [
              "<Figure size 432x288 with 1 Axes>"
            ]
          },
          "metadata": {
            "tags": [],
            "needs_background": "light"
          }
        }
      ]
    },
    {
      "cell_type": "markdown",
      "metadata": {
        "id": "vUbZP5tccvEp"
      },
      "source": [
        "**2. Find new covid 19 cases daily basis (new cases added everyday)**"
      ]
    },
    {
      "cell_type": "code",
      "metadata": {
        "colab": {
          "base_uri": "https://localhost:8080/"
        },
        "id": "g0VGI1auqS6y",
        "outputId": "7f6cb770-aaef-4c5b-81b7-7efa51c57359"
      },
      "source": [
        "newcases = []\r\n",
        "previous_cases = 0\r\n",
        "for index, row in df_ny.iterrows():\r\n",
        "  current_cases = row['cases']\r\n",
        "  newcases_count = current_cases - previous_cases\r\n",
        "  previous_cases = current_cases\r\n",
        "  newcases.append(newcases_count)\r\n",
        "  print(newcases_count)"
      ],
      "execution_count": 125,
      "outputs": [
        {
          "output_type": "stream",
          "text": [
            "1\n",
            "0\n",
            "1\n",
            "9\n",
            "11\n",
            "22\n",
            "45\n",
            "17\n",
            "36\n",
            "31\n",
            "44\n",
            "109\n",
            "95\n",
            "189\n",
            "122\n",
            "218\n",
            "425\n",
            "1012\n",
            "1774\n",
            "2952\n",
            "3258\n",
            "4817\n",
            "5711\n",
            "4805\n",
            "7413\n",
            "5941\n",
            "5688\n",
            "8771\n",
            "6266\n",
            "7721\n",
            "8707\n",
            "8153\n",
            "8996\n",
            "10329\n",
            "12274\n",
            "8122\n",
            "9304\n",
            "8314\n",
            "9568\n",
            "10765\n",
            "10794\n",
            "10160\n",
            "8435\n",
            "6548\n",
            "7402\n",
            "11755\n",
            "8631\n",
            "7532\n",
            "7249\n",
            "6199\n",
            "4867\n",
            "4324\n",
            "5659\n",
            "6341\n",
            "8286\n",
            "10683\n",
            "6013\n",
            "4077\n",
            "3285\n",
            "4718\n",
            "4702\n",
            "3879\n",
            "4559\n",
            "3699\n",
            "2524\n",
            "2302\n",
            "2746\n",
            "3526\n",
            "2873\n",
            "2715\n",
            "2138\n",
            "1610\n",
            "1438\n",
            "2123\n",
            "2364\n",
            "2759\n",
            "2185\n",
            "1901\n",
            "1241\n",
            "1479\n",
            "1478\n",
            "2078\n",
            "1678\n",
            "1754\n",
            "1601\n",
            "1279\n",
            "1044\n",
            "1132\n",
            "1758\n",
            "1549\n",
            "1363\n",
            "1104\n",
            "945\n",
            "1361\n",
            "1043\n",
            "1053\n",
            "1042\n",
            "1083\n",
            "777\n",
            "712\n",
            "690\n",
            "664\n",
            "724\n",
            "821\n",
            "912\n",
            "694\n",
            "623\n",
            "630\n",
            "561\n",
            "626\n",
            "794\n",
            "707\n",
            "665\n",
            "555\n",
            "598\n",
            "575\n",
            "738\n",
            "804\n",
            "697\n",
            "624\n",
            "391\n",
            "458\n",
            "628\n",
            "872\n",
            "919\n",
            "725\n",
            "536\n",
            "516\n",
            "590\n",
            "691\n",
            "588\n",
            "790\n",
            "727\n",
            "679\n",
            "559\n",
            "913\n",
            "834\n",
            "767\n",
            "778\n",
            "752\n",
            "509\n",
            "519\n",
            "855\n",
            "706\n",
            "810\n",
            "758\n",
            "748\n",
            "532\n",
            "613\n",
            "535\n",
            "711\n",
            "779\n",
            "642\n",
            "754\n",
            "531\n",
            "542\n",
            "746\n",
            "639\n",
            "694\n",
            "720\n",
            "706\n",
            "513\n",
            "478\n",
            "667\n",
            "706\n",
            "736\n",
            "724\n",
            "738\n",
            "609\n",
            "410\n",
            "662\n",
            "626\n",
            "599\n",
            "707\n",
            "651\n",
            "581\n",
            "404\n",
            "629\n",
            "568\n",
            "789\n",
            "635\n",
            "635\n",
            "709\n",
            "649\n",
            "757\n",
            "710\n",
            "888\n",
            "863\n",
            "799\n",
            "729\n",
            "525\n",
            "557\n",
            "573\n",
            "756\n",
            "861\n",
            "849\n",
            "725\n",
            "586\n",
            "767\n",
            "653\n",
            "893\n",
            "793\n",
            "983\n",
            "865\n",
            "575\n",
            "751\n",
            "666\n",
            "953\n",
            "909\n",
            "1006\n",
            "868\n",
            "836\n",
            "1188\n",
            "1005\n",
            "1383\n",
            "1601\n",
            "1728\n",
            "1226\n",
            "937\n",
            "1394\n",
            "1356\n",
            "1835\n",
            "1593\n",
            "1448\n",
            "1143\n",
            "1032\n",
            "1391\n",
            "1235\n",
            "1464\n",
            "1703\n",
            "1788\n",
            "1390\n",
            "999\n",
            "1201\n",
            "2029\n",
            "1629\n",
            "1636\n",
            "2058\n",
            "1633\n",
            "1192\n",
            "1994\n",
            "2029\n",
            "2497\n",
            "2258\n",
            "2052\n",
            "2259\n",
            "1632\n",
            "2317\n",
            "2126\n",
            "3002\n",
            "3208\n",
            "3587\n",
            "3430\n",
            "3149\n",
            "3964\n",
            "4821\n",
            "4798\n",
            "5401\n",
            "5391\n",
            "3644\n",
            "3498\n",
            "5094\n",
            "5282\n",
            "5302\n",
            "5477\n",
            "5976\n",
            "5386\n",
            "5911\n",
            "4878\n",
            "6267\n",
            "6938\n",
            "8179\n",
            "6060\n",
            "6732\n",
            "6816\n",
            "7293\n",
            "8975\n",
            "9853\n",
            "11274\n",
            "10759\n",
            "9710\n",
            "8379\n",
            "9019\n",
            "10937\n",
            "10257\n",
            "10561\n",
            "11039\n",
            "10027\n",
            "8984\n",
            "9736\n",
            "9378\n",
            "10498\n",
            "12606\n",
            "9913\n",
            "9454\n",
            "9456\n",
            "10299\n",
            "11740\n",
            "13347\n",
            "12881\n",
            "11048\n",
            "8205\n",
            "10334\n",
            "12020\n",
            "12917\n",
            "15393\n",
            "17033\n",
            "15849\n",
            "12232\n",
            "11242\n",
            "13142\n",
            "16016\n",
            "17588\n",
            "19560\n",
            "17839\n",
            "16308\n",
            "14179\n",
            "14791\n",
            "14704\n",
            "14187\n",
            "19469\n",
            "15945\n",
            "13694\n"
          ],
          "name": "stdout"
        }
      ]
    },
    {
      "cell_type": "code",
      "metadata": {
        "id": "g-isLW6s4XaJ",
        "colab": {
          "base_uri": "https://localhost:8080/"
        },
        "outputId": "7c847aa6-6e82-4053-f9e6-d81d309fe1c4"
      },
      "source": [
        "df_ny['new_cases'] = newcases\r\n",
        "ny_cases = df_ny['cases']\r\n",
        "ny_deaths = df_ny['deaths']\r\n",
        "ny_dates = df_ny['date']\r\n",
        "ny_new_cases = df_ny['new_cases']"
      ],
      "execution_count": 159,
      "outputs": [
        {
          "output_type": "stream",
          "text": [
            "/usr/local/lib/python3.6/dist-packages/ipykernel_launcher.py:1: SettingWithCopyWarning: \n",
            "A value is trying to be set on a copy of a slice from a DataFrame.\n",
            "Try using .loc[row_indexer,col_indexer] = value instead\n",
            "\n",
            "See the caveats in the documentation: https://pandas.pydata.org/pandas-docs/stable/user_guide/indexing.html#returning-a-view-versus-a-copy\n",
            "  \"\"\"Entry point for launching an IPython kernel.\n"
          ],
          "name": "stderr"
        }
      ]
    },
    {
      "cell_type": "code",
      "metadata": {
        "id": "yKryzOu25uDi",
        "colab": {
          "base_uri": "https://localhost:8080/",
          "height": 460
        },
        "outputId": "792b08a6-912c-425b-9ea9-cbec3105ed0f"
      },
      "source": [
        "plt.figure(figsize=(25,7))\r\n",
        "plt.bar(x=ny_dates, height=ny_new_cases, color='red')\r\n",
        "plt.xticks(rotation=90)\r\n",
        "plt.show()"
      ],
      "execution_count": 160,
      "outputs": [
        {
          "output_type": "display_data",
          "data": {
            "image/png": "[encoded data removed]",
            "text/plain": [
              "<Figure size 1800x504 with 1 Axes>"
            ]
          },
          "metadata": {
            "tags": [],
            "needs_background": "light"
          }
        }
      ]
    },
    {
      "cell_type": "code",
      "metadata": {
        "id": "-PtteplsAWT-"
      },
      "source": [
        ""
      ],
      "execution_count": 125,
      "outputs": []
    },
    {
      "cell_type": "markdown",
      "metadata": {
        "id": "IKuLfv3SF27O"
      },
      "source": [
        "# Task4: Understand NY covid 19 data in last 30 days"
      ]
    },
    {
      "cell_type": "code",
      "metadata": {
        "colab": {
          "base_uri": "https://localhost:8080/",
          "height": 927
        },
        "id": "jFeJyM6D0IG0",
        "outputId": "7b933070-4d3c-4849-a0b6-90db11b3a0be"
      },
      "source": [
        "df_ny_30=df_ny.tail(30)\r\n",
        "df_ny_30"
      ],
      "execution_count": 142,
      "outputs": [
        {
          "output_type": "execute_result",
          "data": {
            "text/html": [
              "<div>\n",
              "<style scoped>\n",
              "    .dataframe tbody tr th:only-of-type {\n",
              "        vertical-align: middle;\n",
              "    }\n",
              "\n",
              "    .dataframe tbody tr th {\n",
              "        vertical-align: top;\n",
              "    }\n",
              "\n",
              "    .dataframe thead th {\n",
              "        text-align: right;\n",
              "    }\n",
              "</style>\n",
              "<table border=\"1\" class=\"dataframe\">\n",
              "  <thead>\n",
              "    <tr style=\"text-align: right;\">\n",
              "      <th></th>\n",
              "      <th>date</th>\n",
              "      <th>state</th>\n",
              "      <th>fips</th>\n",
              "      <th>cases</th>\n",
              "      <th>deaths</th>\n",
              "      <th>new_cases</th>\n",
              "    </tr>\n",
              "  </thead>\n",
              "  <tbody>\n",
              "    <tr>\n",
              "      <th>16052</th>\n",
              "      <td>2020-12-19</td>\n",
              "      <td>New York</td>\n",
              "      <td>36</td>\n",
              "      <td>841946</td>\n",
              "      <td>35897</td>\n",
              "      <td>9913</td>\n",
              "    </tr>\n",
              "    <tr>\n",
              "      <th>16107</th>\n",
              "      <td>2020-12-20</td>\n",
              "      <td>New York</td>\n",
              "      <td>36</td>\n",
              "      <td>851400</td>\n",
              "      <td>36017</td>\n",
              "      <td>9454</td>\n",
              "    </tr>\n",
              "    <tr>\n",
              "      <th>16162</th>\n",
              "      <td>2020-12-21</td>\n",
              "      <td>New York</td>\n",
              "      <td>36</td>\n",
              "      <td>860856</td>\n",
              "      <td>36147</td>\n",
              "      <td>9456</td>\n",
              "    </tr>\n",
              "    <tr>\n",
              "      <th>16217</th>\n",
              "      <td>2020-12-22</td>\n",
              "      <td>New York</td>\n",
              "      <td>36</td>\n",
              "      <td>871155</td>\n",
              "      <td>36300</td>\n",
              "      <td>10299</td>\n",
              "    </tr>\n",
              "    <tr>\n",
              "      <th>16272</th>\n",
              "      <td>2020-12-23</td>\n",
              "      <td>New York</td>\n",
              "      <td>36</td>\n",
              "      <td>882895</td>\n",
              "      <td>36454</td>\n",
              "      <td>11740</td>\n",
              "    </tr>\n",
              "    <tr>\n",
              "      <th>16327</th>\n",
              "      <td>2020-12-24</td>\n",
              "      <td>New York</td>\n",
              "      <td>36</td>\n",
              "      <td>896242</td>\n",
              "      <td>36604</td>\n",
              "      <td>13347</td>\n",
              "    </tr>\n",
              "    <tr>\n",
              "      <th>16382</th>\n",
              "      <td>2020-12-25</td>\n",
              "      <td>New York</td>\n",
              "      <td>36</td>\n",
              "      <td>909123</td>\n",
              "      <td>36739</td>\n",
              "      <td>12881</td>\n",
              "    </tr>\n",
              "    <tr>\n",
              "      <th>16437</th>\n",
              "      <td>2020-12-26</td>\n",
              "      <td>New York</td>\n",
              "      <td>36</td>\n",
              "      <td>920171</td>\n",
              "      <td>36870</td>\n",
              "      <td>11048</td>\n",
              "    </tr>\n",
              "    <tr>\n",
              "      <th>16492</th>\n",
              "      <td>2020-12-27</td>\n",
              "      <td>New York</td>\n",
              "      <td>36</td>\n",
              "      <td>928376</td>\n",
              "      <td>37000</td>\n",
              "      <td>8205</td>\n",
              "    </tr>\n",
              "    <tr>\n",
              "      <th>16547</th>\n",
              "      <td>2020-12-28</td>\n",
              "      <td>New York</td>\n",
              "      <td>36</td>\n",
              "      <td>938710</td>\n",
              "      <td>37118</td>\n",
              "      <td>10334</td>\n",
              "    </tr>\n",
              "    <tr>\n",
              "      <th>16602</th>\n",
              "      <td>2020-12-29</td>\n",
              "      <td>New York</td>\n",
              "      <td>36</td>\n",
              "      <td>950730</td>\n",
              "      <td>37256</td>\n",
              "      <td>12020</td>\n",
              "    </tr>\n",
              "    <tr>\n",
              "      <th>16657</th>\n",
              "      <td>2020-12-30</td>\n",
              "      <td>New York</td>\n",
              "      <td>36</td>\n",
              "      <td>963647</td>\n",
              "      <td>37412</td>\n",
              "      <td>12917</td>\n",
              "    </tr>\n",
              "    <tr>\n",
              "      <th>16712</th>\n",
              "      <td>2020-12-31</td>\n",
              "      <td>New York</td>\n",
              "      <td>36</td>\n",
              "      <td>979040</td>\n",
              "      <td>37557</td>\n",
              "      <td>15393</td>\n",
              "    </tr>\n",
              "    <tr>\n",
              "      <th>16767</th>\n",
              "      <td>2021-01-01</td>\n",
              "      <td>New York</td>\n",
              "      <td>36</td>\n",
              "      <td>996073</td>\n",
              "      <td>37733</td>\n",
              "      <td>17033</td>\n",
              "    </tr>\n",
              "    <tr>\n",
              "      <th>16822</th>\n",
              "      <td>2021-01-02</td>\n",
              "      <td>New York</td>\n",
              "      <td>36</td>\n",
              "      <td>1011922</td>\n",
              "      <td>37854</td>\n",
              "      <td>15849</td>\n",
              "    </tr>\n",
              "    <tr>\n",
              "      <th>16877</th>\n",
              "      <td>2021-01-03</td>\n",
              "      <td>New York</td>\n",
              "      <td>36</td>\n",
              "      <td>1024154</td>\n",
              "      <td>38001</td>\n",
              "      <td>12232</td>\n",
              "    </tr>\n",
              "    <tr>\n",
              "      <th>16932</th>\n",
              "      <td>2021-01-04</td>\n",
              "      <td>New York</td>\n",
              "      <td>36</td>\n",
              "      <td>1035396</td>\n",
              "      <td>38167</td>\n",
              "      <td>11242</td>\n",
              "    </tr>\n",
              "    <tr>\n",
              "      <th>16987</th>\n",
              "      <td>2021-01-05</td>\n",
              "      <td>New York</td>\n",
              "      <td>36</td>\n",
              "      <td>1048538</td>\n",
              "      <td>38315</td>\n",
              "      <td>13142</td>\n",
              "    </tr>\n",
              "    <tr>\n",
              "      <th>17042</th>\n",
              "      <td>2021-01-06</td>\n",
              "      <td>New York</td>\n",
              "      <td>36</td>\n",
              "      <td>1064554</td>\n",
              "      <td>38486</td>\n",
              "      <td>16016</td>\n",
              "    </tr>\n",
              "    <tr>\n",
              "      <th>17097</th>\n",
              "      <td>2021-01-07</td>\n",
              "      <td>New York</td>\n",
              "      <td>36</td>\n",
              "      <td>1082142</td>\n",
              "      <td>38683</td>\n",
              "      <td>17588</td>\n",
              "    </tr>\n",
              "    <tr>\n",
              "      <th>17152</th>\n",
              "      <td>2021-01-08</td>\n",
              "      <td>New York</td>\n",
              "      <td>36</td>\n",
              "      <td>1101702</td>\n",
              "      <td>38846</td>\n",
              "      <td>19560</td>\n",
              "    </tr>\n",
              "    <tr>\n",
              "      <th>17207</th>\n",
              "      <td>2021-01-09</td>\n",
              "      <td>New York</td>\n",
              "      <td>36</td>\n",
              "      <td>1119541</td>\n",
              "      <td>39041</td>\n",
              "      <td>17839</td>\n",
              "    </tr>\n",
              "    <tr>\n",
              "      <th>17262</th>\n",
              "      <td>2021-01-10</td>\n",
              "      <td>New York</td>\n",
              "      <td>36</td>\n",
              "      <td>1135849</td>\n",
              "      <td>39208</td>\n",
              "      <td>16308</td>\n",
              "    </tr>\n",
              "    <tr>\n",
              "      <th>17317</th>\n",
              "      <td>2021-01-11</td>\n",
              "      <td>New York</td>\n",
              "      <td>36</td>\n",
              "      <td>1150028</td>\n",
              "      <td>39404</td>\n",
              "      <td>14179</td>\n",
              "    </tr>\n",
              "    <tr>\n",
              "      <th>17372</th>\n",
              "      <td>2021-01-12</td>\n",
              "      <td>New York</td>\n",
              "      <td>36</td>\n",
              "      <td>1164819</td>\n",
              "      <td>39588</td>\n",
              "      <td>14791</td>\n",
              "    </tr>\n",
              "    <tr>\n",
              "      <th>17427</th>\n",
              "      <td>2021-01-13</td>\n",
              "      <td>New York</td>\n",
              "      <td>36</td>\n",
              "      <td>1179523</td>\n",
              "      <td>39760</td>\n",
              "      <td>14704</td>\n",
              "    </tr>\n",
              "    <tr>\n",
              "      <th>17482</th>\n",
              "      <td>2021-01-14</td>\n",
              "      <td>New York</td>\n",
              "      <td>36</td>\n",
              "      <td>1193710</td>\n",
              "      <td>39997</td>\n",
              "      <td>14187</td>\n",
              "    </tr>\n",
              "    <tr>\n",
              "      <th>17537</th>\n",
              "      <td>2021-01-15</td>\n",
              "      <td>New York</td>\n",
              "      <td>36</td>\n",
              "      <td>1213179</td>\n",
              "      <td>40203</td>\n",
              "      <td>19469</td>\n",
              "    </tr>\n",
              "    <tr>\n",
              "      <th>17592</th>\n",
              "      <td>2021-01-16</td>\n",
              "      <td>New York</td>\n",
              "      <td>36</td>\n",
              "      <td>1229124</td>\n",
              "      <td>40376</td>\n",
              "      <td>15945</td>\n",
              "    </tr>\n",
              "    <tr>\n",
              "      <th>17647</th>\n",
              "      <td>2021-01-17</td>\n",
              "      <td>New York</td>\n",
              "      <td>36</td>\n",
              "      <td>1242818</td>\n",
              "      <td>40570</td>\n",
              "      <td>13694</td>\n",
              "    </tr>\n",
              "  </tbody>\n",
              "</table>\n",
              "</div>"
            ],
            "text/plain": [
              "            date     state  fips    cases  deaths  new_cases\n",
              "16052 2020-12-19  New York    36   841946   35897       9913\n",
              "16107 2020-12-20  New York    36   851400   36017       9454\n",
              "16162 2020-12-21  New York    36   860856   36147       9456\n",
              "16217 2020-12-22  New York    36   871155   36300      10299\n",
              "16272 2020-12-23  New York    36   882895   36454      11740\n",
              "16327 2020-12-24  New York    36   896242   36604      13347\n",
              "16382 2020-12-25  New York    36   909123   36739      12881\n",
              "16437 2020-12-26  New York    36   920171   36870      11048\n",
              "16492 2020-12-27  New York    36   928376   37000       8205\n",
              "16547 2020-12-28  New York    36   938710   37118      10334\n",
              "16602 2020-12-29  New York    36   950730   37256      12020\n",
              "16657 2020-12-30  New York    36   963647   37412      12917\n",
              "16712 2020-12-31  New York    36   979040   37557      15393\n",
              "16767 2021-01-01  New York    36   996073   37733      17033\n",
              "16822 2021-01-02  New York    36  1011922   37854      15849\n",
              "16877 2021-01-03  New York    36  1024154   38001      12232\n",
              "16932 2021-01-04  New York    36  1035396   38167      11242\n",
              "16987 2021-01-05  New York    36  1048538   38315      13142\n",
              "17042 2021-01-06  New York    36  1064554   38486      16016\n",
              "17097 2021-01-07  New York    36  1082142   38683      17588\n",
              "17152 2021-01-08  New York    36  1101702   38846      19560\n",
              "17207 2021-01-09  New York    36  1119541   39041      17839\n",
              "17262 2021-01-10  New York    36  1135849   39208      16308\n",
              "17317 2021-01-11  New York    36  1150028   39404      14179\n",
              "17372 2021-01-12  New York    36  1164819   39588      14791\n",
              "17427 2021-01-13  New York    36  1179523   39760      14704\n",
              "17482 2021-01-14  New York    36  1193710   39997      14187\n",
              "17537 2021-01-15  New York    36  1213179   40203      19469\n",
              "17592 2021-01-16  New York    36  1229124   40376      15945\n",
              "17647 2021-01-17  New York    36  1242818   40570      13694"
            ]
          },
          "metadata": {
            "tags": []
          },
          "execution_count": 142
        }
      ]
    },
    {
      "cell_type": "code",
      "metadata": {
        "colab": {
          "base_uri": "https://localhost:8080/",
          "height": 282
        },
        "id": "eQHAmCmA0IUc",
        "outputId": "e6293d17-79c0-4ed4-acf7-e75ef514136c"
      },
      "source": [
        "df_ny_30.describe()"
      ],
      "execution_count": 143,
      "outputs": [
        {
          "output_type": "execute_result",
          "data": {
            "text/html": [
              "<div>\n",
              "<style scoped>\n",
              "    .dataframe tbody tr th:only-of-type {\n",
              "        vertical-align: middle;\n",
              "    }\n",
              "\n",
              "    .dataframe tbody tr th {\n",
              "        vertical-align: top;\n",
              "    }\n",
              "\n",
              "    .dataframe thead th {\n",
              "        text-align: right;\n",
              "    }\n",
              "</style>\n",
              "<table border=\"1\" class=\"dataframe\">\n",
              "  <thead>\n",
              "    <tr style=\"text-align: right;\">\n",
              "      <th></th>\n",
              "      <th>fips</th>\n",
              "      <th>cases</th>\n",
              "      <th>deaths</th>\n",
              "      <th>new_cases</th>\n",
              "    </tr>\n",
              "  </thead>\n",
              "  <tbody>\n",
              "    <tr>\n",
              "      <th>count</th>\n",
              "      <td>30.0</td>\n",
              "      <td>3.000000e+01</td>\n",
              "      <td>30.000000</td>\n",
              "      <td>30.000000</td>\n",
              "    </tr>\n",
              "    <tr>\n",
              "      <th>mean</th>\n",
              "      <td>36.0</td>\n",
              "      <td>1.026245e+06</td>\n",
              "      <td>38053.433333</td>\n",
              "      <td>13692.833333</td>\n",
              "    </tr>\n",
              "    <tr>\n",
              "      <th>std</th>\n",
              "      <td>0.0</td>\n",
              "      <td>1.244613e+05</td>\n",
              "      <td>1408.537752</td>\n",
              "      <td>3025.284428</td>\n",
              "    </tr>\n",
              "    <tr>\n",
              "      <th>min</th>\n",
              "      <td>36.0</td>\n",
              "      <td>8.419460e+05</td>\n",
              "      <td>35897.000000</td>\n",
              "      <td>8205.000000</td>\n",
              "    </tr>\n",
              "    <tr>\n",
              "      <th>25%</th>\n",
              "      <td>36.0</td>\n",
              "      <td>9.222222e+05</td>\n",
              "      <td>36902.500000</td>\n",
              "      <td>11366.500000</td>\n",
              "    </tr>\n",
              "    <tr>\n",
              "      <th>50%</th>\n",
              "      <td>36.0</td>\n",
              "      <td>1.018038e+06</td>\n",
              "      <td>37927.500000</td>\n",
              "      <td>13520.500000</td>\n",
              "    </tr>\n",
              "    <tr>\n",
              "      <th>75%</th>\n",
              "      <td>36.0</td>\n",
              "      <td>1.131772e+06</td>\n",
              "      <td>39166.250000</td>\n",
              "      <td>15921.000000</td>\n",
              "    </tr>\n",
              "    <tr>\n",
              "      <th>max</th>\n",
              "      <td>36.0</td>\n",
              "      <td>1.242818e+06</td>\n",
              "      <td>40570.000000</td>\n",
              "      <td>19560.000000</td>\n",
              "    </tr>\n",
              "  </tbody>\n",
              "</table>\n",
              "</div>"
            ],
            "text/plain": [
              "       fips         cases        deaths     new_cases\n",
              "count  30.0  3.000000e+01     30.000000     30.000000\n",
              "mean   36.0  1.026245e+06  38053.433333  13692.833333\n",
              "std     0.0  1.244613e+05   1408.537752   3025.284428\n",
              "min    36.0  8.419460e+05  35897.000000   8205.000000\n",
              "25%    36.0  9.222222e+05  36902.500000  11366.500000\n",
              "50%    36.0  1.018038e+06  37927.500000  13520.500000\n",
              "75%    36.0  1.131772e+06  39166.250000  15921.000000\n",
              "max    36.0  1.242818e+06  40570.000000  19560.000000"
            ]
          },
          "metadata": {
            "tags": []
          },
          "execution_count": 143
        }
      ]
    },
    {
      "cell_type": "code",
      "metadata": {
        "id": "280y4sHrAyuk"
      },
      "source": [
        "nycases_30 = df_ny['cases'][-31:-1]\r\n",
        "nydeaths_30 = df_ny['deaths'] [-31:-1]\r\n",
        "nydates_30 = df_ny['date'][-31:-1]\r\n",
        "ny_new_cases_30 = df_ny['new_cases'][-31:-1]"
      ],
      "execution_count": 153,
      "outputs": []
    },
    {
      "cell_type": "code",
      "metadata": {
        "id": "BUDcyVRwHY6F",
        "colab": {
          "base_uri": "https://localhost:8080/",
          "height": 476
        },
        "outputId": "2bf074a4-a8f8-4b3d-9e15-48c47b081836"
      },
      "source": [
        "plt.figure(figsize=(15,7))\r\n",
        "plt.bar(x=nydates_30, height=ny_new_cases_30, color='red')\r\n",
        "plt.xticks(rotation=90)\r\n",
        "plt.show()"
      ],
      "execution_count": 154,
      "outputs": [
        {
          "output_type": "display_data",
          "data": {
            "image/png": "[encoded data removed]",
            "text/plain": [
              "<Figure size 1080x504 with 1 Axes>"
            ]
          },
          "metadata": {
            "tags": [],
            "needs_background": "light"
          }
        }
      ]
    },
    {
      "cell_type": "code",
      "metadata": {
        "id": "MrRo6IcSHa6F"
      },
      "source": [
        ""
      ],
      "execution_count": 154,
      "outputs": []
    },
    {
      "cell_type": "markdown",
      "metadata": {
        "id": "PtjNZZmOdAhy"
      },
      "source": [
        "# Task5: Comparing Covid 19 data with different states"
      ]
    },
    {
      "cell_type": "markdown",
      "metadata": {
        "id": "HInHQMh0dHvu"
      },
      "source": [
        "**Let's compare the Covid 19 cases after July for states: New York, California, Florida, Texas, Arizona**"
      ]
    },
    {
      "cell_type": "code",
      "metadata": {
        "id": "vu_eV2RmHvyO"
      },
      "source": [
        "states = ['New York','California','Florida','Texas','Arizona']"
      ],
      "execution_count": 155,
      "outputs": []
    },
    {
      "cell_type": "code",
      "metadata": {
        "id": "2xVCN1IBInu0",
        "colab": {
          "base_uri": "https://localhost:8080/",
          "height": 494
        },
        "outputId": "c5bc48cc-011e-4e83-df1b-d2988f37c41c"
      },
      "source": [
        "#DATE VS CASES\n",
        "plt.figure(figsize=(20,8))\n",
        "for state in states:\n",
        "  df_st = df[(df['state']==state) & (df['date']>='2020-07-31')]\n",
        "  plt.plot(df_st['date'],\n",
        "           df_st['cases'],\n",
        "           linewidth=1.2\n",
        "           )\n",
        "plt.legend(states)\n",
        "plt.show()\n"
      ],
      "execution_count": 156,
      "outputs": [
        {
          "output_type": "display_data",
          "data": {
            "image/png": "[encoded data removed]",
            "text/plain": [
              "<Figure size 1440x576 with 1 Axes>"
            ]
          },
          "metadata": {
            "tags": [],
            "needs_background": "light"
          }
        }
      ]
    },
    {
      "cell_type": "code",
      "metadata": {
        "id": "plEnmYKtyT8a"
      },
      "source": [
        ""
      ],
      "execution_count": 156,
      "outputs": []
    },
    {
      "cell_type": "code",
      "metadata": {
        "colab": {
          "base_uri": "https://localhost:8080/",
          "height": 483
        },
        "id": "lRl6Sb7IyUHi",
        "outputId": "db198747-09be-4f45-de3d-72dfc78f918b"
      },
      "source": [
        "#DATE VS DEATHS\r\n",
        "plt.figure(figsize=(20,8))\r\n",
        "for state in states:\r\n",
        "  df_st = df[(df['state']==state) & (df['date']>='2020-07-31')]\r\n",
        "  plt.plot(df_st['date'],\r\n",
        "           df_st['deaths'],\r\n",
        "           linewidth=1.2\r\n",
        "           )\r\n",
        "plt.legend(states)\r\n",
        "plt.show()"
      ],
      "execution_count": 157,
      "outputs": [
        {
          "output_type": "display_data",
          "data": {
            "image/png": "[encoded data removed]",
            "text/plain": [
              "<Figure size 1440x576 with 1 Axes>"
            ]
          },
          "metadata": {
            "tags": [],
            "needs_background": "light"
          }
        }
      ]
    },
    {
      "cell_type": "code",
      "metadata": {
        "id": "VE7ah1hjyUSt"
      },
      "source": [
        "july = df[df['date'] > '2020-07-31']"
      ],
      "execution_count": 163,
      "outputs": []
    },
    {
      "cell_type": "code",
      "metadata": {
        "colab": {
          "base_uri": "https://localhost:8080/"
        },
        "id": "0RS_PMja7dvm",
        "outputId": "2b9fcc57-9bd7-4f73-ebed-e6bb9328a8d9"
      },
      "source": [
        "NYjuly = july[july['state'] == 'New York']\r\n",
        "NYjuly.mean()"
      ],
      "execution_count": 164,
      "outputs": [
        {
          "output_type": "stream",
          "text": [
            "/usr/local/lib/python3.6/dist-packages/ipykernel_launcher.py:2: FutureWarning: DataFrame.mean and DataFrame.median with numeric_only=None will include datetime64 and datetime64tz columns in a future version.\n",
            "  \n"
          ],
          "name": "stderr"
        },
        {
          "output_type": "execute_result",
          "data": {
            "text/plain": [
              "fips          36.000000\n",
              "cases     607702.452941\n",
              "deaths     34021.552941\n",
              "dtype: float64"
            ]
          },
          "metadata": {
            "tags": []
          },
          "execution_count": 164
        }
      ]
    },
    {
      "cell_type": "code",
      "metadata": {
        "colab": {
          "base_uri": "https://localhost:8080/"
        },
        "id": "CzkSo_yU7d0M",
        "outputId": "0b736866-1465-4882-b0b0-d5f47d655678"
      },
      "source": [
        "CAjuly = july[july['state'] == 'California']\r\n",
        "CAjuly.mean()"
      ],
      "execution_count": 165,
      "outputs": [
        {
          "output_type": "stream",
          "text": [
            "/usr/local/lib/python3.6/dist-packages/ipykernel_launcher.py:2: FutureWarning: DataFrame.mean and DataFrame.median with numeric_only=None will include datetime64 and datetime64tz columns in a future version.\n",
            "  \n"
          ],
          "name": "stderr"
        },
        {
          "output_type": "execute_result",
          "data": {
            "text/plain": [
              "fips      6.000000e+00\n",
              "cases     1.181627e+06\n",
              "deaths    1.794621e+04\n",
              "dtype: float64"
            ]
          },
          "metadata": {
            "tags": []
          },
          "execution_count": 165
        }
      ]
    },
    {
      "cell_type": "code",
      "metadata": {
        "colab": {
          "base_uri": "https://localhost:8080/"
        },
        "id": "yMnJoJBt7d2l",
        "outputId": "1733700d-3a39-4ba3-a50e-1133c1324c58"
      },
      "source": [
        "FLjuly = july[july['state'] == 'Florida']\r\n",
        "FLjuly.mean()"
      ],
      "execution_count": 166,
      "outputs": [
        {
          "output_type": "stream",
          "text": [
            "/usr/local/lib/python3.6/dist-packages/ipykernel_launcher.py:2: FutureWarning: DataFrame.mean and DataFrame.median with numeric_only=None will include datetime64 and datetime64tz columns in a future version.\n",
            "  \n"
          ],
          "name": "stderr"
        },
        {
          "output_type": "execute_result",
          "data": {
            "text/plain": [
              "fips          12.000000\n",
              "cases     872936.529412\n",
              "deaths     15894.770588\n",
              "dtype: float64"
            ]
          },
          "metadata": {
            "tags": []
          },
          "execution_count": 166
        }
      ]
    },
    {
      "cell_type": "code",
      "metadata": {
        "colab": {
          "base_uri": "https://localhost:8080/"
        },
        "id": "6DjPdceD7d5b",
        "outputId": "c9085fab-b371-49bd-b806-cc543735da9c"
      },
      "source": [
        "TXjuly = july[july['state'] == 'Texas']\r\n",
        "TXjuly.mean()"
      ],
      "execution_count": 167,
      "outputs": [
        {
          "output_type": "stream",
          "text": [
            "/usr/local/lib/python3.6/dist-packages/ipykernel_launcher.py:2: FutureWarning: DataFrame.mean and DataFrame.median with numeric_only=None will include datetime64 and datetime64tz columns in a future version.\n",
            "  \n"
          ],
          "name": "stderr"
        },
        {
          "output_type": "execute_result",
          "data": {
            "text/plain": [
              "fips      4.800000e+01\n",
              "cases     1.051909e+06\n",
              "deaths    1.883595e+04\n",
              "dtype: float64"
            ]
          },
          "metadata": {
            "tags": []
          },
          "execution_count": 167
        }
      ]
    },
    {
      "cell_type": "code",
      "metadata": {
        "colab": {
          "base_uri": "https://localhost:8080/"
        },
        "id": "BnD4XKBi7d8v",
        "outputId": "9ba02d13-251f-42b0-e76c-6c2accfa1604"
      },
      "source": [
        "AZjuly = july[july['state'] == 'Arizona']\r\n",
        "AZjuly.mean()"
      ],
      "execution_count": 168,
      "outputs": [
        {
          "output_type": "stream",
          "text": [
            "/usr/local/lib/python3.6/dist-packages/ipykernel_launcher.py:2: FutureWarning: DataFrame.mean and DataFrame.median with numeric_only=None will include datetime64 and datetime64tz columns in a future version.\n",
            "  \n"
          ],
          "name": "stderr"
        },
        {
          "output_type": "execute_result",
          "data": {
            "text/plain": [
              "fips           4.000000\n",
              "cases     303065.547059\n",
              "deaths      6337.388235\n",
              "dtype: float64"
            ]
          },
          "metadata": {
            "tags": []
          },
          "execution_count": 168
        }
      ]
    },
    {
      "cell_type": "code",
      "metadata": {
        "colab": {
          "base_uri": "https://localhost:8080/",
          "height": 194
        },
        "id": "2V4F0w2n7eBG",
        "outputId": "b1a5d071-dbf6-4ecd-adb2-c3f71e09002c"
      },
      "source": [
        "dict={'State':['New York','California','Florida','Texas','Arizona'],'Average No.of Cases': ['607,702','1,181,627','872,936','1,051,909','303,065'],'Average No.of Deaths':['34,021','17,946','15,894','18,835','6,337']}\r\n",
        "df3=pd.DataFrame(dict)\r\n",
        "df3"
      ],
      "execution_count": 169,
      "outputs": [
        {
          "output_type": "execute_result",
          "data": {
            "text/html": [
              "<div>\n",
              "<style scoped>\n",
              "    .dataframe tbody tr th:only-of-type {\n",
              "        vertical-align: middle;\n",
              "    }\n",
              "\n",
              "    .dataframe tbody tr th {\n",
              "        vertical-align: top;\n",
              "    }\n",
              "\n",
              "    .dataframe thead th {\n",
              "        text-align: right;\n",
              "    }\n",
              "</style>\n",
              "<table border=\"1\" class=\"dataframe\">\n",
              "  <thead>\n",
              "    <tr style=\"text-align: right;\">\n",
              "      <th></th>\n",
              "      <th>State</th>\n",
              "      <th>Average No.of Cases</th>\n",
              "      <th>Average No.of Deaths</th>\n",
              "    </tr>\n",
              "  </thead>\n",
              "  <tbody>\n",
              "    <tr>\n",
              "      <th>0</th>\n",
              "      <td>New York</td>\n",
              "      <td>607,702</td>\n",
              "      <td>34,021</td>\n",
              "    </tr>\n",
              "    <tr>\n",
              "      <th>1</th>\n",
              "      <td>California</td>\n",
              "      <td>1,181,627</td>\n",
              "      <td>17,946</td>\n",
              "    </tr>\n",
              "    <tr>\n",
              "      <th>2</th>\n",
              "      <td>Florida</td>\n",
              "      <td>872,936</td>\n",
              "      <td>15,894</td>\n",
              "    </tr>\n",
              "    <tr>\n",
              "      <th>3</th>\n",
              "      <td>Texas</td>\n",
              "      <td>1,051,909</td>\n",
              "      <td>18,835</td>\n",
              "    </tr>\n",
              "    <tr>\n",
              "      <th>4</th>\n",
              "      <td>Arizona</td>\n",
              "      <td>303,065</td>\n",
              "      <td>6,337</td>\n",
              "    </tr>\n",
              "  </tbody>\n",
              "</table>\n",
              "</div>"
            ],
            "text/plain": [
              "        State Average No.of Cases Average No.of Deaths\n",
              "0    New York             607,702               34,021\n",
              "1  California           1,181,627               17,946\n",
              "2     Florida             872,936               15,894\n",
              "3       Texas           1,051,909               18,835\n",
              "4     Arizona             303,065                6,337"
            ]
          },
          "metadata": {
            "tags": []
          },
          "execution_count": 169
        }
      ]
    },
    {
      "cell_type": "markdown",
      "metadata": {
        "id": "Hwch-J5PIHA1"
      },
      "source": [
        "# Task6: Conclusion"
      ]
    },
    {
      "cell_type": "markdown",
      "metadata": {
        "id": "q5G5KP6CINBS"
      },
      "source": [
        "Below are the conclusions:\r\n",
        "\r\n",
        "1. \r\n",
        "The no. of new cases for NewYork was relatively low for the first couple of weeks of March 2020 but increased dramatically thereafter reaching new highs as the virus outbreak was high. At the beginning stages, the no one was well aware about the danger of the situation and no lockdown or travel restrictions were enforced.\r\n",
        "\r\n",
        "As the situation got worse and worse by day, government protocols such as lockdowns helped to decrease the no. of new cases. The cases slowly stabilized and stayed at relatively low levels somewhere from mid-June till early October.\r\n",
        "The cases started to rise drastically as of early October and is still going up reaching all time highs for no. of new cases daily (almost 20,000 at one point). \r\n",
        "\r\n",
        "The reason could be as the weather is better during August/September so people started going outdoors. As the cases were lower and the virus seemed to be under control, restrictions were slowly eased causing no. of cases to spike. The holiday shopping season and the presidential election could be another major factor for increase in no. of cases and deaths.\r\n",
        "\r\n",
        "For NewYork, the mean no. of cases was 449,848.14 while the mean no. of deaths was 27,816.81.\r\n",
        "\r\n",
        "\r\n",
        "2.\r\n",
        "As of today, California has the highest no. of cases while New York has the highest no. of deaths.\r\n",
        "As of August 1st, 2020, New York had about 32,000 deaths and has increased upto 40,428 deaths.\r\n",
        "\r\n",
        "\r\n"
      ]
    },
    {
      "cell_type": "code",
      "metadata": {
        "id": "J31K2oxm7BtC"
      },
      "source": [
        ""
      ],
      "execution_count": null,
      "outputs": []
    }
  ]
}