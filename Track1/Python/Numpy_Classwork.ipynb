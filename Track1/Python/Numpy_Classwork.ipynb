{
  "nbformat": 4,
  "nbformat_minor": 0,
  "metadata": {
    "colab": {
      "name": "Numpy_Classwork.ipynb",
      "provenance": [],
      "collapsed_sections": [],
      "authorship_tag": "ABX9TyPYliWSVzBfrxvJ+OY+zLOg",
      "include_colab_link": true
    },
    "kernelspec": {
      "name": "python3",
      "display_name": "Python 3"
    }
  },
  "cells": [
    {
      "cell_type": "markdown",
      "metadata": {
        "id": "view-in-github",
        "colab_type": "text"
      },
      "source": [
        "<a href=\"https://colab.research.google.com/github/karmagurung00/Data_Analytics/blob/main/Track1/Python/Numpy_Classwork.ipynb\" target=\"_parent\"><img src=\"https://colab.research.google.com/assets/colab-badge.svg\" alt=\"Open In Colab\"/></a>"
      ]
    },
    {
      "cell_type": "code",
      "metadata": {
        "colab": {
          "base_uri": "https://localhost:8080/"
        },
        "id": "pvDhWeRnkqxq",
        "outputId": "9666c0f3-b1a0-4c62-c045-2d20e8b9917f"
      },
      "source": [
        "import numpy as np\r\n",
        "np_city=np.array(['NYC','LA','Houston','Miami','Chicago'])\r\n",
        "np_city.ndim"
      ],
      "execution_count": null,
      "outputs": [
        {
          "output_type": "execute_result",
          "data": {
            "text/plain": [
              "1"
            ]
          },
          "metadata": {
            "tags": []
          },
          "execution_count": 14
        }
      ]
    },
    {
      "cell_type": "code",
      "metadata": {
        "colab": {
          "base_uri": "https://localhost:8080/"
        },
        "id": "eGSa3pClll69",
        "outputId": "e6c23330-4afc-4a69-d366-979f1fa27265"
      },
      "source": [
        "#(5,) means 4 columns and 1 row.\r\n",
        "np_city.shape"
      ],
      "execution_count": null,
      "outputs": [
        {
          "output_type": "execute_result",
          "data": {
            "text/plain": [
              "(5,)"
            ]
          },
          "metadata": {
            "tags": []
          },
          "execution_count": 9
        }
      ]
    },
    {
      "cell_type": "code",
      "metadata": {
        "colab": {
          "base_uri": "https://localhost:8080/"
        },
        "id": "oU_45tKklrNG",
        "outputId": "c52e0119-5f2d-4edf-d87a-57e712106388"
      },
      "source": [
        "# tells the number of elements in the array.\r\n",
        "np_city.size"
      ],
      "execution_count": null,
      "outputs": [
        {
          "output_type": "execute_result",
          "data": {
            "text/plain": [
              "5"
            ]
          },
          "metadata": {
            "tags": []
          },
          "execution_count": 7
        }
      ]
    },
    {
      "cell_type": "code",
      "metadata": {
        "colab": {
          "base_uri": "https://localhost:8080/"
        },
        "id": "Zq4NV7Gbls9_",
        "outputId": "5d837585-e82b-48b4-d3cc-669497462cee"
      },
      "source": [
        "#houston is 7 characters long which is the highest\r\n",
        "np_city.dtype"
      ],
      "execution_count": null,
      "outputs": [
        {
          "output_type": "execute_result",
          "data": {
            "text/plain": [
              "dtype('<U7')"
            ]
          },
          "metadata": {
            "tags": []
          },
          "execution_count": 15
        }
      ]
    },
    {
      "cell_type": "code",
      "metadata": {
        "id": "Kt03s334lvLK"
      },
      "source": [
        "import numpy as np\r\n",
        "\r\n",
        "np_city_with_state=np.array([['NYC','LA','Houstons','Miami'],['NY','CA','TX','FL']])"
      ],
      "execution_count": null,
      "outputs": []
    },
    {
      "cell_type": "code",
      "metadata": {
        "colab": {
          "base_uri": "https://localhost:8080/"
        },
        "id": "hkGst6GwmnmC",
        "outputId": "f436d512-292a-4f02-cda1-b5798b8e18ac"
      },
      "source": [
        "np_city_with_state.ndim"
      ],
      "execution_count": null,
      "outputs": [
        {
          "output_type": "execute_result",
          "data": {
            "text/plain": [
              "2"
            ]
          },
          "metadata": {
            "tags": []
          },
          "execution_count": 28
        }
      ]
    },
    {
      "cell_type": "code",
      "metadata": {
        "colab": {
          "base_uri": "https://localhost:8080/"
        },
        "id": "xQNQrcrHmp0C",
        "outputId": "30b05f80-387c-4c67-9d64-733ba2e2acf2"
      },
      "source": [
        "np_city_with_state.shape"
      ],
      "execution_count": null,
      "outputs": [
        {
          "output_type": "execute_result",
          "data": {
            "text/plain": [
              "(2, 4)"
            ]
          },
          "metadata": {
            "tags": []
          },
          "execution_count": 29
        }
      ]
    },
    {
      "cell_type": "code",
      "metadata": {
        "colab": {
          "base_uri": "https://localhost:8080/"
        },
        "id": "wpAav636mrrC",
        "outputId": "00963e54-45fb-406e-b545-b8d2f7b7cbef"
      },
      "source": [
        "np_city_with_state.size"
      ],
      "execution_count": null,
      "outputs": [
        {
          "output_type": "execute_result",
          "data": {
            "text/plain": [
              "8"
            ]
          },
          "metadata": {
            "tags": []
          },
          "execution_count": 30
        }
      ]
    },
    {
      "cell_type": "code",
      "metadata": {
        "colab": {
          "base_uri": "https://localhost:8080/"
        },
        "id": "-0qZHlLlmty8",
        "outputId": "95e8bd5d-311a-41fd-e165-cfaeab5efcd8"
      },
      "source": [
        "#Longest element is 'Houstons' which is 8 characters long \r\n",
        "np_city_with_state.dtype"
      ],
      "execution_count": null,
      "outputs": [
        {
          "output_type": "execute_result",
          "data": {
            "text/plain": [
              "dtype('<U8')"
            ]
          },
          "metadata": {
            "tags": []
          },
          "execution_count": 31
        }
      ]
    },
    {
      "cell_type": "code",
      "metadata": {
        "id": "kqRkDJO0mvw2",
        "colab": {
          "base_uri": "https://localhost:8080/"
        },
        "outputId": "899ffb4f-067d-4b00-9fab-cbb1c49912ac"
      },
      "source": [
        "first_trial_cyclist=[10,15,17,26]\r\n",
        "second_trial_cyclist=[12,11,21,24]\r\n",
        "\r\n",
        "np_ftc=np.array(first_trial_cyclist)\r\n",
        "np_stc=np.array(second_trial_cyclist)\r\n",
        "\r\n",
        "np_ftc+np_stc"
      ],
      "execution_count": null,
      "outputs": [
        {
          "output_type": "execute_result",
          "data": {
            "text/plain": [
              "array([22, 26, 38, 50])"
            ]
          },
          "metadata": {
            "tags": []
          },
          "execution_count": 35
        }
      ]
    },
    {
      "cell_type": "code",
      "metadata": {
        "colab": {
          "base_uri": "https://localhost:8080/"
        },
        "id": "8S-60eaWoEWn",
        "outputId": "ba83393c-4106-4b1a-ed28-34db540e6f70"
      },
      "source": [
        "first_trial_cyclist=[10,15,17,26]\r\n",
        "second_trial_cyclist=[12,11,21,24]\r\n",
        "cyclist_time=np.array([[10,15,17,26],[12,11,21,24]])\r\n",
        "ftc_time=cyclist_time[0]            #prints everything on the first array\r\n",
        "ftc_times=cyclist_time[0,0]         #prints the first element of the first array\r\n",
        "stc_time=cyclist_time[1]                #prints everything on the second array\r\n",
        "stc_times=cyclist_time[1,0]             #prints the first element of the second array\r\n",
        "print(ftc_time)\r\n",
        "print(ftc_times)\r\n",
        "print(stc_time)\r\n",
        "print(stc_times)\r\n",
        "\r\n",
        "print( )\r\n",
        "print(cyclist_time.ndim)\r\n"
      ],
      "execution_count": null,
      "outputs": [
        {
          "output_type": "stream",
          "text": [
            "[10 15 17 26]\n",
            "10\n",
            "[12 11 21 24]\n",
            "12\n",
            "\n",
            "2\n"
          ],
          "name": "stdout"
        }
      ]
    },
    {
      "cell_type": "code",
      "metadata": {
        "colab": {
          "base_uri": "https://localhost:8080/"
        },
        "id": "jVtodZNOqgCQ",
        "outputId": "2570cd56-ff92-4491-ee5b-5695d89693f1"
      },
      "source": [
        "ftc_new=cyclist_time[0,1:3]     #prints the 2nd and 3rd element of the first array\r\n",
        "print(ftc_new)\r\n",
        "ftc_new1=cyclist_time[1,2]    #prints the 3rd element of the second array\r\n",
        "print(ftc_new1)\r\n",
        "ftc_new2=cyclist_time[1,:3]    #prints all the elements from the first until the very last but doesnot include the last\r\n",
        "print(ftc_new2)"
      ],
      "execution_count": null,
      "outputs": [
        {
          "output_type": "stream",
          "text": [
            "[15 17]\n",
            "21\n",
            "[12 11 21]\n"
          ],
          "name": "stdout"
        }
      ]
    },
    {
      "cell_type": "code",
      "metadata": {
        "colab": {
          "base_uri": "https://localhost:8080/"
        },
        "id": "fDoMd6eoqrCw",
        "outputId": "1f2b1500-c4e7-44fc-c7e0-c70a70c0df51"
      },
      "source": [
        "test_score=np.array([[81,71,57,63],[54,61,87,45]])\r\n",
        "passing_score=test_score>70\r\n",
        "passing_score\r\n",
        "test_score[passing_score]\r\n"
      ],
      "execution_count": null,
      "outputs": [
        {
          "output_type": "execute_result",
          "data": {
            "text/plain": [
              "array([81, 71, 87])"
            ]
          },
          "metadata": {
            "tags": []
          },
          "execution_count": 64
        }
      ]
    },
    {
      "cell_type": "code",
      "metadata": {
        "colab": {
          "base_uri": "https://localhost:8080/"
        },
        "id": "Kz0_700VuCt9",
        "outputId": "453ec569-18cf-43fe-ee81-38a2a51ed1c7"
      },
      "source": [
        "test_score=np.array([[81,71,57,63],[54,61,87,45]])\r\n",
        "passing_score=test_score>60\r\n",
        "print(passing_score)           #this way it only checks if the condition is true rather than printing all the scores that satisfy the condition.\r\n"
      ],
      "execution_count": null,
      "outputs": [
        {
          "output_type": "stream",
          "text": [
            "[[ True  True False  True]\n",
            " [False  True  True False]]\n"
          ],
          "name": "stdout"
        }
      ]
    },
    {
      "cell_type": "code",
      "metadata": {
        "colab": {
          "base_uri": "https://localhost:8080/",
          "height": 35
        },
        "id": "cEw8CZvjuN9q",
        "outputId": "2e312ce8-8c03-4e8c-8db4-b3de0a11d38a"
      },
      "source": [
        "NYC_Borough=np.array(['Manhattan','Queens','Brooklyn','Staten Island','Bronx'])   #original dataset\r\n",
        "NYC_Borough\r\n",
        "\r\n",
        "Boroughs_NYC=NYC_Borough\r\n",
        "Boroughs_NYC\r\n",
        "Boroughs_in_NYC=Boroughs_NYC.view()\r\n",
        "Boroughs_in_NYC                            #Boroughs_in_NYC is NYC_Borough\r\n",
        "\r\n",
        "NYC_Borough is Boroughs_NYC\r\n",
        "len(Boroughs_in_NYC)\r\n",
        "Boroughs_in_NYC[3]"
      ],
      "execution_count": null,
      "outputs": [
        {
          "output_type": "execute_result",
          "data": {
            "application/vnd.google.colaboratory.intrinsic+json": {
              "type": "string"
            },
            "text/plain": [
              "'Staten Island'"
            ]
          },
          "metadata": {
            "tags": []
          },
          "execution_count": 70
        }
      ]
    },
    {
      "cell_type": "code",
      "metadata": {
        "colab": {
          "base_uri": "https://localhost:8080/"
        },
        "id": "0mQU9IDSvRuI",
        "outputId": "e22d35d9-2032-4d15-b852-30fe3bcf1663"
      },
      "source": [
        "NYC_Borough=np.array(['Manhattan','Queens','Brooklyn','Staten Island','Bronx'])   #original dataset\r\n",
        "NYC_Borough\r\n",
        "\r\n",
        "Boroughs_NYC=NYC_Borough\r\n",
        "Boroughs_NYC"
      ],
      "execution_count": null,
      "outputs": [
        {
          "output_type": "execute_result",
          "data": {
            "text/plain": [
              "array(['Manhattan', 'Queens', 'Brooklyn', 'Staten Island', 'Bronx'],\n",
              "      dtype='<U13')"
            ]
          },
          "metadata": {
            "tags": []
          },
          "execution_count": 72
        }
      ]
    },
    {
      "cell_type": "code",
      "metadata": {
        "colab": {
          "base_uri": "https://localhost:8080/"
        },
        "id": "FfxugH5AxWef",
        "outputId": "e1f4f340-239a-41d2-d0ba-637ad81ecd71"
      },
      "source": [
        "Boroughs_in_NYC=Boroughs_NYC.view()\r\n",
        "Boroughs_in_NYC "
      ],
      "execution_count": null,
      "outputs": [
        {
          "output_type": "execute_result",
          "data": {
            "text/plain": [
              "array(['Manhattan', 'Queens', 'Brooklyn', 'Staten Island', 'Bronx'],\n",
              "      dtype='<U13')"
            ]
          },
          "metadata": {
            "tags": []
          },
          "execution_count": 73
        }
      ]
    },
    {
      "cell_type": "code",
      "metadata": {
        "colab": {
          "base_uri": "https://localhost:8080/"
        },
        "id": "Ib2dkY_mxfb5",
        "outputId": "bb528d11-31a8-4c75-b837-6dc2a3349d23"
      },
      "source": [
        "NYC_Borough is Boroughs_NYC\r\n",
        "len(Boroughs_in_NYC)"
      ],
      "execution_count": null,
      "outputs": [
        {
          "output_type": "execute_result",
          "data": {
            "text/plain": [
              "5"
            ]
          },
          "metadata": {
            "tags": []
          },
          "execution_count": 74
        }
      ]
    },
    {
      "cell_type": "code",
      "metadata": {
        "colab": {
          "base_uri": "https://localhost:8080/",
          "height": 35
        },
        "id": "L_cRhwK1xogL",
        "outputId": "5a2bd9d1-e52b-43b7-dd1c-1721291f29c5"
      },
      "source": [
        "Boroughs_in_NYC[3]"
      ],
      "execution_count": null,
      "outputs": [
        {
          "output_type": "execute_result",
          "data": {
            "application/vnd.google.colaboratory.intrinsic+json": {
              "type": "string"
            },
            "text/plain": [
              "'Staten Island'"
            ]
          },
          "metadata": {
            "tags": []
          },
          "execution_count": 75
        }
      ]
    },
    {
      "cell_type": "code",
      "metadata": {
        "colab": {
          "base_uri": "https://localhost:8080/"
        },
        "id": "rzH2QzPYxqa0",
        "outputId": "a29d4129-d57f-4cbc-90b3-5bba6939a76e"
      },
      "source": [
        "NYC_Borough is Boroughs_NYC"
      ],
      "execution_count": null,
      "outputs": [
        {
          "output_type": "execute_result",
          "data": {
            "text/plain": [
              "True"
            ]
          },
          "metadata": {
            "tags": []
          },
          "execution_count": 76
        }
      ]
    },
    {
      "cell_type": "code",
      "metadata": {
        "colab": {
          "base_uri": "https://localhost:8080/"
        },
        "id": "h9SMXVDgygVr",
        "outputId": "53bacf70-cba1-40b2-b5c3-1400b2ee3b3c"
      },
      "source": [
        "np_sqrt=np.sqrt([2,4,9,16])\r\n",
        "np_sqrt\r\n",
        "\r\n",
        "\r\n",
        "from numpy import pi\r\n",
        "np.cos(0)"
      ],
      "execution_count": null,
      "outputs": [
        {
          "output_type": "execute_result",
          "data": {
            "text/plain": [
              "1.0"
            ]
          },
          "metadata": {
            "tags": []
          },
          "execution_count": 89
        }
      ]
    },
    {
      "cell_type": "code",
      "metadata": {
        "colab": {
          "base_uri": "https://localhost:8080/"
        },
        "id": "zIVxgRcJzZ4P",
        "outputId": "a0b8b5a7-4999-4b19-970d-1580ac2ed49b"
      },
      "source": [
        "np.sin(pi/2)"
      ],
      "execution_count": null,
      "outputs": [
        {
          "output_type": "execute_result",
          "data": {
            "text/plain": [
              "1.0"
            ]
          },
          "metadata": {
            "tags": []
          },
          "execution_count": 94
        }
      ]
    },
    {
      "cell_type": "code",
      "metadata": {
        "colab": {
          "base_uri": "https://localhost:8080/"
        },
        "id": "7HRW5JfYzfbP",
        "outputId": "933c699b-b1ae-40be-96f5-a3c15623b55b"
      },
      "source": [
        "np.cos(pi)"
      ],
      "execution_count": null,
      "outputs": [
        {
          "output_type": "execute_result",
          "data": {
            "text/plain": [
              "-1.0"
            ]
          },
          "metadata": {
            "tags": []
          },
          "execution_count": 91
        }
      ]
    },
    {
      "cell_type": "code",
      "metadata": {
        "colab": {
          "base_uri": "https://localhost:8080/"
        },
        "id": "NTIPMrlTzhFA",
        "outputId": "8dac9878-9865-4588-f3b3-67e9226d442c"
      },
      "source": [
        "np.floor([1.5,1.6,2.7,3.3,1.1,-0.3,-1.4])\r\n"
      ],
      "execution_count": null,
      "outputs": [
        {
          "output_type": "execute_result",
          "data": {
            "text/plain": [
              "array([ 1.,  1.,  2.,  3.,  1., -1., -2.])"
            ]
          },
          "metadata": {
            "tags": []
          },
          "execution_count": 92
        }
      ]
    },
    {
      "cell_type": "code",
      "metadata": {
        "colab": {
          "base_uri": "https://localhost:8080/"
        },
        "id": "FGZKshCmzoM7",
        "outputId": "90d2d605-b5d8-445c-b088-241aa8e21df2"
      },
      "source": [
        "np.exp([0,1,5])"
      ],
      "execution_count": null,
      "outputs": [
        {
          "output_type": "execute_result",
          "data": {
            "text/plain": [
              "array([  1.        ,   2.71828183, 148.4131591 ])"
            ]
          },
          "metadata": {
            "tags": []
          },
          "execution_count": 93
        }
      ]
    },
    {
      "cell_type": "code",
      "metadata": {
        "colab": {
          "base_uri": "https://localhost:8080/"
        },
        "id": "kcPApGEVzq9O",
        "outputId": "ff4cf6d7-8b5c-4108-9438-1cf8b3073db9"
      },
      "source": [
        "np.floor([-1.8])"
      ],
      "execution_count": null,
      "outputs": [
        {
          "output_type": "execute_result",
          "data": {
            "text/plain": [
              "array([-2.])"
            ]
          },
          "metadata": {
            "tags": []
          },
          "execution_count": 96
        }
      ]
    },
    {
      "cell_type": "code",
      "metadata": {
        "colab": {
          "base_uri": "https://localhost:8080/"
        },
        "id": "Ysv-VgXU1xq5",
        "outputId": "7e0e45a4-7898-4b40-99cb-fcdf3649d4f3"
      },
      "source": [
        "array_a=np.array([2,3,5,9])\r\n",
        "array_b=np.array([0.3,0.3,0.3,0.3])\r\n",
        "\r\n",
        "array_a*array_b        #basic multiplication of arrays"
      ],
      "execution_count": null,
      "outputs": [
        {
          "output_type": "execute_result",
          "data": {
            "text/plain": [
              "array([0.6, 0.9, 1.5, 2.7])"
            ]
          },
          "metadata": {
            "tags": []
          },
          "execution_count": 98
        }
      ]
    },
    {
      "cell_type": "code",
      "metadata": {
        "colab": {
          "base_uri": "https://localhost:8080/"
        },
        "id": "vNvxhfuV2avs",
        "outputId": "66f7c85b-f87a-435e-8c9e-4c1c7ba72e87"
      },
      "source": [
        "scalar_c=0.3\r\n",
        "array_a*scalar_c"
      ],
      "execution_count": null,
      "outputs": [
        {
          "output_type": "execute_result",
          "data": {
            "text/plain": [
              "array([0.6, 0.9, 1.5, 2.7])"
            ]
          },
          "metadata": {
            "tags": []
          },
          "execution_count": 99
        }
      ]
    },
    {
      "cell_type": "code",
      "metadata": {
        "colab": {
          "base_uri": "https://localhost:8080/"
        },
        "id": "4qqWbZdg2j9N",
        "outputId": "907642e7-f758-4b91-8362-5e9bf28befd6"
      },
      "source": [
        "#TRANSPOSE\r\n",
        "inverse_array=np.array([[10,20],[15,25]])\r\n",
        "np.linalg.inv(inverse_array)               #linalg means linear algebra"
      ],
      "execution_count": null,
      "outputs": [
        {
          "output_type": "execute_result",
          "data": {
            "text/plain": [
              "array([[-0.5,  0.4],\n",
              "       [ 0.3, -0.2]])"
            ]
          },
          "metadata": {
            "tags": []
          },
          "execution_count": 101
        }
      ]
    },
    {
      "cell_type": "code",
      "metadata": {
        "colab": {
          "base_uri": "https://localhost:8080/"
        },
        "id": "Mr-XIbqS3tjG",
        "outputId": "14d32d66-b246-4131-8895-0aa857e6bb4a"
      },
      "source": [
        "#TRACE\r\n",
        "import numpy as np\r\n",
        "trace_array=np.array([[10,20],[22,31]])\r\n",
        "np.trace(trace_array)"
      ],
      "execution_count": null,
      "outputs": [
        {
          "output_type": "execute_result",
          "data": {
            "text/plain": [
              "41"
            ]
          },
          "metadata": {
            "tags": []
          },
          "execution_count": 106
        }
      ]
    },
    {
      "cell_type": "code",
      "metadata": {
        "id": "0TYkGuMK4dgw"
      },
      "source": [
        ""
      ],
      "execution_count": null,
      "outputs": []
    }
  ]
}