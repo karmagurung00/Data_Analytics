{
  "nbformat": 4,
  "nbformat_minor": 0,
  "metadata": {
    "colab": {
      "name": "LISTS Classwork",
      "provenance": [],
      "collapsed_sections": [],
      "authorship_tag": "ABX9TyMSlnOx7cMPvIzsdN4eCjFq",
      "include_colab_link": true
    },
    "kernelspec": {
      "name": "python3",
      "display_name": "Python 3"
    }
  },
  "cells": [
    {
      "cell_type": "markdown",
      "metadata": {
        "id": "view-in-github",
        "colab_type": "text"
      },
      "source": [
        "<a href=\"https://colab.research.google.com/github/karmagurung00/Data_Analytics/blob/main/Track1/Python/LISTS_Classwork.ipynb\" target=\"_parent\"><img src=\"https://colab.research.google.com/assets/colab-badge.svg\" alt=\"Open In Colab\"/></a>"
      ]
    },
    {
      "cell_type": "code",
      "metadata": {
        "colab": {
          "base_uri": "https://localhost:8080/"
        },
        "id": "YQ51yeYqqKkD",
        "outputId": "d88214d2-77bb-4574-92e0-bc576be4cede"
      },
      "source": [
        "CUNYCampuslist=['Baruch','City','Hunter','City']\r\n",
        "print(CUNYCampuslist)"
      ],
      "execution_count": null,
      "outputs": [
        {
          "output_type": "stream",
          "text": [
            "['Baruch', 'City', 'Hunter', 'City']\n"
          ],
          "name": "stdout"
        }
      ]
    },
    {
      "cell_type": "code",
      "metadata": {
        "colab": {
          "base_uri": "https://localhost:8080/"
        },
        "id": "HZzYIxnqq2tX",
        "outputId": "d46054a3-7da7-46ba-eecb-06f328e50112"
      },
      "source": [
        "print(CUNYCampuslist[0])"
      ],
      "execution_count": null,
      "outputs": [
        {
          "output_type": "stream",
          "text": [
            "Baruch\n"
          ],
          "name": "stdout"
        }
      ]
    },
    {
      "cell_type": "code",
      "metadata": {
        "colab": {
          "base_uri": "https://localhost:8080/"
        },
        "id": "pUsr3DvnrsiI",
        "outputId": "5cca24ba-9641-4400-e581-e34437ef0a94"
      },
      "source": [
        "print(CUNYCampuslist[1:3])"
      ],
      "execution_count": null,
      "outputs": [
        {
          "output_type": "stream",
          "text": [
            "['City', 'Hunter']\n"
          ],
          "name": "stdout"
        }
      ]
    },
    {
      "cell_type": "code",
      "metadata": {
        "colab": {
          "base_uri": "https://localhost:8080/"
        },
        "id": "Hyu1qeu0rvIQ",
        "outputId": "35ee71dc-538a-4093-8b83-ca1392b650a8"
      },
      "source": [
        "friends_name=['Messi','Neymar','Ronaldo']\r\n",
        "print(friends_name)"
      ],
      "execution_count": null,
      "outputs": [
        {
          "output_type": "stream",
          "text": [
            "['Messi', 'Neymar', 'Ronaldo']\n"
          ],
          "name": "stdout"
        }
      ]
    },
    {
      "cell_type": "code",
      "metadata": {
        "colab": {
          "base_uri": "https://localhost:8080/"
        },
        "id": "Xg6bVbYBthpX",
        "outputId": "91637019-d9c2-41ba-a6e8-c79236649e78"
      },
      "source": [
        "print(friends_name[1])\r\n",
        "print(friends_name[0:1])"
      ],
      "execution_count": null,
      "outputs": [
        {
          "output_type": "stream",
          "text": [
            "Neymar\n",
            "['Messi']\n"
          ],
          "name": "stdout"
        }
      ]
    },
    {
      "cell_type": "code",
      "metadata": {
        "colab": {
          "base_uri": "https://localhost:8080/"
        },
        "id": "-YorQD_ytoYr",
        "outputId": "5f3e32eb-2307-4c7d-8695-04c3ba75a836"
      },
      "source": [
        "print(\"The best player in the world is\",friends_name)"
      ],
      "execution_count": null,
      "outputs": [
        {
          "output_type": "stream",
          "text": [
            "The best player in the world is ['Messi', 'Neymar', 'Ronaldo', 'sanchez']\n"
          ],
          "name": "stdout"
        }
      ]
    },
    {
      "cell_type": "code",
      "metadata": {
        "colab": {
          "base_uri": "https://localhost:8080/"
        },
        "id": "Ca7JK_FPuJwR",
        "outputId": "2cd5d695-d60f-4b17-a568-4d1b77d6671d"
      },
      "source": [
        "print(\"The best player in the world is\",friends_name[0])"
      ],
      "execution_count": null,
      "outputs": [
        {
          "output_type": "stream",
          "text": [
            "The best player in the world is Messi\n"
          ],
          "name": "stdout"
        }
      ]
    },
    {
      "cell_type": "code",
      "metadata": {
        "colab": {
          "base_uri": "https://localhost:8080/"
        },
        "id": "obRKJs3mud_m",
        "outputId": "aa84fdbe-4ec2-4a3d-a27c-9b8ed224b73e"
      },
      "source": [
        "print(\"The best players in the world are\",friends_name[1:3])"
      ],
      "execution_count": null,
      "outputs": [
        {
          "output_type": "stream",
          "text": [
            "The best players in the world are ['Neymar', 'Ronaldo']\n"
          ],
          "name": "stdout"
        }
      ]
    },
    {
      "cell_type": "code",
      "metadata": {
        "colab": {
          "base_uri": "https://localhost:8080/"
        },
        "id": "06-XRhQeui_E",
        "outputId": "02b67679-1adb-42f4-cc4d-88a18d6ada32"
      },
      "source": [
        "message='long time no see'\r\n",
        "print(message,friends_name[0])"
      ],
      "execution_count": null,
      "outputs": [
        {
          "output_type": "stream",
          "text": [
            "long time no see Messi\n"
          ],
          "name": "stdout"
        }
      ]
    },
    {
      "cell_type": "code",
      "metadata": {
        "colab": {
          "base_uri": "https://localhost:8080/"
        },
        "id": "VdngxxIwuuUi",
        "outputId": "53bc0990-9fe8-4d7c-a7e8-4832b371bc27"
      },
      "source": [
        "message='long time no see'\r\n",
        "print(message,friends_name[1:3])"
      ],
      "execution_count": null,
      "outputs": [
        {
          "output_type": "stream",
          "text": [
            "long time no see ['Neymar', 'Ronaldo']\n"
          ],
          "name": "stdout"
        }
      ]
    },
    {
      "cell_type": "code",
      "metadata": {
        "colab": {
          "base_uri": "https://localhost:8080/"
        },
        "id": "7qPhJAQtu0GJ",
        "outputId": "0e86b318-063d-4d33-9609-d1e1bb44c6dd"
      },
      "source": [
        "message='long time no see'\r\n",
        "print(message,friends_name[3])"
      ],
      "execution_count": null,
      "outputs": [
        {
          "output_type": "stream",
          "text": [
            "long time no see sanchez\n"
          ],
          "name": "stdout"
        }
      ]
    },
    {
      "cell_type": "code",
      "metadata": {
        "colab": {
          "base_uri": "https://localhost:8080/"
        },
        "id": "rZ8E7VRMu3hJ",
        "outputId": "365a0c2c-6e57-4ce9-9b4e-ba9bc62a93ac"
      },
      "source": [
        "print(\"The number one player is\",friends_name[2])\r\n",
        "print('The second best player is',friends_name[0])\r\n",
        "print('The player with the highest prospect is',friends_name[1])"
      ],
      "execution_count": null,
      "outputs": [
        {
          "output_type": "stream",
          "text": [
            "The number one player is Ronaldo\n",
            "The second best player is Messi\n",
            "The player with the highest prospect is Neymar\n"
          ],
          "name": "stdout"
        }
      ]
    },
    {
      "cell_type": "code",
      "metadata": {
        "colab": {
          "base_uri": "https://localhost:8080/"
        },
        "id": "gBFg3jM5vFp7",
        "outputId": "a3b74cec-6a68-4aec-c749-efe062baae54"
      },
      "source": [
        "#this is the way it is added the list can go on\r\n",
        "print(friends_name.append(\"Mbappe\"))\r\n"
      ],
      "execution_count": null,
      "outputs": [
        {
          "output_type": "stream",
          "text": [
            "None\n"
          ],
          "name": "stdout"
        }
      ]
    },
    {
      "cell_type": "code",
      "metadata": {
        "colab": {
          "base_uri": "https://localhost:8080/"
        },
        "id": "7Uk7Gf-_vg4t",
        "outputId": "64138674-3618-46c4-9f47-db7c34f0bda7"
      },
      "source": [
        "#the lists gets updated as time more and more is added in the lists\r\n",
        "print(friends_name)"
      ],
      "execution_count": null,
      "outputs": [
        {
          "output_type": "stream",
          "text": [
            "['Messi', 'Neymar', 'Ronaldo', 'sanchez', 'Mbappe']\n"
          ],
          "name": "stdout"
        }
      ]
    },
    {
      "cell_type": "code",
      "metadata": {
        "colab": {
          "base_uri": "https://localhost:8080/"
        },
        "id": "5D8VGyJavmYQ",
        "outputId": "c21c12e3-6a75-4529-856b-fa1762f40975"
      },
      "source": [
        "CUNYCampuslist=['Baruch','City','Hunter','City']\r\n",
        "print(CUNYCampuslist)\r\n",
        "CUNYCampuslist[3]= 'BMCC'\r\n",
        "print(CUNYCampuslist)"
      ],
      "execution_count": null,
      "outputs": [
        {
          "output_type": "stream",
          "text": [
            "['Baruch', 'City', 'Hunter', 'City']\n",
            "['Baruch', 'City', 'Hunter', 'BMCC']\n"
          ],
          "name": "stdout"
        }
      ]
    },
    {
      "cell_type": "code",
      "metadata": {
        "colab": {
          "base_uri": "https://localhost:8080/"
        },
        "id": "ByCHojU3xgxm",
        "outputId": "7d1bfa34-c59a-4073-a10f-21933a31bc74"
      },
      "source": [
        "#APPEND method to add in the lists\r\n",
        "\r\n",
        "CUNYCampuslist.append('LaGuardia')\r\n",
        "print(CUNYCampuslist)"
      ],
      "execution_count": null,
      "outputs": [
        {
          "output_type": "stream",
          "text": [
            "['Baruch', 'Binghampton', 'City', 'Hunter', 'BMCC', 'LaGuardia', 'LaGuardia']\n"
          ],
          "name": "stdout"
        }
      ]
    },
    {
      "cell_type": "code",
      "metadata": {
        "colab": {
          "base_uri": "https://localhost:8080/"
        },
        "id": "vocLHTMOxyAK",
        "outputId": "b5b67d44-e06c-402c-b388-8e4094890743"
      },
      "source": [
        "#Insert can be used to add new too\r\n",
        "CUNYCampuslist.insert(1,'Binghampton-NOT CUNY')\r\n",
        "print(CUNYCampuslist)"
      ],
      "execution_count": null,
      "outputs": [
        {
          "output_type": "stream",
          "text": [
            "['Baruch', 'Binghampton-NOT CUNY', 'Binghampton', 'City', 'Hunter', 'BMCC', 'LaGuardia', 'LaGuardia']\n"
          ],
          "name": "stdout"
        }
      ]
    },
    {
      "cell_type": "code",
      "metadata": {
        "colab": {
          "base_uri": "https://localhost:8080/"
        },
        "id": "_DvTL9xWx6fh",
        "outputId": "06b15d59-2b12-476b-a698-dacb06af1e4e"
      },
      "source": [
        "#Remove is used to delete an item from the list\r\n",
        "CUNYCampuslist.remove('City')\r\n",
        "print(CUNYCampuslist)"
      ],
      "execution_count": null,
      "outputs": [
        {
          "output_type": "stream",
          "text": [
            "['Baruch', 'Binghampton-NOT CUNY', 'Binghampton', 'Hunter', 'BMCC', 'LaGuardia', 'LaGuardia']\n"
          ],
          "name": "stdout"
        }
      ]
    },
    {
      "cell_type": "code",
      "metadata": {
        "colab": {
          "base_uri": "https://localhost:8080/"
        },
        "id": "aiJuCftPy30A",
        "outputId": "be784ec9-088f-4560-9c63-f6d95dfb2af2"
      },
      "source": [
        "print(CUNYCampuslist)"
      ],
      "execution_count": null,
      "outputs": [
        {
          "output_type": "stream",
          "text": [
            "['Baruch', 'Binghampton-NOT CUNY', 'Binghampton', 'Hunter', 'BMCC', 'LaGuardia', 'LaGuardia']\n"
          ],
          "name": "stdout"
        }
      ]
    },
    {
      "cell_type": "code",
      "metadata": {
        "id": "kxxamMFC14k2"
      },
      "source": [
        "# del can also be used to remove the index needs to be specified for the program to run\r\n",
        "del CUNYCampuslist[-1]"
      ],
      "execution_count": null,
      "outputs": []
    },
    {
      "cell_type": "code",
      "metadata": {
        "colab": {
          "base_uri": "https://localhost:8080/"
        },
        "id": "BFww0HxT2B6F",
        "outputId": "7e6adc0e-db8e-45f4-f845-635bd2bdac62"
      },
      "source": [
        "print(CUNYCampuslist)"
      ],
      "execution_count": null,
      "outputs": [
        {
          "output_type": "stream",
          "text": [
            "['Baruch', 'Binghampton-NOT CUNY', 'Binghampton', 'Hunter', 'BMCC', 'LaGuardia']\n"
          ],
          "name": "stdout"
        }
      ]
    },
    {
      "cell_type": "code",
      "metadata": {
        "colab": {
          "base_uri": "https://localhost:8080/"
        },
        "id": "CFI7Hxzr2ESO",
        "outputId": "e6892ad6-980e-428c-ebf1-53834ed1d877"
      },
      "source": [
        "del CUNYCampuslist[-2]\r\n",
        "print(CUNYCampuslist)"
      ],
      "execution_count": null,
      "outputs": [
        {
          "output_type": "stream",
          "text": [
            "['Baruch', 'Binghampton-NOT CUNY', 'Binghampton', 'LaGuardia']\n"
          ],
          "name": "stdout"
        }
      ]
    },
    {
      "cell_type": "code",
      "metadata": {
        "colab": {
          "base_uri": "https://localhost:8080/"
        },
        "id": "U62yMij12Pub",
        "outputId": "dee2ff34-173e-4963-99aa-c82fb9fb4b55"
      },
      "source": [
        "favorite_food=['dumplings','sushi','bulgogi']\r\n",
        "print(favorite_food)\r\n",
        "favorite_food.append('humus')\r\n",
        "print(favorite_food)\r\n"
      ],
      "execution_count": null,
      "outputs": [
        {
          "output_type": "stream",
          "text": [
            "['dumplings', 'sushi', 'bulgogi']\n",
            "['dumplings', 'sushi', 'bulgogi', 'humus']\n"
          ],
          "name": "stdout"
        }
      ]
    },
    {
      "cell_type": "code",
      "metadata": {
        "colab": {
          "base_uri": "https://localhost:8080/"
        },
        "id": "Pb-CNcyY5VeS",
        "outputId": "3b7c50fe-ce1d-4fab-a06b-42945ebdcaf4"
      },
      "source": [
        "favorite_food.remove('bulgogi')\r\n",
        "print(favorite_food)"
      ],
      "execution_count": null,
      "outputs": [
        {
          "output_type": "stream",
          "text": [
            "['dumplings', 'sushi', 'humus']\n"
          ],
          "name": "stdout"
        }
      ]
    },
    {
      "cell_type": "code",
      "metadata": {
        "colab": {
          "base_uri": "https://localhost:8080/"
        },
        "id": "eQ0mp3Sa6B68",
        "outputId": "dd5b6f98-0045-46b0-aa70-e01e2c86b5bd"
      },
      "source": [
        "del favorite_food[2]\r\n",
        "print(favorite_food)"
      ],
      "execution_count": null,
      "outputs": [
        {
          "output_type": "stream",
          "text": [
            "['dumplings', 'sushi']\n"
          ],
          "name": "stdout"
        }
      ]
    },
    {
      "cell_type": "code",
      "metadata": {
        "colab": {
          "base_uri": "https://localhost:8080/"
        },
        "id": "6D6ZHvgJ6JRQ",
        "outputId": "13a3b919-d1f1-4aeb-cacd-d9a3f8d04f95"
      },
      "source": [
        "CUNYCampuslist=['Baruch','City','Hunter','City']\r\n",
        "CUNYCampuslist.sort()\r\n",
        "print(CUNYCampuslist)"
      ],
      "execution_count": null,
      "outputs": [
        {
          "output_type": "stream",
          "text": [
            "['Baruch', 'City', 'City', 'Hunter']\n"
          ],
          "name": "stdout"
        }
      ]
    },
    {
      "cell_type": "code",
      "metadata": {
        "colab": {
          "base_uri": "https://localhost:8080/"
        },
        "id": "ApXUJVXZ6mPP",
        "outputId": "fb9bee0c-b0b1-4381-90c9-03a0ff5f93e7"
      },
      "source": [
        "CUNYCampuslist.sort(reverse= True)\r\n",
        "print(CUNYCampuslist)"
      ],
      "execution_count": null,
      "outputs": [
        {
          "output_type": "stream",
          "text": [
            "['Hunter', 'City', 'City', 'Baruch']\n"
          ],
          "name": "stdout"
        }
      ]
    },
    {
      "cell_type": "code",
      "metadata": {
        "colab": {
          "base_uri": "https://localhost:8080/"
        },
        "id": "24H1eUDM7K93",
        "outputId": "8125d42d-8b0a-43ed-f166-43683b7840d6"
      },
      "source": [
        "print(len(favorite_food))"
      ],
      "execution_count": null,
      "outputs": [
        {
          "output_type": "stream",
          "text": [
            "2\n"
          ],
          "name": "stdout"
        }
      ]
    },
    {
      "cell_type": "code",
      "metadata": {
        "colab": {
          "base_uri": "https://localhost:8080/"
        },
        "id": "2WIrmpx978vh",
        "outputId": "1f9bfa75-ee38-49f2-f138-ed69f33d9337"
      },
      "source": [
        "places=['Paris','Bali','Seoul','Stockholm','Munich']\r\n",
        "places.sort()\r\n",
        "print(places)"
      ],
      "execution_count": null,
      "outputs": [
        {
          "output_type": "stream",
          "text": [
            "['Bali', 'Munich', 'Paris', 'Seoul', 'Stockholm']\n"
          ],
          "name": "stdout"
        }
      ]
    },
    {
      "cell_type": "code",
      "metadata": {
        "colab": {
          "base_uri": "https://localhost:8080/"
        },
        "id": "FcXFPWoG8oUv",
        "outputId": "013c2a88-6e1e-4233-eb29-c54b6b5af305"
      },
      "source": [
        "places.sort(reverse= True)\r\n",
        "print(places)"
      ],
      "execution_count": null,
      "outputs": [
        {
          "output_type": "stream",
          "text": [
            "['Stockholm', 'Seoul', 'Paris', 'Munich', 'Bali']\n"
          ],
          "name": "stdout"
        }
      ]
    },
    {
      "cell_type": "code",
      "metadata": {
        "colab": {
          "base_uri": "https://localhost:8080/"
        },
        "id": "b9QBcBjn84m5",
        "outputId": "bd4f2b9f-01ca-4a84-dc94-51311d77e2a1"
      },
      "source": [
        "print(sorted(places))"
      ],
      "execution_count": null,
      "outputs": [
        {
          "output_type": "stream",
          "text": [
            "['Bali', 'Munich', 'Paris', 'Seoul', 'Stockholm']\n"
          ],
          "name": "stdout"
        }
      ]
    },
    {
      "cell_type": "code",
      "metadata": {
        "id": "RL4JUb36_tmI",
        "colab": {
          "base_uri": "https://localhost:8080/"
        },
        "outputId": "0825754a-542f-4a5d-dfe1-61b772803af4"
      },
      "source": [
        "for x in \"CUNY\":\r\n",
        "  print(x)"
      ],
      "execution_count": null,
      "outputs": [
        {
          "output_type": "stream",
          "text": [
            "C\n",
            "U\n",
            "N\n",
            "Y\n"
          ],
          "name": "stdout"
        }
      ]
    },
    {
      "cell_type": "code",
      "metadata": {
        "id": "KCkQrsiCUGtN"
      },
      "source": [
        ""
      ],
      "execution_count": null,
      "outputs": []
    }
  ]
}