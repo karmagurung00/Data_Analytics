{
  "nbformat": 4,
  "nbformat_minor": 0,
  "metadata": {
    "colab": {
      "name": "Pandas_Classwork.ipynb",
      "provenance": [],
      "collapsed_sections": [],
      "authorship_tag": "ABX9TyNIS79vVQ9hDZVVaK0fLZoq",
      "include_colab_link": true
    },
    "kernelspec": {
      "name": "python3",
      "display_name": "Python 3"
    }
  },
  "cells": [
    {
      "cell_type": "markdown",
      "metadata": {
        "id": "view-in-github",
        "colab_type": "text"
      },
      "source": [
        "<a href=\"https://colab.research.google.com/github/karmagurung00/Data_Analytics/blob/main/Track1/Python/Pandas_Classwork.ipynb\" target=\"_parent\"><img src=\"https://colab.research.google.com/assets/colab-badge.svg\" alt=\"Open In Colab\"/></a>"
      ]
    },
    {
      "cell_type": "code",
      "metadata": {
        "id": "usVw9lCN8MT_"
      },
      "source": [
        "import numpy as np\r\n",
        "import pandas as pd"
      ],
      "execution_count": null,
      "outputs": []
    },
    {
      "cell_type": "code",
      "metadata": {
        "colab": {
          "base_uri": "https://localhost:8080/"
        },
        "id": "yEDLxczo9AwL",
        "outputId": "97c21101-cba3-44a2-f323-76f90946c2ba"
      },
      "source": [
        "labels=['a','b','c']\r\n",
        "my_data=[10,20,30]\r\n",
        "arr=np.array(my_data)\r\n",
        "print(arr)"
      ],
      "execution_count": 2,
      "outputs": [
        {
          "output_type": "stream",
          "text": [
            "[10 20 30]\n"
          ],
          "name": "stdout"
        }
      ]
    },
    {
      "cell_type": "code",
      "metadata": {
        "id": "rz_4RaPj8SYl",
        "colab": {
          "base_uri": "https://localhost:8080/"
        },
        "outputId": "c2c3c96e-d1b3-4d12-912f-53aaf65931cb"
      },
      "source": [
        "d={'a':10,'b':20,'c':30}\r\n",
        "print(d)"
      ],
      "execution_count": 3,
      "outputs": [
        {
          "output_type": "stream",
          "text": [
            "{'a': 10, 'b': 20, 'c': 30}\n"
          ],
          "name": "stdout"
        }
      ]
    },
    {
      "cell_type": "code",
      "metadata": {
        "colab": {
          "base_uri": "https://localhost:8080/"
        },
        "id": "n6OLcRKq9Phc",
        "outputId": "e872fb61-1994-4a82-eb30-4fcc7e166846"
      },
      "source": [
        "pd.Series(data=my_data,index=labels)"
      ],
      "execution_count": 5,
      "outputs": [
        {
          "output_type": "execute_result",
          "data": {
            "text/plain": [
              "a    10\n",
              "b    20\n",
              "c    30\n",
              "dtype: int64"
            ]
          },
          "metadata": {
            "tags": []
          },
          "execution_count": 5
        }
      ]
    },
    {
      "cell_type": "code",
      "metadata": {
        "colab": {
          "base_uri": "https://localhost:8080/"
        },
        "id": "c4LVgqHU9Tp8",
        "outputId": "9e7d6ac0-e169-4bea-b6fa-1c1e5593b25f"
      },
      "source": [
        "labels=['a','b','c']\r\n",
        "my_data=[10,20,30]\r\n",
        "arr=np.array(my_data)\r\n",
        "print(arr)\r\n",
        "\r\n",
        "d={'a':10,'b':20,'c':30}\r\n",
        "print(d)\r\n",
        "\r\n",
        "pd.Series(data=my_data,index=labels)"
      ],
      "execution_count": 6,
      "outputs": [
        {
          "output_type": "stream",
          "text": [
            "[10 20 30]\n",
            "{'a': 10, 'b': 20, 'c': 30}\n"
          ],
          "name": "stdout"
        },
        {
          "output_type": "execute_result",
          "data": {
            "text/plain": [
              "a    10\n",
              "b    20\n",
              "c    30\n",
              "dtype: int64"
            ]
          },
          "metadata": {
            "tags": []
          },
          "execution_count": 6
        }
      ]
    },
    {
      "cell_type": "code",
      "metadata": {
        "colab": {
          "base_uri": "https://localhost:8080/",
          "height": 195
        },
        "id": "2lap4QIZ-Dll",
        "outputId": "5ca8bc4f-83cf-4c33-921b-a5fc6a70cca3"
      },
      "source": [
        "#DATAFRAMES\r\n",
        "from numpy.random import randn\r\n",
        "np.random.seed(123)\r\n",
        "\r\n",
        "df=pd.DataFrame(randn(5,4),['A','B','C','D','E'],['W','X','Y','Z'])\r\n",
        "df\r\n",
        "\r\n"
      ],
      "execution_count": 10,
      "outputs": [
        {
          "output_type": "execute_result",
          "data": {
            "text/html": [
              "<div>\n",
              "<style scoped>\n",
              "    .dataframe tbody tr th:only-of-type {\n",
              "        vertical-align: middle;\n",
              "    }\n",
              "\n",
              "    .dataframe tbody tr th {\n",
              "        vertical-align: top;\n",
              "    }\n",
              "\n",
              "    .dataframe thead th {\n",
              "        text-align: right;\n",
              "    }\n",
              "</style>\n",
              "<table border=\"1\" class=\"dataframe\">\n",
              "  <thead>\n",
              "    <tr style=\"text-align: right;\">\n",
              "      <th></th>\n",
              "      <th>W</th>\n",
              "      <th>X</th>\n",
              "      <th>Y</th>\n",
              "      <th>Z</th>\n",
              "    </tr>\n",
              "  </thead>\n",
              "  <tbody>\n",
              "    <tr>\n",
              "      <th>A</th>\n",
              "      <td>-1.085631</td>\n",
              "      <td>0.997345</td>\n",
              "      <td>0.282978</td>\n",
              "      <td>-1.506295</td>\n",
              "    </tr>\n",
              "    <tr>\n",
              "      <th>B</th>\n",
              "      <td>-0.578600</td>\n",
              "      <td>1.651437</td>\n",
              "      <td>-2.426679</td>\n",
              "      <td>-0.428913</td>\n",
              "    </tr>\n",
              "    <tr>\n",
              "      <th>C</th>\n",
              "      <td>1.265936</td>\n",
              "      <td>-0.866740</td>\n",
              "      <td>-0.678886</td>\n",
              "      <td>-0.094709</td>\n",
              "    </tr>\n",
              "    <tr>\n",
              "      <th>D</th>\n",
              "      <td>1.491390</td>\n",
              "      <td>-0.638902</td>\n",
              "      <td>-0.443982</td>\n",
              "      <td>-0.434351</td>\n",
              "    </tr>\n",
              "    <tr>\n",
              "      <th>E</th>\n",
              "      <td>2.205930</td>\n",
              "      <td>2.186786</td>\n",
              "      <td>1.004054</td>\n",
              "      <td>0.386186</td>\n",
              "    </tr>\n",
              "  </tbody>\n",
              "</table>\n",
              "</div>"
            ],
            "text/plain": [
              "          W         X         Y         Z\n",
              "A -1.085631  0.997345  0.282978 -1.506295\n",
              "B -0.578600  1.651437 -2.426679 -0.428913\n",
              "C  1.265936 -0.866740 -0.678886 -0.094709\n",
              "D  1.491390 -0.638902 -0.443982 -0.434351\n",
              "E  2.205930  2.186786  1.004054  0.386186"
            ]
          },
          "metadata": {
            "tags": []
          },
          "execution_count": 10
        }
      ]
    },
    {
      "cell_type": "code",
      "metadata": {
        "colab": {
          "base_uri": "https://localhost:8080/"
        },
        "id": "a2g6ydrB-clN",
        "outputId": "849d9ee5-6f7e-466f-9764-632559d52c1f"
      },
      "source": [
        "df1=df['W']    #You can extract just the columns not the rows\r\n",
        "df1"
      ],
      "execution_count": 11,
      "outputs": [
        {
          "output_type": "execute_result",
          "data": {
            "text/plain": [
              "A   -1.085631\n",
              "B   -0.578600\n",
              "C    1.265936\n",
              "D    1.491390\n",
              "E    2.205930\n",
              "Name: W, dtype: float64"
            ]
          },
          "metadata": {
            "tags": []
          },
          "execution_count": 11
        }
      ]
    },
    {
      "cell_type": "code",
      "metadata": {
        "colab": {
          "base_uri": "https://localhost:8080/"
        },
        "id": "PUqtZjuG-02K",
        "outputId": "30dc425d-196b-4668-9cef-3e9194c85390"
      },
      "source": [
        "df1=df['Z']    #Only columns can be extracted\r\n",
        "df1"
      ],
      "execution_count": 14,
      "outputs": [
        {
          "output_type": "execute_result",
          "data": {
            "text/plain": [
              "A   -1.506295\n",
              "B   -0.428913\n",
              "C   -0.094709\n",
              "D   -0.434351\n",
              "E    0.386186\n",
              "Name: Z, dtype: float64"
            ]
          },
          "metadata": {
            "tags": []
          },
          "execution_count": 14
        }
      ]
    },
    {
      "cell_type": "code",
      "metadata": {
        "colab": {
          "base_uri": "https://localhost:8080/",
          "height": 195
        },
        "id": "WZ3gze4wCFfP",
        "outputId": "a80e396d-035d-4929-c17a-55732c0004dc"
      },
      "source": [
        "df['New']=df['W']+df['X']\r\n",
        "df"
      ],
      "execution_count": 16,
      "outputs": [
        {
          "output_type": "execute_result",
          "data": {
            "text/html": [
              "<div>\n",
              "<style scoped>\n",
              "    .dataframe tbody tr th:only-of-type {\n",
              "        vertical-align: middle;\n",
              "    }\n",
              "\n",
              "    .dataframe tbody tr th {\n",
              "        vertical-align: top;\n",
              "    }\n",
              "\n",
              "    .dataframe thead th {\n",
              "        text-align: right;\n",
              "    }\n",
              "</style>\n",
              "<table border=\"1\" class=\"dataframe\">\n",
              "  <thead>\n",
              "    <tr style=\"text-align: right;\">\n",
              "      <th></th>\n",
              "      <th>W</th>\n",
              "      <th>X</th>\n",
              "      <th>Y</th>\n",
              "      <th>Z</th>\n",
              "      <th>New</th>\n",
              "    </tr>\n",
              "  </thead>\n",
              "  <tbody>\n",
              "    <tr>\n",
              "      <th>A</th>\n",
              "      <td>-1.085631</td>\n",
              "      <td>0.997345</td>\n",
              "      <td>0.282978</td>\n",
              "      <td>-1.506295</td>\n",
              "      <td>-0.088285</td>\n",
              "    </tr>\n",
              "    <tr>\n",
              "      <th>B</th>\n",
              "      <td>-0.578600</td>\n",
              "      <td>1.651437</td>\n",
              "      <td>-2.426679</td>\n",
              "      <td>-0.428913</td>\n",
              "      <td>1.072836</td>\n",
              "    </tr>\n",
              "    <tr>\n",
              "      <th>C</th>\n",
              "      <td>1.265936</td>\n",
              "      <td>-0.866740</td>\n",
              "      <td>-0.678886</td>\n",
              "      <td>-0.094709</td>\n",
              "      <td>0.399196</td>\n",
              "    </tr>\n",
              "    <tr>\n",
              "      <th>D</th>\n",
              "      <td>1.491390</td>\n",
              "      <td>-0.638902</td>\n",
              "      <td>-0.443982</td>\n",
              "      <td>-0.434351</td>\n",
              "      <td>0.852488</td>\n",
              "    </tr>\n",
              "    <tr>\n",
              "      <th>E</th>\n",
              "      <td>2.205930</td>\n",
              "      <td>2.186786</td>\n",
              "      <td>1.004054</td>\n",
              "      <td>0.386186</td>\n",
              "      <td>4.392716</td>\n",
              "    </tr>\n",
              "  </tbody>\n",
              "</table>\n",
              "</div>"
            ],
            "text/plain": [
              "          W         X         Y         Z       New\n",
              "A -1.085631  0.997345  0.282978 -1.506295 -0.088285\n",
              "B -0.578600  1.651437 -2.426679 -0.428913  1.072836\n",
              "C  1.265936 -0.866740 -0.678886 -0.094709  0.399196\n",
              "D  1.491390 -0.638902 -0.443982 -0.434351  0.852488\n",
              "E  2.205930  2.186786  1.004054  0.386186  4.392716"
            ]
          },
          "metadata": {
            "tags": []
          },
          "execution_count": 16
        }
      ]
    },
    {
      "cell_type": "code",
      "metadata": {
        "colab": {
          "base_uri": "https://localhost:8080/",
          "height": 195
        },
        "id": "_XgLJ839Cb6r",
        "outputId": "f68362e5-e5b3-4471-bb2d-2df17aecbcc1"
      },
      "source": [
        "df2A=df[['W','X']]             #Creating a whole new dataframe that only consists of 'W' and 'X' from the orginial dataset\r\n",
        "df2A"
      ],
      "execution_count": 18,
      "outputs": [
        {
          "output_type": "execute_result",
          "data": {
            "text/html": [
              "<div>\n",
              "<style scoped>\n",
              "    .dataframe tbody tr th:only-of-type {\n",
              "        vertical-align: middle;\n",
              "    }\n",
              "\n",
              "    .dataframe tbody tr th {\n",
              "        vertical-align: top;\n",
              "    }\n",
              "\n",
              "    .dataframe thead th {\n",
              "        text-align: right;\n",
              "    }\n",
              "</style>\n",
              "<table border=\"1\" class=\"dataframe\">\n",
              "  <thead>\n",
              "    <tr style=\"text-align: right;\">\n",
              "      <th></th>\n",
              "      <th>W</th>\n",
              "      <th>X</th>\n",
              "    </tr>\n",
              "  </thead>\n",
              "  <tbody>\n",
              "    <tr>\n",
              "      <th>A</th>\n",
              "      <td>-1.085631</td>\n",
              "      <td>0.997345</td>\n",
              "    </tr>\n",
              "    <tr>\n",
              "      <th>B</th>\n",
              "      <td>-0.578600</td>\n",
              "      <td>1.651437</td>\n",
              "    </tr>\n",
              "    <tr>\n",
              "      <th>C</th>\n",
              "      <td>1.265936</td>\n",
              "      <td>-0.866740</td>\n",
              "    </tr>\n",
              "    <tr>\n",
              "      <th>D</th>\n",
              "      <td>1.491390</td>\n",
              "      <td>-0.638902</td>\n",
              "    </tr>\n",
              "    <tr>\n",
              "      <th>E</th>\n",
              "      <td>2.205930</td>\n",
              "      <td>2.186786</td>\n",
              "    </tr>\n",
              "  </tbody>\n",
              "</table>\n",
              "</div>"
            ],
            "text/plain": [
              "          W         X\n",
              "A -1.085631  0.997345\n",
              "B -0.578600  1.651437\n",
              "C  1.265936 -0.866740\n",
              "D  1.491390 -0.638902\n",
              "E  2.205930  2.186786"
            ]
          },
          "metadata": {
            "tags": []
          },
          "execution_count": 18
        }
      ]
    },
    {
      "cell_type": "code",
      "metadata": {
        "colab": {
          "base_uri": "https://localhost:8080/",
          "height": 166
        },
        "id": "Ii-Bk3JLCtjm",
        "outputId": "22f61295-10ab-4bba-a652-c97a295e2064"
      },
      "source": [
        "df3=df.drop('E',axis=0)           #removing something from the dataframe\r\n",
        "df3"
      ],
      "execution_count": 21,
      "outputs": [
        {
          "output_type": "execute_result",
          "data": {
            "text/html": [
              "<div>\n",
              "<style scoped>\n",
              "    .dataframe tbody tr th:only-of-type {\n",
              "        vertical-align: middle;\n",
              "    }\n",
              "\n",
              "    .dataframe tbody tr th {\n",
              "        vertical-align: top;\n",
              "    }\n",
              "\n",
              "    .dataframe thead th {\n",
              "        text-align: right;\n",
              "    }\n",
              "</style>\n",
              "<table border=\"1\" class=\"dataframe\">\n",
              "  <thead>\n",
              "    <tr style=\"text-align: right;\">\n",
              "      <th></th>\n",
              "      <th>W</th>\n",
              "      <th>X</th>\n",
              "      <th>Y</th>\n",
              "      <th>Z</th>\n",
              "      <th>New</th>\n",
              "    </tr>\n",
              "  </thead>\n",
              "  <tbody>\n",
              "    <tr>\n",
              "      <th>A</th>\n",
              "      <td>-1.085631</td>\n",
              "      <td>0.997345</td>\n",
              "      <td>0.282978</td>\n",
              "      <td>-1.506295</td>\n",
              "      <td>-0.088285</td>\n",
              "    </tr>\n",
              "    <tr>\n",
              "      <th>B</th>\n",
              "      <td>-0.578600</td>\n",
              "      <td>1.651437</td>\n",
              "      <td>-2.426679</td>\n",
              "      <td>-0.428913</td>\n",
              "      <td>1.072836</td>\n",
              "    </tr>\n",
              "    <tr>\n",
              "      <th>C</th>\n",
              "      <td>1.265936</td>\n",
              "      <td>-0.866740</td>\n",
              "      <td>-0.678886</td>\n",
              "      <td>-0.094709</td>\n",
              "      <td>0.399196</td>\n",
              "    </tr>\n",
              "    <tr>\n",
              "      <th>D</th>\n",
              "      <td>1.491390</td>\n",
              "      <td>-0.638902</td>\n",
              "      <td>-0.443982</td>\n",
              "      <td>-0.434351</td>\n",
              "      <td>0.852488</td>\n",
              "    </tr>\n",
              "  </tbody>\n",
              "</table>\n",
              "</div>"
            ],
            "text/plain": [
              "          W         X         Y         Z       New\n",
              "A -1.085631  0.997345  0.282978 -1.506295 -0.088285\n",
              "B -0.578600  1.651437 -2.426679 -0.428913  1.072836\n",
              "C  1.265936 -0.866740 -0.678886 -0.094709  0.399196\n",
              "D  1.491390 -0.638902 -0.443982 -0.434351  0.852488"
            ]
          },
          "metadata": {
            "tags": []
          },
          "execution_count": 21
        }
      ]
    },
    {
      "cell_type": "code",
      "metadata": {
        "colab": {
          "base_uri": "https://localhost:8080/"
        },
        "id": "U0PxZH2DDI0w",
        "outputId": "69c28c92-7df3-403f-e9b3-82d487e920ed"
      },
      "source": [
        "#SELECTING ROWS               #it shows all the values lying on the Row c\r\n",
        "df4=df.loc['C']\r\n",
        "df4"
      ],
      "execution_count": 22,
      "outputs": [
        {
          "output_type": "execute_result",
          "data": {
            "text/plain": [
              "W      1.265936\n",
              "X     -0.866740\n",
              "Y     -0.678886\n",
              "Z     -0.094709\n",
              "New    0.399196\n",
              "Name: C, dtype: float64"
            ]
          },
          "metadata": {
            "tags": []
          },
          "execution_count": 22
        }
      ]
    },
    {
      "cell_type": "code",
      "metadata": {
        "colab": {
          "base_uri": "https://localhost:8080/"
        },
        "id": "Pe-wzhEiD9QF",
        "outputId": "bf0adcf0-acea-41f1-a770-efdc5595dee1"
      },
      "source": [
        "df5=df.iloc[1]\r\n",
        "df5"
      ],
      "execution_count": 23,
      "outputs": [
        {
          "output_type": "execute_result",
          "data": {
            "text/plain": [
              "W     -0.578600\n",
              "X      1.651437\n",
              "Y     -2.426679\n",
              "Z     -0.428913\n",
              "New    1.072836\n",
              "Name: B, dtype: float64"
            ]
          },
          "metadata": {
            "tags": []
          },
          "execution_count": 23
        }
      ]
    },
    {
      "cell_type": "code",
      "metadata": {
        "colab": {
          "base_uri": "https://localhost:8080/",
          "height": 195
        },
        "id": "RkX8YG1WEHST",
        "outputId": "215f0242-3df0-4f99-bf35-249748943665"
      },
      "source": [
        "df\r\n",
        "df>0\r\n",
        "booldf=df>0                 #shows where the condition is true\r\n",
        "booldf"
      ],
      "execution_count": 24,
      "outputs": [
        {
          "output_type": "execute_result",
          "data": {
            "text/html": [
              "<div>\n",
              "<style scoped>\n",
              "    .dataframe tbody tr th:only-of-type {\n",
              "        vertical-align: middle;\n",
              "    }\n",
              "\n",
              "    .dataframe tbody tr th {\n",
              "        vertical-align: top;\n",
              "    }\n",
              "\n",
              "    .dataframe thead th {\n",
              "        text-align: right;\n",
              "    }\n",
              "</style>\n",
              "<table border=\"1\" class=\"dataframe\">\n",
              "  <thead>\n",
              "    <tr style=\"text-align: right;\">\n",
              "      <th></th>\n",
              "      <th>W</th>\n",
              "      <th>X</th>\n",
              "      <th>Y</th>\n",
              "      <th>Z</th>\n",
              "      <th>New</th>\n",
              "    </tr>\n",
              "  </thead>\n",
              "  <tbody>\n",
              "    <tr>\n",
              "      <th>A</th>\n",
              "      <td>False</td>\n",
              "      <td>True</td>\n",
              "      <td>True</td>\n",
              "      <td>False</td>\n",
              "      <td>False</td>\n",
              "    </tr>\n",
              "    <tr>\n",
              "      <th>B</th>\n",
              "      <td>False</td>\n",
              "      <td>True</td>\n",
              "      <td>False</td>\n",
              "      <td>False</td>\n",
              "      <td>True</td>\n",
              "    </tr>\n",
              "    <tr>\n",
              "      <th>C</th>\n",
              "      <td>True</td>\n",
              "      <td>False</td>\n",
              "      <td>False</td>\n",
              "      <td>False</td>\n",
              "      <td>True</td>\n",
              "    </tr>\n",
              "    <tr>\n",
              "      <th>D</th>\n",
              "      <td>True</td>\n",
              "      <td>False</td>\n",
              "      <td>False</td>\n",
              "      <td>False</td>\n",
              "      <td>True</td>\n",
              "    </tr>\n",
              "    <tr>\n",
              "      <th>E</th>\n",
              "      <td>True</td>\n",
              "      <td>True</td>\n",
              "      <td>True</td>\n",
              "      <td>True</td>\n",
              "      <td>True</td>\n",
              "    </tr>\n",
              "  </tbody>\n",
              "</table>\n",
              "</div>"
            ],
            "text/plain": [
              "       W      X      Y      Z    New\n",
              "A  False   True   True  False  False\n",
              "B  False   True  False  False   True\n",
              "C   True  False  False  False   True\n",
              "D   True  False  False  False   True\n",
              "E   True   True   True   True   True"
            ]
          },
          "metadata": {
            "tags": []
          },
          "execution_count": 24
        }
      ]
    },
    {
      "cell_type": "code",
      "metadata": {
        "colab": {
          "base_uri": "https://localhost:8080/"
        },
        "id": "nwIzjgKOEWOs",
        "outputId": "b31c2117-89e3-4fc3-c876-5890bf3eac37"
      },
      "source": [
        "df8=df['Z']>0\r\n",
        "df8"
      ],
      "execution_count": 25,
      "outputs": [
        {
          "output_type": "execute_result",
          "data": {
            "text/plain": [
              "A    False\n",
              "B    False\n",
              "C    False\n",
              "D    False\n",
              "E     True\n",
              "Name: Z, dtype: bool"
            ]
          },
          "metadata": {
            "tags": []
          },
          "execution_count": 25
        }
      ]
    },
    {
      "cell_type": "code",
      "metadata": {
        "colab": {
          "base_uri": "https://localhost:8080/"
        },
        "id": "LOLn-IKYE11O",
        "outputId": "2a17b1c2-1788-474a-8506-ed695ffa9008"
      },
      "source": [
        "df9=df['X']>0.5\r\n",
        "df9"
      ],
      "execution_count": 26,
      "outputs": [
        {
          "output_type": "execute_result",
          "data": {
            "text/plain": [
              "A     True\n",
              "B     True\n",
              "C    False\n",
              "D    False\n",
              "E     True\n",
              "Name: X, dtype: bool"
            ]
          },
          "metadata": {
            "tags": []
          },
          "execution_count": 26
        }
      ]
    },
    {
      "cell_type": "code",
      "metadata": {
        "colab": {
          "base_uri": "https://localhost:8080/",
          "height": 195
        },
        "id": "V6DkijOkE9c2",
        "outputId": "8915e1fc-d214-4198-e6b2-6a9350278944"
      },
      "source": [
        "df10=df.rename(columns={'W':'WW'},inplace=False)\r\n",
        "df10"
      ],
      "execution_count": 31,
      "outputs": [
        {
          "output_type": "execute_result",
          "data": {
            "text/html": [
              "<div>\n",
              "<style scoped>\n",
              "    .dataframe tbody tr th:only-of-type {\n",
              "        vertical-align: middle;\n",
              "    }\n",
              "\n",
              "    .dataframe tbody tr th {\n",
              "        vertical-align: top;\n",
              "    }\n",
              "\n",
              "    .dataframe thead th {\n",
              "        text-align: right;\n",
              "    }\n",
              "</style>\n",
              "<table border=\"1\" class=\"dataframe\">\n",
              "  <thead>\n",
              "    <tr style=\"text-align: right;\">\n",
              "      <th></th>\n",
              "      <th>WW</th>\n",
              "      <th>X</th>\n",
              "      <th>Y</th>\n",
              "      <th>Z</th>\n",
              "      <th>New</th>\n",
              "    </tr>\n",
              "  </thead>\n",
              "  <tbody>\n",
              "    <tr>\n",
              "      <th>A</th>\n",
              "      <td>-1.085631</td>\n",
              "      <td>0.997345</td>\n",
              "      <td>0.282978</td>\n",
              "      <td>-1.506295</td>\n",
              "      <td>-0.088285</td>\n",
              "    </tr>\n",
              "    <tr>\n",
              "      <th>B</th>\n",
              "      <td>-0.578600</td>\n",
              "      <td>1.651437</td>\n",
              "      <td>-2.426679</td>\n",
              "      <td>-0.428913</td>\n",
              "      <td>1.072836</td>\n",
              "    </tr>\n",
              "    <tr>\n",
              "      <th>C</th>\n",
              "      <td>1.265936</td>\n",
              "      <td>-0.866740</td>\n",
              "      <td>-0.678886</td>\n",
              "      <td>-0.094709</td>\n",
              "      <td>0.399196</td>\n",
              "    </tr>\n",
              "    <tr>\n",
              "      <th>D</th>\n",
              "      <td>1.491390</td>\n",
              "      <td>-0.638902</td>\n",
              "      <td>-0.443982</td>\n",
              "      <td>-0.434351</td>\n",
              "      <td>0.852488</td>\n",
              "    </tr>\n",
              "    <tr>\n",
              "      <th>E</th>\n",
              "      <td>2.205930</td>\n",
              "      <td>2.186786</td>\n",
              "      <td>1.004054</td>\n",
              "      <td>0.386186</td>\n",
              "      <td>4.392716</td>\n",
              "    </tr>\n",
              "  </tbody>\n",
              "</table>\n",
              "</div>"
            ],
            "text/plain": [
              "         WW         X         Y         Z       New\n",
              "A -1.085631  0.997345  0.282978 -1.506295 -0.088285\n",
              "B -0.578600  1.651437 -2.426679 -0.428913  1.072836\n",
              "C  1.265936 -0.866740 -0.678886 -0.094709  0.399196\n",
              "D  1.491390 -0.638902 -0.443982 -0.434351  0.852488\n",
              "E  2.205930  2.186786  1.004054  0.386186  4.392716"
            ]
          },
          "metadata": {
            "tags": []
          },
          "execution_count": 31
        }
      ]
    },
    {
      "cell_type": "code",
      "metadata": {
        "colab": {
          "base_uri": "https://localhost:8080/",
          "height": 195
        },
        "id": "BGg-AXT2FjPm",
        "outputId": "d82a9e84-4cbf-4337-928f-5ccd4fb404f1"
      },
      "source": [
        "df"
      ],
      "execution_count": 32,
      "outputs": [
        {
          "output_type": "execute_result",
          "data": {
            "text/html": [
              "<div>\n",
              "<style scoped>\n",
              "    .dataframe tbody tr th:only-of-type {\n",
              "        vertical-align: middle;\n",
              "    }\n",
              "\n",
              "    .dataframe tbody tr th {\n",
              "        vertical-align: top;\n",
              "    }\n",
              "\n",
              "    .dataframe thead th {\n",
              "        text-align: right;\n",
              "    }\n",
              "</style>\n",
              "<table border=\"1\" class=\"dataframe\">\n",
              "  <thead>\n",
              "    <tr style=\"text-align: right;\">\n",
              "      <th></th>\n",
              "      <th>W</th>\n",
              "      <th>X</th>\n",
              "      <th>Y</th>\n",
              "      <th>Z</th>\n",
              "      <th>New</th>\n",
              "    </tr>\n",
              "  </thead>\n",
              "  <tbody>\n",
              "    <tr>\n",
              "      <th>A</th>\n",
              "      <td>-1.085631</td>\n",
              "      <td>0.997345</td>\n",
              "      <td>0.282978</td>\n",
              "      <td>-1.506295</td>\n",
              "      <td>-0.088285</td>\n",
              "    </tr>\n",
              "    <tr>\n",
              "      <th>B</th>\n",
              "      <td>-0.578600</td>\n",
              "      <td>1.651437</td>\n",
              "      <td>-2.426679</td>\n",
              "      <td>-0.428913</td>\n",
              "      <td>1.072836</td>\n",
              "    </tr>\n",
              "    <tr>\n",
              "      <th>C</th>\n",
              "      <td>1.265936</td>\n",
              "      <td>-0.866740</td>\n",
              "      <td>-0.678886</td>\n",
              "      <td>-0.094709</td>\n",
              "      <td>0.399196</td>\n",
              "    </tr>\n",
              "    <tr>\n",
              "      <th>D</th>\n",
              "      <td>1.491390</td>\n",
              "      <td>-0.638902</td>\n",
              "      <td>-0.443982</td>\n",
              "      <td>-0.434351</td>\n",
              "      <td>0.852488</td>\n",
              "    </tr>\n",
              "    <tr>\n",
              "      <th>E</th>\n",
              "      <td>2.205930</td>\n",
              "      <td>2.186786</td>\n",
              "      <td>1.004054</td>\n",
              "      <td>0.386186</td>\n",
              "      <td>4.392716</td>\n",
              "    </tr>\n",
              "  </tbody>\n",
              "</table>\n",
              "</div>"
            ],
            "text/plain": [
              "          W         X         Y         Z       New\n",
              "A -1.085631  0.997345  0.282978 -1.506295 -0.088285\n",
              "B -0.578600  1.651437 -2.426679 -0.428913  1.072836\n",
              "C  1.265936 -0.866740 -0.678886 -0.094709  0.399196\n",
              "D  1.491390 -0.638902 -0.443982 -0.434351  0.852488\n",
              "E  2.205930  2.186786  1.004054  0.386186  4.392716"
            ]
          },
          "metadata": {
            "tags": []
          },
          "execution_count": 32
        }
      ]
    },
    {
      "cell_type": "code",
      "metadata": {
        "id": "rN-0ykqvF25u"
      },
      "source": [
        "import pandas as pd\r\n",
        "import matplotlib.pyplot as plt\r\n",
        "df11=pd.read_csv('https://rawgithubusercontent.com/CUNYLaGuardiaDataAnalytics/datasets/master/faithful.csv',index_col=0)\r\n",
        "\r\n",
        "\r\n"
      ],
      "execution_count": 41,
      "outputs": []
    },
    {
      "cell_type": "code",
      "metadata": {
        "colab": {
          "base_uri": "https://localhost:8080/",
          "height": 329
        },
        "id": "RP2_wjW2IKpF",
        "outputId": "59d7bdcd-c880-46f5-d482-0810f2067da6"
      },
      "source": [
        "df11.head()"
      ],
      "execution_count": 42,
      "outputs": [
        {
          "output_type": "execute_result",
          "data": {
            "text/html": [
              "<div>\n",
              "<style scoped>\n",
              "    .dataframe tbody tr th:only-of-type {\n",
              "        vertical-align: middle;\n",
              "    }\n",
              "\n",
              "    .dataframe tbody tr th {\n",
              "        vertical-align: top;\n",
              "    }\n",
              "\n",
              "    .dataframe thead th {\n",
              "        text-align: right;\n",
              "    }\n",
              "</style>\n",
              "<table border=\"1\" class=\"dataframe\">\n",
              "  <thead>\n",
              "    <tr style=\"text-align: right;\">\n",
              "      <th></th>\n",
              "      <th>initial-scale=1.0</th>\n",
              "      <th>maximum-scale=1.0</th>\n",
              "      <th>user-scalable=0\"&gt;&lt;meta name=\"description\" content=\" \"&gt;&lt;link</th>\n",
              "    </tr>\n",
              "    <tr>\n",
              "      <th>&lt;!DOCTYPE html&gt;&lt;html lang=\"en\"  data-adblockkey=MFwwDQYJKoZIhvcNAQEBBQADSwAwSAJBANnylWw2vLY4hUn9w06zQKbhKBfvjFUCsdFlb6TdQhxb9RXWXuI4t31c+o8fYOv/s8q1LGPga3DE1L/tHU4LENMCAwEAAQ==_nWJiPeAuczeK3fOoYDoU8Ha37hxlCj6hdv4F6orA47IgDMBvhdcGQ4IOVK2NZSI5LL9ekOhS0vp//dTGkOLLjQ==&gt;&lt;head&gt;&lt;meta charset=\"utf-8\"&gt;&lt;title&gt;rawgithubusercontent.com&amp;nbsp;-&amp;nbsp&lt;/title&gt;&lt;meta name=\"viewport\" content=\"width=device-width</th>\n",
              "      <th></th>\n",
              "      <th></th>\n",
              "      <th></th>\n",
              "    </tr>\n",
              "  </thead>\n",
              "  <tbody>\n",
              "    <tr>\n",
              "      <th>rel=\"icon\"</th>\n",
              "      <td>NaN</td>\n",
              "      <td>NaN</td>\n",
              "      <td>NaN</td>\n",
              "    </tr>\n",
              "    <tr>\n",
              "      <th>type=\"image/png\"</th>\n",
              "      <td>NaN</td>\n",
              "      <td>NaN</td>\n",
              "      <td>NaN</td>\n",
              "    </tr>\n",
              "    <tr>\n",
              "      <th>href=\"//img.sedoparking.com/templates/logos/sedo_logo.png\"</th>\n",
              "      <td>NaN</td>\n",
              "      <td>NaN</td>\n",
              "      <td>NaN</td>\n",
              "    </tr>\n",
              "    <tr>\n",
              "      <th>/&gt;&lt;/head&gt;&lt;body&gt;&lt;img width=\"16\" height=\"16\" src=\"http://img.sedoparking.com/images/js_preloader.gif\"/&gt;&lt;script type=\"text/javascript\"&gt;</th>\n",
              "      <td>NaN</td>\n",
              "      <td>NaN</td>\n",
              "      <td>NaN</td>\n",
              "    </tr>\n",
              "    <tr>\n",
              "      <th>var request = new XMLHttpRequest();</th>\n",
              "      <td>NaN</td>\n",
              "      <td>NaN</td>\n",
              "      <td>NaN</td>\n",
              "    </tr>\n",
              "  </tbody>\n",
              "</table>\n",
              "</div>"
            ],
            "text/plain": [
              "                                                   initial-scale=1.0  ...  user-scalable=0\"><meta name=\"description\" content=\" \"><link\n",
              "<!DOCTYPE html><html lang=\"en\"  data-adblockkey...                    ...                                                             \n",
              "        rel=\"icon\"                                               NaN  ...                                                NaN          \n",
              "        type=\"image/png\"                                         NaN  ...                                                NaN          \n",
              "        href=\"//img.sedoparking.com/templates/l...               NaN  ...                                                NaN          \n",
              "/></head><body><img width=\"16\" height=\"16\" src=...               NaN  ...                                                NaN          \n",
              "    var request = new XMLHttpRequest();                          NaN  ...                                                NaN          \n",
              "\n",
              "[5 rows x 3 columns]"
            ]
          },
          "metadata": {
            "tags": []
          },
          "execution_count": 42
        }
      ]
    },
    {
      "cell_type": "code",
      "metadata": {
        "colab": {
          "base_uri": "https://localhost:8080/",
          "height": 284
        },
        "id": "X5BApmOMJWmr",
        "outputId": "46eda680-da1e-4e51-804b-9bdca3faf981"
      },
      "source": [
        "df11.describe()"
      ],
      "execution_count": 43,
      "outputs": [
        {
          "output_type": "execute_result",
          "data": {
            "text/html": [
              "<div>\n",
              "<style scoped>\n",
              "    .dataframe tbody tr th:only-of-type {\n",
              "        vertical-align: middle;\n",
              "    }\n",
              "\n",
              "    .dataframe tbody tr th {\n",
              "        vertical-align: top;\n",
              "    }\n",
              "\n",
              "    .dataframe thead th {\n",
              "        text-align: right;\n",
              "    }\n",
              "</style>\n",
              "<table border=\"1\" class=\"dataframe\">\n",
              "  <thead>\n",
              "    <tr style=\"text-align: right;\">\n",
              "      <th></th>\n",
              "      <th>maximum-scale=1.0</th>\n",
              "      <th>user-scalable=0\"&gt;&lt;meta name=\"description\" content=\" \"&gt;&lt;link</th>\n",
              "    </tr>\n",
              "  </thead>\n",
              "  <tbody>\n",
              "    <tr>\n",
              "      <th>count</th>\n",
              "      <td>0.0</td>\n",
              "      <td>0.0</td>\n",
              "    </tr>\n",
              "    <tr>\n",
              "      <th>mean</th>\n",
              "      <td>NaN</td>\n",
              "      <td>NaN</td>\n",
              "    </tr>\n",
              "    <tr>\n",
              "      <th>std</th>\n",
              "      <td>NaN</td>\n",
              "      <td>NaN</td>\n",
              "    </tr>\n",
              "    <tr>\n",
              "      <th>min</th>\n",
              "      <td>NaN</td>\n",
              "      <td>NaN</td>\n",
              "    </tr>\n",
              "    <tr>\n",
              "      <th>25%</th>\n",
              "      <td>NaN</td>\n",
              "      <td>NaN</td>\n",
              "    </tr>\n",
              "    <tr>\n",
              "      <th>50%</th>\n",
              "      <td>NaN</td>\n",
              "      <td>NaN</td>\n",
              "    </tr>\n",
              "    <tr>\n",
              "      <th>75%</th>\n",
              "      <td>NaN</td>\n",
              "      <td>NaN</td>\n",
              "    </tr>\n",
              "    <tr>\n",
              "      <th>max</th>\n",
              "      <td>NaN</td>\n",
              "      <td>NaN</td>\n",
              "    </tr>\n",
              "  </tbody>\n",
              "</table>\n",
              "</div>"
            ],
            "text/plain": [
              "       maximum-scale=1.0  user-scalable=0\"><meta name=\"description\" content=\" \"><link\n",
              "count                0.0                                                0.0          \n",
              "mean                 NaN                                                NaN          \n",
              "std                  NaN                                                NaN          \n",
              "min                  NaN                                                NaN          \n",
              "25%                  NaN                                                NaN          \n",
              "50%                  NaN                                                NaN          \n",
              "75%                  NaN                                                NaN          \n",
              "max                  NaN                                                NaN          "
            ]
          },
          "metadata": {
            "tags": []
          },
          "execution_count": 43
        }
      ]
    },
    {
      "cell_type": "code",
      "metadata": {
        "colab": {
          "base_uri": "https://localhost:8080/",
          "height": 794
        },
        "id": "-0XUhRBoJ55U",
        "outputId": "c43003b8-63c3-4e53-e621-5407eac917b9"
      },
      "source": [
        "%matplotlib inline\r\n",
        "df3\r\n",
        "df3.hist()\r\n",
        "df3.plot()\r\n",
        "df3.plot(kind='hist')\r\n",
        "\r\n"
      ],
      "execution_count": 47,
      "outputs": [
        {
          "output_type": "execute_result",
          "data": {
            "text/plain": [
              "<matplotlib.axes._subplots.AxesSubplot at 0x7f986a9c3080>"
            ]
          },
          "metadata": {
            "tags": []
          },
          "execution_count": 47
        },
        {
          "output_type": "display_data",
          "data": {
            "image/png": "[encoded data removed]",
            "text/plain": [
              "<Figure size 432x288 with 6 Axes>"
            ]
          },
          "metadata": {
            "tags": [],
            "needs_background": "light"
          }
        },
        {
          "output_type": "display_data",
          "data": {
            "image/png": "[encoded data removed]",
            "text/plain": [
              "<Figure size 432x288 with 1 Axes>"
            ]
          },
          "metadata": {
            "tags": [],
            "needs_background": "light"
          }
        },
        {
          "output_type": "display_data",
          "data": {
            "image/png": "[encoded data removed]",
            "text/plain": [
              "<Figure size 432x288 with 1 Axes>"
            ]
          },
          "metadata": {
            "tags": [],
            "needs_background": "light"
          }
        }
      ]
    },
    {
      "cell_type": "code",
      "metadata": {
        "colab": {
          "base_uri": "https://localhost:8080/",
          "height": 166
        },
        "id": "37DEnAZBLWoz",
        "outputId": "7c781287-d21a-4310-d3a5-858fdb564909"
      },
      "source": [
        "df3"
      ],
      "execution_count": 48,
      "outputs": [
        {
          "output_type": "execute_result",
          "data": {
            "text/html": [
              "<div>\n",
              "<style scoped>\n",
              "    .dataframe tbody tr th:only-of-type {\n",
              "        vertical-align: middle;\n",
              "    }\n",
              "\n",
              "    .dataframe tbody tr th {\n",
              "        vertical-align: top;\n",
              "    }\n",
              "\n",
              "    .dataframe thead th {\n",
              "        text-align: right;\n",
              "    }\n",
              "</style>\n",
              "<table border=\"1\" class=\"dataframe\">\n",
              "  <thead>\n",
              "    <tr style=\"text-align: right;\">\n",
              "      <th></th>\n",
              "      <th>W</th>\n",
              "      <th>X</th>\n",
              "      <th>Y</th>\n",
              "      <th>Z</th>\n",
              "      <th>New</th>\n",
              "    </tr>\n",
              "  </thead>\n",
              "  <tbody>\n",
              "    <tr>\n",
              "      <th>A</th>\n",
              "      <td>-1.085631</td>\n",
              "      <td>0.997345</td>\n",
              "      <td>0.282978</td>\n",
              "      <td>-1.506295</td>\n",
              "      <td>-0.088285</td>\n",
              "    </tr>\n",
              "    <tr>\n",
              "      <th>B</th>\n",
              "      <td>-0.578600</td>\n",
              "      <td>1.651437</td>\n",
              "      <td>-2.426679</td>\n",
              "      <td>-0.428913</td>\n",
              "      <td>1.072836</td>\n",
              "    </tr>\n",
              "    <tr>\n",
              "      <th>C</th>\n",
              "      <td>1.265936</td>\n",
              "      <td>-0.866740</td>\n",
              "      <td>-0.678886</td>\n",
              "      <td>-0.094709</td>\n",
              "      <td>0.399196</td>\n",
              "    </tr>\n",
              "    <tr>\n",
              "      <th>D</th>\n",
              "      <td>1.491390</td>\n",
              "      <td>-0.638902</td>\n",
              "      <td>-0.443982</td>\n",
              "      <td>-0.434351</td>\n",
              "      <td>0.852488</td>\n",
              "    </tr>\n",
              "  </tbody>\n",
              "</table>\n",
              "</div>"
            ],
            "text/plain": [
              "          W         X         Y         Z       New\n",
              "A -1.085631  0.997345  0.282978 -1.506295 -0.088285\n",
              "B -0.578600  1.651437 -2.426679 -0.428913  1.072836\n",
              "C  1.265936 -0.866740 -0.678886 -0.094709  0.399196\n",
              "D  1.491390 -0.638902 -0.443982 -0.434351  0.852488"
            ]
          },
          "metadata": {
            "tags": []
          },
          "execution_count": 48
        }
      ]
    },
    {
      "cell_type": "code",
      "metadata": {
        "colab": {
          "base_uri": "https://localhost:8080/",
          "height": 318
        },
        "id": "3Mp5jqO8M5-u",
        "outputId": "80b5321f-3cbf-4102-bb27-389a0d1e2fe0"
      },
      "source": [
        "df12=pd.read_csv('https://raw.githubusercontent.com/CunyLaguardiaDataAnalytics/datasets/master/311_Service_Requests_from_2019May.csv')\r\n",
        "df12.describe()\r\n",
        "\r\n"
      ],
      "execution_count": 74,
      "outputs": [
        {
          "output_type": "stream",
          "text": [
            "/usr/local/lib/python3.6/dist-packages/IPython/core/interactiveshell.py:2718: DtypeWarning: Columns (6) have mixed types.Specify dtype option on import or set low_memory=False.\n",
            "  interactivity=interactivity, compiler=compiler, result=result)\n"
          ],
          "name": "stderr"
        },
        {
          "output_type": "execute_result",
          "data": {
            "text/html": [
              "<div>\n",
              "<style scoped>\n",
              "    .dataframe tbody tr th:only-of-type {\n",
              "        vertical-align: middle;\n",
              "    }\n",
              "\n",
              "    .dataframe tbody tr th {\n",
              "        vertical-align: top;\n",
              "    }\n",
              "\n",
              "    .dataframe thead th {\n",
              "        text-align: right;\n",
              "    }\n",
              "</style>\n",
              "<table border=\"1\" class=\"dataframe\">\n",
              "  <thead>\n",
              "    <tr style=\"text-align: right;\">\n",
              "      <th></th>\n",
              "      <th>Unique Key</th>\n",
              "      <th>BBL</th>\n",
              "      <th>Latitude</th>\n",
              "      <th>Longitude</th>\n",
              "    </tr>\n",
              "  </thead>\n",
              "  <tbody>\n",
              "    <tr>\n",
              "      <th>count</th>\n",
              "      <td>6.963700e+04</td>\n",
              "      <td>5.570200e+04</td>\n",
              "      <td>65634.000000</td>\n",
              "      <td>65634.000000</td>\n",
              "    </tr>\n",
              "    <tr>\n",
              "      <th>mean</th>\n",
              "      <td>4.260307e+07</td>\n",
              "      <td>2.869652e+09</td>\n",
              "      <td>40.723149</td>\n",
              "      <td>-73.924517</td>\n",
              "    </tr>\n",
              "    <tr>\n",
              "      <th>std</th>\n",
              "      <td>5.269818e+04</td>\n",
              "      <td>1.184250e+09</td>\n",
              "      <td>0.083621</td>\n",
              "      <td>0.085089</td>\n",
              "    </tr>\n",
              "    <tr>\n",
              "      <th>min</th>\n",
              "      <td>4.251278e+07</td>\n",
              "      <td>0.000000e+00</td>\n",
              "      <td>40.500025</td>\n",
              "      <td>-74.252279</td>\n",
              "    </tr>\n",
              "    <tr>\n",
              "      <th>25%</th>\n",
              "      <td>4.258004e+07</td>\n",
              "      <td>2.030690e+09</td>\n",
              "      <td>40.664461</td>\n",
              "      <td>-73.972161</td>\n",
              "    </tr>\n",
              "    <tr>\n",
              "      <th>50%</th>\n",
              "      <td>4.260019e+07</td>\n",
              "      <td>3.034830e+09</td>\n",
              "      <td>40.716443</td>\n",
              "      <td>-73.929758</td>\n",
              "    </tr>\n",
              "    <tr>\n",
              "      <th>75%</th>\n",
              "      <td>4.262095e+07</td>\n",
              "      <td>4.023330e+09</td>\n",
              "      <td>40.780783</td>\n",
              "      <td>-73.874064</td>\n",
              "    </tr>\n",
              "    <tr>\n",
              "      <th>max</th>\n",
              "      <td>4.297343e+07</td>\n",
              "      <td>5.080480e+09</td>\n",
              "      <td>40.912869</td>\n",
              "      <td>-73.700597</td>\n",
              "    </tr>\n",
              "  </tbody>\n",
              "</table>\n",
              "</div>"
            ],
            "text/plain": [
              "         Unique Key           BBL      Latitude     Longitude\n",
              "count  6.963700e+04  5.570200e+04  65634.000000  65634.000000\n",
              "mean   4.260307e+07  2.869652e+09     40.723149    -73.924517\n",
              "std    5.269818e+04  1.184250e+09      0.083621      0.085089\n",
              "min    4.251278e+07  0.000000e+00     40.500025    -74.252279\n",
              "25%    4.258004e+07  2.030690e+09     40.664461    -73.972161\n",
              "50%    4.260019e+07  3.034830e+09     40.716443    -73.929758\n",
              "75%    4.262095e+07  4.023330e+09     40.780783    -73.874064\n",
              "max    4.297343e+07  5.080480e+09     40.912869    -73.700597"
            ]
          },
          "metadata": {
            "tags": []
          },
          "execution_count": 74
        }
      ]
    },
    {
      "cell_type": "code",
      "metadata": {
        "colab": {
          "base_uri": "https://localhost:8080/",
          "height": 602
        },
        "id": "Rxdf_BkjN7_8",
        "outputId": "edc86001-d449-4721-d128-aeeee5cee7d7"
      },
      "source": [
        "df12.head()"
      ],
      "execution_count": 51,
      "outputs": [
        {
          "output_type": "execute_result",
          "data": {
            "text/html": [
              "<div>\n",
              "<style scoped>\n",
              "    .dataframe tbody tr th:only-of-type {\n",
              "        vertical-align: middle;\n",
              "    }\n",
              "\n",
              "    .dataframe tbody tr th {\n",
              "        vertical-align: top;\n",
              "    }\n",
              "\n",
              "    .dataframe thead th {\n",
              "        text-align: right;\n",
              "    }\n",
              "</style>\n",
              "<table border=\"1\" class=\"dataframe\">\n",
              "  <thead>\n",
              "    <tr style=\"text-align: right;\">\n",
              "      <th></th>\n",
              "      <th>Unique Key</th>\n",
              "      <th>Created Date</th>\n",
              "      <th>Closed Date</th>\n",
              "      <th>Agency</th>\n",
              "      <th>Complaint Type</th>\n",
              "      <th>Location Type</th>\n",
              "      <th>Incident Zip</th>\n",
              "      <th>Incident Address</th>\n",
              "      <th>Street Name</th>\n",
              "      <th>Address Type</th>\n",
              "      <th>City</th>\n",
              "      <th>Landmark</th>\n",
              "      <th>Facility Type</th>\n",
              "      <th>Status</th>\n",
              "      <th>Due Date</th>\n",
              "      <th>Resolution Description</th>\n",
              "      <th>BBL</th>\n",
              "      <th>Borough</th>\n",
              "      <th>Latitude</th>\n",
              "      <th>Longitude</th>\n",
              "      <th>Location</th>\n",
              "    </tr>\n",
              "  </thead>\n",
              "  <tbody>\n",
              "    <tr>\n",
              "      <th>0</th>\n",
              "      <td>42680103</td>\n",
              "      <td>5/1/2019 0:00</td>\n",
              "      <td>5/16/2019 21:45</td>\n",
              "      <td>DEP</td>\n",
              "      <td>Water System</td>\n",
              "      <td>NaN</td>\n",
              "      <td>11420</td>\n",
              "      <td>127-16 111 AVENUE</td>\n",
              "      <td>111 AVENUE</td>\n",
              "      <td>ADDRESS</td>\n",
              "      <td>South Ozone Park</td>\n",
              "      <td>NaN</td>\n",
              "      <td>NaN</td>\n",
              "      <td>Closed</td>\n",
              "      <td>NaN</td>\n",
              "      <td>The Department of Environment Protection inspe...</td>\n",
              "      <td>4.116320e+09</td>\n",
              "      <td>QUEENS</td>\n",
              "      <td>40.682565</td>\n",
              "      <td>-73.814060</td>\n",
              "      <td>(40.682565064146196, -73.81406015056832)</td>\n",
              "    </tr>\n",
              "    <tr>\n",
              "      <th>1</th>\n",
              "      <td>42530481</td>\n",
              "      <td>5/1/2019 0:00</td>\n",
              "      <td>5/2/2019 0:00</td>\n",
              "      <td>DOHMH</td>\n",
              "      <td>Food Poisoning</td>\n",
              "      <td>Restaurant/Bar/Deli/Bakery</td>\n",
              "      <td>10011</td>\n",
              "      <td>207 WEST   14 STREET</td>\n",
              "      <td>WEST   14 STREET</td>\n",
              "      <td>ADDRESS</td>\n",
              "      <td>NEW YORK</td>\n",
              "      <td>NaN</td>\n",
              "      <td>NaN</td>\n",
              "      <td>Closed</td>\n",
              "      <td>5/15/2019 22:17</td>\n",
              "      <td>Callers should contact the DOHMH Foodborne Ill...</td>\n",
              "      <td>1.007640e+09</td>\n",
              "      <td>MANHATTAN</td>\n",
              "      <td>40.738791</td>\n",
              "      <td>-74.000224</td>\n",
              "      <td>(40.738790792032844, -74.00022373020307)</td>\n",
              "    </tr>\n",
              "    <tr>\n",
              "      <th>2</th>\n",
              "      <td>42527619</td>\n",
              "      <td>5/1/2019 0:00</td>\n",
              "      <td>5/13/2019 0:00</td>\n",
              "      <td>DOHMH</td>\n",
              "      <td>Food Poisoning</td>\n",
              "      <td>Restaurant/Bar/Deli/Bakery</td>\n",
              "      <td>10025</td>\n",
              "      <td>2664 BROADWAY</td>\n",
              "      <td>BROADWAY</td>\n",
              "      <td>ADDRESS</td>\n",
              "      <td>NEW YORK</td>\n",
              "      <td>NaN</td>\n",
              "      <td>NaN</td>\n",
              "      <td>Closed</td>\n",
              "      <td>5/15/2019 10:04</td>\n",
              "      <td>The Department of Health and Mental Hygiene wi...</td>\n",
              "      <td>1.018730e+09</td>\n",
              "      <td>MANHATTAN</td>\n",
              "      <td>40.798040</td>\n",
              "      <td>-73.969300</td>\n",
              "      <td>(40.79804015465285, -73.96930001020544)</td>\n",
              "    </tr>\n",
              "    <tr>\n",
              "      <th>3</th>\n",
              "      <td>42526597</td>\n",
              "      <td>5/1/2019 0:00</td>\n",
              "      <td>5/2/2019 0:00</td>\n",
              "      <td>DOHMH</td>\n",
              "      <td>Food Poisoning</td>\n",
              "      <td>Restaurant/Bar/Deli/Bakery</td>\n",
              "      <td>11208</td>\n",
              "      <td>624 SOUTH CONDUIT BOULEVARD</td>\n",
              "      <td>SOUTH CONDUIT BOULEVARD</td>\n",
              "      <td>ADDRESS</td>\n",
              "      <td>BROOKLYN</td>\n",
              "      <td>NaN</td>\n",
              "      <td>NaN</td>\n",
              "      <td>Closed</td>\n",
              "      <td>5/15/2019 17:27</td>\n",
              "      <td>The Department of Health and Mental Hygiene wi...</td>\n",
              "      <td>3.042380e+09</td>\n",
              "      <td>BROOKLYN</td>\n",
              "      <td>40.675905</td>\n",
              "      <td>-73.866660</td>\n",
              "      <td>(40.67590510222738, -73.86665990579837)</td>\n",
              "    </tr>\n",
              "    <tr>\n",
              "      <th>4</th>\n",
              "      <td>42526595</td>\n",
              "      <td>5/1/2019 0:00</td>\n",
              "      <td>5/2/2019 0:00</td>\n",
              "      <td>DOHMH</td>\n",
              "      <td>Food Poisoning</td>\n",
              "      <td>Restaurant/Bar/Deli/Bakery</td>\n",
              "      <td>11106</td>\n",
              "      <td>31-91 21 STREET</td>\n",
              "      <td>21 STREET</td>\n",
              "      <td>ADDRESS</td>\n",
              "      <td>Astoria</td>\n",
              "      <td>NaN</td>\n",
              "      <td>NaN</td>\n",
              "      <td>Closed</td>\n",
              "      <td>5/15/2019 17:12</td>\n",
              "      <td>The Department of Health and Mental Hygiene wi...</td>\n",
              "      <td>4.005540e+09</td>\n",
              "      <td>QUEENS</td>\n",
              "      <td>40.765367</td>\n",
              "      <td>-73.931540</td>\n",
              "      <td>(40.76536704921336, -73.93154011254339)</td>\n",
              "    </tr>\n",
              "  </tbody>\n",
              "</table>\n",
              "</div>"
            ],
            "text/plain": [
              "   Unique Key  ...                                  Location\n",
              "0    42680103  ...  (40.682565064146196, -73.81406015056832)\n",
              "1    42530481  ...  (40.738790792032844, -74.00022373020307)\n",
              "2    42527619  ...   (40.79804015465285, -73.96930001020544)\n",
              "3    42526597  ...   (40.67590510222738, -73.86665990579837)\n",
              "4    42526595  ...   (40.76536704921336, -73.93154011254339)\n",
              "\n",
              "[5 rows x 21 columns]"
            ]
          },
          "metadata": {
            "tags": []
          },
          "execution_count": 51
        }
      ]
    },
    {
      "cell_type": "code",
      "metadata": {
        "id": "MgVOQOzpVT_l"
      },
      "source": [
        "df13=df12['Complaint Type'].str.contains('Water System')"
      ],
      "execution_count": 71,
      "outputs": []
    },
    {
      "cell_type": "code",
      "metadata": {
        "colab": {
          "base_uri": "https://localhost:8080/",
          "height": 295
        },
        "id": "dr_UhdFoOC7W",
        "outputId": "92ce4d96-4d42-42a3-8d77-3baf8fa44ac9"
      },
      "source": [
        "%matplotlib inline\r\n",
        "df12.plot(kind='hist')"
      ],
      "execution_count": 53,
      "outputs": [
        {
          "output_type": "execute_result",
          "data": {
            "text/plain": [
              "<matplotlib.axes._subplots.AxesSubplot at 0x7f98693c8080>"
            ]
          },
          "metadata": {
            "tags": []
          },
          "execution_count": 53
        },
        {
          "output_type": "display_data",
          "data": {
            "image/png": "[encoded data removed]",
            "text/plain": [
              "<Figure size 432x288 with 1 Axes>"
            ]
          },
          "metadata": {
            "tags": [],
            "needs_background": "light"
          }
        }
      ]
    },
    {
      "cell_type": "code",
      "metadata": {
        "colab": {
          "base_uri": "https://localhost:8080/",
          "height": 293
        },
        "id": "Wkbc2uFMOWEO",
        "outputId": "530541c7-deb6-44c3-e1c8-cac2ac6315e8"
      },
      "source": [
        "df12.plot()"
      ],
      "execution_count": 54,
      "outputs": [
        {
          "output_type": "execute_result",
          "data": {
            "text/plain": [
              "<matplotlib.axes._subplots.AxesSubplot at 0x7f9869322c50>"
            ]
          },
          "metadata": {
            "tags": []
          },
          "execution_count": 54
        },
        {
          "output_type": "display_data",
          "data": {
            "image/png": "[encoded data removed]",
            "text/plain": [
              "<Figure size 432x288 with 1 Axes>"
            ]
          },
          "metadata": {
            "tags": [],
            "needs_background": "light"
          }
        }
      ]
    },
    {
      "cell_type": "code",
      "metadata": {
        "colab": {
          "base_uri": "https://localhost:8080/",
          "height": 365
        },
        "id": "YdGo1hwUOd-Y",
        "outputId": "f80926b5-c7c6-430f-a70d-6fb2dd974719"
      },
      "source": [
        "df12.hist()"
      ],
      "execution_count": 55,
      "outputs": [
        {
          "output_type": "execute_result",
          "data": {
            "text/plain": [
              "array([[<matplotlib.axes._subplots.AxesSubplot object at 0x7f98693d7f98>,\n",
              "        <matplotlib.axes._subplots.AxesSubplot object at 0x7f986924cba8>],\n",
              "       [<matplotlib.axes._subplots.AxesSubplot object at 0x7f9869205f28>,\n",
              "        <matplotlib.axes._subplots.AxesSubplot object at 0x7f98691bf2e8>]],\n",
              "      dtype=object)"
            ]
          },
          "metadata": {
            "tags": []
          },
          "execution_count": 55
        },
        {
          "output_type": "display_data",
          "data": {
            "image/png": "[encoded data removed]",
            "text/plain": [
              "<Figure size 432x288 with 4 Axes>"
            ]
          },
          "metadata": {
            "tags": [],
            "needs_background": "light"
          }
        }
      ]
    },
    {
      "cell_type": "code",
      "metadata": {
        "colab": {
          "base_uri": "https://localhost:8080/"
        },
        "id": "eIGasmwpOh2e",
        "outputId": "815f48b7-fb10-4fde-f3fc-70b83609bde8"
      },
      "source": [
        "df12.mean()"
      ],
      "execution_count": 56,
      "outputs": [
        {
          "output_type": "execute_result",
          "data": {
            "text/plain": [
              "Unique Key    4.260307e+07\n",
              "BBL           2.869652e+09\n",
              "Latitude      4.072315e+01\n",
              "Longitude    -7.392452e+01\n",
              "dtype: float64"
            ]
          },
          "metadata": {
            "tags": []
          },
          "execution_count": 56
        }
      ]
    },
    {
      "cell_type": "code",
      "metadata": {
        "colab": {
          "base_uri": "https://localhost:8080/",
          "height": 602
        },
        "id": "ZKFknWyjPGuM",
        "outputId": "3b9224cc-22eb-4a85-929d-eb2f8e3edce9"
      },
      "source": [
        "df12.head()"
      ],
      "execution_count": 58,
      "outputs": [
        {
          "output_type": "execute_result",
          "data": {
            "text/html": [
              "<div>\n",
              "<style scoped>\n",
              "    .dataframe tbody tr th:only-of-type {\n",
              "        vertical-align: middle;\n",
              "    }\n",
              "\n",
              "    .dataframe tbody tr th {\n",
              "        vertical-align: top;\n",
              "    }\n",
              "\n",
              "    .dataframe thead th {\n",
              "        text-align: right;\n",
              "    }\n",
              "</style>\n",
              "<table border=\"1\" class=\"dataframe\">\n",
              "  <thead>\n",
              "    <tr style=\"text-align: right;\">\n",
              "      <th></th>\n",
              "      <th>Unique Key</th>\n",
              "      <th>Created Date</th>\n",
              "      <th>Closed Date</th>\n",
              "      <th>Agency</th>\n",
              "      <th>Complaint Type</th>\n",
              "      <th>Location Type</th>\n",
              "      <th>Incident Zip</th>\n",
              "      <th>Incident Address</th>\n",
              "      <th>Street Name</th>\n",
              "      <th>Address Type</th>\n",
              "      <th>City</th>\n",
              "      <th>Landmark</th>\n",
              "      <th>Facility Type</th>\n",
              "      <th>Status</th>\n",
              "      <th>Due Date</th>\n",
              "      <th>Resolution Description</th>\n",
              "      <th>BBL</th>\n",
              "      <th>Borough</th>\n",
              "      <th>Latitude</th>\n",
              "      <th>Longitude</th>\n",
              "      <th>Location</th>\n",
              "    </tr>\n",
              "  </thead>\n",
              "  <tbody>\n",
              "    <tr>\n",
              "      <th>0</th>\n",
              "      <td>42680103</td>\n",
              "      <td>5/1/2019 0:00</td>\n",
              "      <td>5/16/2019 21:45</td>\n",
              "      <td>DEP</td>\n",
              "      <td>Water System</td>\n",
              "      <td>NaN</td>\n",
              "      <td>11420</td>\n",
              "      <td>127-16 111 AVENUE</td>\n",
              "      <td>111 AVENUE</td>\n",
              "      <td>ADDRESS</td>\n",
              "      <td>South Ozone Park</td>\n",
              "      <td>NaN</td>\n",
              "      <td>NaN</td>\n",
              "      <td>Closed</td>\n",
              "      <td>NaN</td>\n",
              "      <td>The Department of Environment Protection inspe...</td>\n",
              "      <td>4.116320e+09</td>\n",
              "      <td>QUEENS</td>\n",
              "      <td>40.682565</td>\n",
              "      <td>-73.814060</td>\n",
              "      <td>(40.682565064146196, -73.81406015056832)</td>\n",
              "    </tr>\n",
              "    <tr>\n",
              "      <th>1</th>\n",
              "      <td>42530481</td>\n",
              "      <td>5/1/2019 0:00</td>\n",
              "      <td>5/2/2019 0:00</td>\n",
              "      <td>DOHMH</td>\n",
              "      <td>Food Poisoning</td>\n",
              "      <td>Restaurant/Bar/Deli/Bakery</td>\n",
              "      <td>10011</td>\n",
              "      <td>207 WEST   14 STREET</td>\n",
              "      <td>WEST   14 STREET</td>\n",
              "      <td>ADDRESS</td>\n",
              "      <td>NEW YORK</td>\n",
              "      <td>NaN</td>\n",
              "      <td>NaN</td>\n",
              "      <td>Closed</td>\n",
              "      <td>5/15/2019 22:17</td>\n",
              "      <td>Callers should contact the DOHMH Foodborne Ill...</td>\n",
              "      <td>1.007640e+09</td>\n",
              "      <td>MANHATTAN</td>\n",
              "      <td>40.738791</td>\n",
              "      <td>-74.000224</td>\n",
              "      <td>(40.738790792032844, -74.00022373020307)</td>\n",
              "    </tr>\n",
              "    <tr>\n",
              "      <th>2</th>\n",
              "      <td>42527619</td>\n",
              "      <td>5/1/2019 0:00</td>\n",
              "      <td>5/13/2019 0:00</td>\n",
              "      <td>DOHMH</td>\n",
              "      <td>Food Poisoning</td>\n",
              "      <td>Restaurant/Bar/Deli/Bakery</td>\n",
              "      <td>10025</td>\n",
              "      <td>2664 BROADWAY</td>\n",
              "      <td>BROADWAY</td>\n",
              "      <td>ADDRESS</td>\n",
              "      <td>NEW YORK</td>\n",
              "      <td>NaN</td>\n",
              "      <td>NaN</td>\n",
              "      <td>Closed</td>\n",
              "      <td>5/15/2019 10:04</td>\n",
              "      <td>The Department of Health and Mental Hygiene wi...</td>\n",
              "      <td>1.018730e+09</td>\n",
              "      <td>MANHATTAN</td>\n",
              "      <td>40.798040</td>\n",
              "      <td>-73.969300</td>\n",
              "      <td>(40.79804015465285, -73.96930001020544)</td>\n",
              "    </tr>\n",
              "    <tr>\n",
              "      <th>3</th>\n",
              "      <td>42526597</td>\n",
              "      <td>5/1/2019 0:00</td>\n",
              "      <td>5/2/2019 0:00</td>\n",
              "      <td>DOHMH</td>\n",
              "      <td>Food Poisoning</td>\n",
              "      <td>Restaurant/Bar/Deli/Bakery</td>\n",
              "      <td>11208</td>\n",
              "      <td>624 SOUTH CONDUIT BOULEVARD</td>\n",
              "      <td>SOUTH CONDUIT BOULEVARD</td>\n",
              "      <td>ADDRESS</td>\n",
              "      <td>BROOKLYN</td>\n",
              "      <td>NaN</td>\n",
              "      <td>NaN</td>\n",
              "      <td>Closed</td>\n",
              "      <td>5/15/2019 17:27</td>\n",
              "      <td>The Department of Health and Mental Hygiene wi...</td>\n",
              "      <td>3.042380e+09</td>\n",
              "      <td>BROOKLYN</td>\n",
              "      <td>40.675905</td>\n",
              "      <td>-73.866660</td>\n",
              "      <td>(40.67590510222738, -73.86665990579837)</td>\n",
              "    </tr>\n",
              "    <tr>\n",
              "      <th>4</th>\n",
              "      <td>42526595</td>\n",
              "      <td>5/1/2019 0:00</td>\n",
              "      <td>5/2/2019 0:00</td>\n",
              "      <td>DOHMH</td>\n",
              "      <td>Food Poisoning</td>\n",
              "      <td>Restaurant/Bar/Deli/Bakery</td>\n",
              "      <td>11106</td>\n",
              "      <td>31-91 21 STREET</td>\n",
              "      <td>21 STREET</td>\n",
              "      <td>ADDRESS</td>\n",
              "      <td>Astoria</td>\n",
              "      <td>NaN</td>\n",
              "      <td>NaN</td>\n",
              "      <td>Closed</td>\n",
              "      <td>5/15/2019 17:12</td>\n",
              "      <td>The Department of Health and Mental Hygiene wi...</td>\n",
              "      <td>4.005540e+09</td>\n",
              "      <td>QUEENS</td>\n",
              "      <td>40.765367</td>\n",
              "      <td>-73.931540</td>\n",
              "      <td>(40.76536704921336, -73.93154011254339)</td>\n",
              "    </tr>\n",
              "  </tbody>\n",
              "</table>\n",
              "</div>"
            ],
            "text/plain": [
              "   Unique Key  ...                                  Location\n",
              "0    42680103  ...  (40.682565064146196, -73.81406015056832)\n",
              "1    42530481  ...  (40.738790792032844, -74.00022373020307)\n",
              "2    42527619  ...   (40.79804015465285, -73.96930001020544)\n",
              "3    42526597  ...   (40.67590510222738, -73.86665990579837)\n",
              "4    42526595  ...   (40.76536704921336, -73.93154011254339)\n",
              "\n",
              "[5 rows x 21 columns]"
            ]
          },
          "metadata": {
            "tags": []
          },
          "execution_count": 58
        }
      ]
    },
    {
      "cell_type": "code",
      "metadata": {
        "colab": {
          "base_uri": "https://localhost:8080/"
        },
        "id": "3n12v6u0PXxh",
        "outputId": "6774f8f3-8ce5-4107-cd65-9fb48b566cc9"
      },
      "source": [
        "df12.groupby(['Borough'])['Unique Key'].count()"
      ],
      "execution_count": 59,
      "outputs": [
        {
          "output_type": "execute_result",
          "data": {
            "text/plain": [
              "Borough\n",
              "BRONX            10925\n",
              "BROOKLYN         22247\n",
              "MANHATTAN        13133\n",
              "QUEENS           18623\n",
              "STATEN ISLAND     3848\n",
              "Unspecified        861\n",
              "Name: Unique Key, dtype: int64"
            ]
          },
          "metadata": {
            "tags": []
          },
          "execution_count": 59
        }
      ]
    },
    {
      "cell_type": "code",
      "metadata": {
        "id": "Fmh8wX8zVZOJ"
      },
      "source": [
        "df13=df12['Complaint Type'].str.contains('Water System')"
      ],
      "execution_count": 72,
      "outputs": []
    },
    {
      "cell_type": "code",
      "metadata": {
        "colab": {
          "base_uri": "https://localhost:8080/"
        },
        "id": "baVFpS2tRGR1",
        "outputId": "ffac6164-1327-4e3d-bf67-c5baf4c96fc6"
      },
      "source": [
        "df12.groupby(['Borough'])['Unique Key'].count().sort_values(ascending=False)"
      ],
      "execution_count": 60,
      "outputs": [
        {
          "output_type": "execute_result",
          "data": {
            "text/plain": [
              "Borough\n",
              "BROOKLYN         22247\n",
              "QUEENS           18623\n",
              "MANHATTAN        13133\n",
              "BRONX            10925\n",
              "STATEN ISLAND     3848\n",
              "Unspecified        861\n",
              "Name: Unique Key, dtype: int64"
            ]
          },
          "metadata": {
            "tags": []
          },
          "execution_count": 60
        }
      ]
    },
    {
      "cell_type": "code",
      "metadata": {
        "colab": {
          "base_uri": "https://localhost:8080/",
          "height": 364
        },
        "id": "nxIRnHPCRRlO",
        "outputId": "765386e3-5b5b-46ea-ed3d-0740d3c37445"
      },
      "source": [
        "df12.groupby(['Borough'])['Unique Key'].count().plot(kind='bar')\r\n"
      ],
      "execution_count": 61,
      "outputs": [
        {
          "output_type": "execute_result",
          "data": {
            "text/plain": [
              "<matplotlib.axes._subplots.AxesSubplot at 0x7f986939abe0>"
            ]
          },
          "metadata": {
            "tags": []
          },
          "execution_count": 61
        },
        {
          "output_type": "display_data",
          "data": {
            "image/png": "[encoded data removed]",
            "text/plain": [
              "<Figure size 432x288 with 1 Axes>"
            ]
          },
          "metadata": {
            "tags": [],
            "needs_background": "light"
          }
        }
      ]
    },
    {
      "cell_type": "code",
      "metadata": {
        "id": "keA0X-nkRbc7"
      },
      "source": [
        "df13=df12['Complaint Type'].str.contains('Water System')\r\n"
      ],
      "execution_count": 69,
      "outputs": []
    },
    {
      "cell_type": "code",
      "metadata": {
        "colab": {
          "base_uri": "https://localhost:8080/",
          "height": 296
        },
        "id": "8M9Ry4BURiA9",
        "outputId": "1c076a98-96b7-413d-a9d9-b8296337ce13"
      },
      "source": [
        "df12.groupby(['Borough'])['Unique Key'].count().plot(kind='line')"
      ],
      "execution_count": 67,
      "outputs": [
        {
          "output_type": "execute_result",
          "data": {
            "text/plain": [
              "<matplotlib.axes._subplots.AxesSubplot at 0x7f986b4f3470>"
            ]
          },
          "metadata": {
            "tags": []
          },
          "execution_count": 67
        },
        {
          "output_type": "display_data",
          "data": {
            "image/png": "[encoded data removed]",
            "text/plain": [
              "<Figure size 432x288 with 1 Axes>"
            ]
          },
          "metadata": {
            "tags": [],
            "needs_background": "light"
          }
        }
      ]
    },
    {
      "cell_type": "code",
      "metadata": {
        "colab": {
          "base_uri": "https://localhost:8080/",
          "height": 136
        },
        "id": "Wg96cW6JSpQf",
        "outputId": "dff470f3-b759-49cf-df85-d931af2a62ee"
      },
      "source": [
        "df51={'A':[1,2, np.nan],'B':[3,np.nan,np.nan]}\r\n",
        "df14=pd.DataFrame(df51)\r\n",
        "df14"
      ],
      "execution_count": 76,
      "outputs": [
        {
          "output_type": "execute_result",
          "data": {
            "text/html": [
              "<div>\n",
              "<style scoped>\n",
              "    .dataframe tbody tr th:only-of-type {\n",
              "        vertical-align: middle;\n",
              "    }\n",
              "\n",
              "    .dataframe tbody tr th {\n",
              "        vertical-align: top;\n",
              "    }\n",
              "\n",
              "    .dataframe thead th {\n",
              "        text-align: right;\n",
              "    }\n",
              "</style>\n",
              "<table border=\"1\" class=\"dataframe\">\n",
              "  <thead>\n",
              "    <tr style=\"text-align: right;\">\n",
              "      <th></th>\n",
              "      <th>A</th>\n",
              "      <th>B</th>\n",
              "    </tr>\n",
              "  </thead>\n",
              "  <tbody>\n",
              "    <tr>\n",
              "      <th>0</th>\n",
              "      <td>1.0</td>\n",
              "      <td>3.0</td>\n",
              "    </tr>\n",
              "    <tr>\n",
              "      <th>1</th>\n",
              "      <td>2.0</td>\n",
              "      <td>NaN</td>\n",
              "    </tr>\n",
              "    <tr>\n",
              "      <th>2</th>\n",
              "      <td>NaN</td>\n",
              "      <td>NaN</td>\n",
              "    </tr>\n",
              "  </tbody>\n",
              "</table>\n",
              "</div>"
            ],
            "text/plain": [
              "     A    B\n",
              "0  1.0  3.0\n",
              "1  2.0  NaN\n",
              "2  NaN  NaN"
            ]
          },
          "metadata": {
            "tags": []
          },
          "execution_count": 76
        }
      ]
    },
    {
      "cell_type": "code",
      "metadata": {
        "colab": {
          "base_uri": "https://localhost:8080/",
          "height": 136
        },
        "id": "XaXXwzn9WGYx",
        "outputId": "ee554fee-e4cc-4e8d-dffb-f8624a5d6357"
      },
      "source": [
        "df14.isnull()"
      ],
      "execution_count": 77,
      "outputs": [
        {
          "output_type": "execute_result",
          "data": {
            "text/html": [
              "<div>\n",
              "<style scoped>\n",
              "    .dataframe tbody tr th:only-of-type {\n",
              "        vertical-align: middle;\n",
              "    }\n",
              "\n",
              "    .dataframe tbody tr th {\n",
              "        vertical-align: top;\n",
              "    }\n",
              "\n",
              "    .dataframe thead th {\n",
              "        text-align: right;\n",
              "    }\n",
              "</style>\n",
              "<table border=\"1\" class=\"dataframe\">\n",
              "  <thead>\n",
              "    <tr style=\"text-align: right;\">\n",
              "      <th></th>\n",
              "      <th>A</th>\n",
              "      <th>B</th>\n",
              "    </tr>\n",
              "  </thead>\n",
              "  <tbody>\n",
              "    <tr>\n",
              "      <th>0</th>\n",
              "      <td>False</td>\n",
              "      <td>False</td>\n",
              "    </tr>\n",
              "    <tr>\n",
              "      <th>1</th>\n",
              "      <td>False</td>\n",
              "      <td>True</td>\n",
              "    </tr>\n",
              "    <tr>\n",
              "      <th>2</th>\n",
              "      <td>True</td>\n",
              "      <td>True</td>\n",
              "    </tr>\n",
              "  </tbody>\n",
              "</table>\n",
              "</div>"
            ],
            "text/plain": [
              "       A      B\n",
              "0  False  False\n",
              "1  False   True\n",
              "2   True   True"
            ]
          },
          "metadata": {
            "tags": []
          },
          "execution_count": 77
        }
      ]
    },
    {
      "cell_type": "code",
      "metadata": {
        "colab": {
          "base_uri": "https://localhost:8080/"
        },
        "id": "TZKuDTHJWNtD",
        "outputId": "55581d4d-4ab5-406e-c75f-8ffb22dd205d"
      },
      "source": [
        "df14.isnull().sum()"
      ],
      "execution_count": 78,
      "outputs": [
        {
          "output_type": "execute_result",
          "data": {
            "text/plain": [
              "A    1\n",
              "B    2\n",
              "dtype: int64"
            ]
          },
          "metadata": {
            "tags": []
          },
          "execution_count": 78
        }
      ]
    },
    {
      "cell_type": "code",
      "metadata": {
        "colab": {
          "base_uri": "https://localhost:8080/"
        },
        "id": "ucc-4QteWRfy",
        "outputId": "e1736903-e577-485b-a03f-522409974be4"
      },
      "source": [
        "df14.isnull().sum().sum()"
      ],
      "execution_count": 79,
      "outputs": [
        {
          "output_type": "execute_result",
          "data": {
            "text/plain": [
              "3"
            ]
          },
          "metadata": {
            "tags": []
          },
          "execution_count": 79
        }
      ]
    },
    {
      "cell_type": "code",
      "metadata": {
        "colab": {
          "base_uri": "https://localhost:8080/",
          "height": 77
        },
        "id": "qxXJcj78WVbK",
        "outputId": "eecc46cd-581b-4ed8-c8d7-1aabbf02e5a3"
      },
      "source": [
        "df51\r\n",
        "df15=pd.DataFrame(df51)\r\n",
        "df15\r\n",
        "df16=df15.dropna()              #drops off all NA values\r\n",
        "df16"
      ],
      "execution_count": 81,
      "outputs": [
        {
          "output_type": "execute_result",
          "data": {
            "text/html": [
              "<div>\n",
              "<style scoped>\n",
              "    .dataframe tbody tr th:only-of-type {\n",
              "        vertical-align: middle;\n",
              "    }\n",
              "\n",
              "    .dataframe tbody tr th {\n",
              "        vertical-align: top;\n",
              "    }\n",
              "\n",
              "    .dataframe thead th {\n",
              "        text-align: right;\n",
              "    }\n",
              "</style>\n",
              "<table border=\"1\" class=\"dataframe\">\n",
              "  <thead>\n",
              "    <tr style=\"text-align: right;\">\n",
              "      <th></th>\n",
              "      <th>A</th>\n",
              "      <th>B</th>\n",
              "    </tr>\n",
              "  </thead>\n",
              "  <tbody>\n",
              "    <tr>\n",
              "      <th>0</th>\n",
              "      <td>1.0</td>\n",
              "      <td>3.0</td>\n",
              "    </tr>\n",
              "  </tbody>\n",
              "</table>\n",
              "</div>"
            ],
            "text/plain": [
              "     A    B\n",
              "0  1.0  3.0"
            ]
          },
          "metadata": {
            "tags": []
          },
          "execution_count": 81
        }
      ]
    },
    {
      "cell_type": "code",
      "metadata": {
        "colab": {
          "base_uri": "https://localhost:8080/",
          "height": 120
        },
        "id": "_uDncoCbXO5Z",
        "outputId": "1ed1d930-815a-46c2-e9a1-11b97814a4b2"
      },
      "source": [
        "df17=df15.dropna(axis=1)     #drops columns that have a NA value\r\n",
        "df17"
      ],
      "execution_count": 82,
      "outputs": [
        {
          "output_type": "execute_result",
          "data": {
            "text/html": [
              "<div>\n",
              "<style scoped>\n",
              "    .dataframe tbody tr th:only-of-type {\n",
              "        vertical-align: middle;\n",
              "    }\n",
              "\n",
              "    .dataframe tbody tr th {\n",
              "        vertical-align: top;\n",
              "    }\n",
              "\n",
              "    .dataframe thead th {\n",
              "        text-align: right;\n",
              "    }\n",
              "</style>\n",
              "<table border=\"1\" class=\"dataframe\">\n",
              "  <thead>\n",
              "    <tr style=\"text-align: right;\">\n",
              "      <th></th>\n",
              "    </tr>\n",
              "  </thead>\n",
              "  <tbody>\n",
              "    <tr>\n",
              "      <th>0</th>\n",
              "    </tr>\n",
              "    <tr>\n",
              "      <th>1</th>\n",
              "    </tr>\n",
              "    <tr>\n",
              "      <th>2</th>\n",
              "    </tr>\n",
              "  </tbody>\n",
              "</table>\n",
              "</div>"
            ],
            "text/plain": [
              "Empty DataFrame\n",
              "Columns: []\n",
              "Index: [0, 1, 2]"
            ]
          },
          "metadata": {
            "tags": []
          },
          "execution_count": 82
        }
      ]
    },
    {
      "cell_type": "code",
      "metadata": {
        "colab": {
          "base_uri": "https://localhost:8080/",
          "height": 77
        },
        "id": "B8XrZe3CXhHA",
        "outputId": "eec05cde-af2e-4c09-8a62-ae4514316a64"
      },
      "source": [
        "df18=df15.dropna(thresh=2)        #drops na value if threshold is met\r\n",
        "df18"
      ],
      "execution_count": 83,
      "outputs": [
        {
          "output_type": "execute_result",
          "data": {
            "text/html": [
              "<div>\n",
              "<style scoped>\n",
              "    .dataframe tbody tr th:only-of-type {\n",
              "        vertical-align: middle;\n",
              "    }\n",
              "\n",
              "    .dataframe tbody tr th {\n",
              "        vertical-align: top;\n",
              "    }\n",
              "\n",
              "    .dataframe thead th {\n",
              "        text-align: right;\n",
              "    }\n",
              "</style>\n",
              "<table border=\"1\" class=\"dataframe\">\n",
              "  <thead>\n",
              "    <tr style=\"text-align: right;\">\n",
              "      <th></th>\n",
              "      <th>A</th>\n",
              "      <th>B</th>\n",
              "    </tr>\n",
              "  </thead>\n",
              "  <tbody>\n",
              "    <tr>\n",
              "      <th>0</th>\n",
              "      <td>1.0</td>\n",
              "      <td>3.0</td>\n",
              "    </tr>\n",
              "  </tbody>\n",
              "</table>\n",
              "</div>"
            ],
            "text/plain": [
              "     A    B\n",
              "0  1.0  3.0"
            ]
          },
          "metadata": {
            "tags": []
          },
          "execution_count": 83
        }
      ]
    },
    {
      "cell_type": "code",
      "metadata": {
        "colab": {
          "base_uri": "https://localhost:8080/",
          "height": 136
        },
        "id": "whbd3IH6XrMP",
        "outputId": "e68817c7-ce2c-4e29-87cb-6f88726820f8"
      },
      "source": [
        "df19=df15.fillna(value=0)     #NAN values are converted to 0\r\n",
        "df19"
      ],
      "execution_count": 87,
      "outputs": [
        {
          "output_type": "execute_result",
          "data": {
            "text/html": [
              "<div>\n",
              "<style scoped>\n",
              "    .dataframe tbody tr th:only-of-type {\n",
              "        vertical-align: middle;\n",
              "    }\n",
              "\n",
              "    .dataframe tbody tr th {\n",
              "        vertical-align: top;\n",
              "    }\n",
              "\n",
              "    .dataframe thead th {\n",
              "        text-align: right;\n",
              "    }\n",
              "</style>\n",
              "<table border=\"1\" class=\"dataframe\">\n",
              "  <thead>\n",
              "    <tr style=\"text-align: right;\">\n",
              "      <th></th>\n",
              "      <th>A</th>\n",
              "      <th>B</th>\n",
              "    </tr>\n",
              "  </thead>\n",
              "  <tbody>\n",
              "    <tr>\n",
              "      <th>0</th>\n",
              "      <td>1.0</td>\n",
              "      <td>3.0</td>\n",
              "    </tr>\n",
              "    <tr>\n",
              "      <th>1</th>\n",
              "      <td>2.0</td>\n",
              "      <td>0.0</td>\n",
              "    </tr>\n",
              "    <tr>\n",
              "      <th>2</th>\n",
              "      <td>0.0</td>\n",
              "      <td>0.0</td>\n",
              "    </tr>\n",
              "  </tbody>\n",
              "</table>\n",
              "</div>"
            ],
            "text/plain": [
              "     A    B\n",
              "0  1.0  3.0\n",
              "1  2.0  0.0\n",
              "2  0.0  0.0"
            ]
          },
          "metadata": {
            "tags": []
          },
          "execution_count": 87
        }
      ]
    },
    {
      "cell_type": "code",
      "metadata": {
        "id": "b-Mn6xsWYClK"
      },
      "source": [
        ""
      ],
      "execution_count": null,
      "outputs": []
    }
  ]
}