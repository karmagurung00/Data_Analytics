{
  "nbformat": 4,
  "nbformat_minor": 0,
  "metadata": {
    "colab": {
      "name": " Practice_Exercise_for_Review011221.ipynb",
      "provenance": [],
      "collapsed_sections": [],
      "include_colab_link": true
    },
    "kernelspec": {
      "name": "python3",
      "display_name": "Python 3"
    }
  },
  "cells": [
    {
      "cell_type": "markdown",
      "metadata": {
        "id": "view-in-github",
        "colab_type": "text"
      },
      "source": [
        "<a href=\"https://colab.research.google.com/github/karmagurung00/Data_Analytics/blob/main/Track1/Python/Practice_Exercise_for_Review011221.ipynb\" target=\"_parent\"><img src=\"https://colab.research.google.com/assets/colab-badge.svg\" alt=\"Open In Colab\"/></a>"
      ]
    },
    {
      "cell_type": "markdown",
      "metadata": {
        "id": "tXcr7hqpYFIo"
      },
      "source": [
        "1. Write a Python program to sum all the items in a list"
      ]
    },
    {
      "cell_type": "code",
      "metadata": {
        "id": "nba_nd5_aY86",
        "colab": {
          "base_uri": "https://localhost:8080/"
        },
        "outputId": "1c755209-33e3-478e-edaf-ea0026fc7e90"
      },
      "source": [
        "lists_1=[11,33,50,50,14]\r\n",
        "a=lists_1[0]+lists_1[1]+lists_1[2]+lists_1[3]+lists_1[4]\r\n",
        "print(a)"
      ],
      "execution_count": null,
      "outputs": [
        {
          "output_type": "stream",
          "text": [
            "158\n"
          ],
          "name": "stdout"
        }
      ]
    },
    {
      "cell_type": "code",
      "metadata": {
        "colab": {
          "base_uri": "https://localhost:8080/"
        },
        "id": "Wu4E69zYyO7K",
        "outputId": "a1edc305-aa65-4ba4-ee93-23e8761ff36a"
      },
      "source": [
        "def sum_list(items):\r\n",
        "    sum_numbers = 0\r\n",
        "    for x in items:\r\n",
        "        sum_numbers += x\r\n",
        "    return sum_numbers\r\n",
        "print(sum_list([11,33,50,50,14]))"
      ],
      "execution_count": null,
      "outputs": [
        {
          "output_type": "stream",
          "text": [
            "158\n"
          ],
          "name": "stdout"
        }
      ]
    },
    {
      "cell_type": "code",
      "metadata": {
        "id": "dy-sou2Bxx9s"
      },
      "source": [
        "list_3=['1','2','3','4']\r\n",
        "for x in range(0,len(list_3)):\r\n",
        "  "
      ],
      "execution_count": null,
      "outputs": []
    },
    {
      "cell_type": "markdown",
      "metadata": {
        "id": "2P9TAiyYYOcc"
      },
      "source": [
        "2. Write a Python program to count the number of strings where the string length is 2 or more and the first and last character are same from a given list of strings\r\n",
        "* Sample List : ['abc', 'xyz', 'aba', '1221']\r\n",
        "\r\n",
        "\r\n"
      ]
    },
    {
      "cell_type": "code",
      "metadata": {
        "id": "0XL35NokYpBZ",
        "colab": {
          "base_uri": "https://localhost:8080/"
        },
        "outputId": "85c8f37a-e9f1-41d1-f9a8-a4ffa5406e85"
      },
      "source": [
        "lists_2=['abc', 'xyz', 'aba', '1221']\r\n",
        "def match_words(words):\r\n",
        "  a = 0\r\n",
        "\r\n",
        "  for word in words:\r\n",
        "    if len(word) > 2 and word[0] == word[-1]:\r\n",
        "      a += 1\r\n",
        "  return a\r\n",
        "\r\n",
        "print(match_words(['abc', 'xyz', 'aba', '1221']))"
      ],
      "execution_count": null,
      "outputs": [
        {
          "output_type": "stream",
          "text": [
            "2\n"
          ],
          "name": "stdout"
        }
      ]
    },
    {
      "cell_type": "markdown",
      "metadata": {
        "id": "4lsqufkdYqHg"
      },
      "source": [
        "3. Write a Python function that takes two lists and returns True if they have at least one common member."
      ]
    },
    {
      "cell_type": "code",
      "metadata": {
        "id": "hNhFSqHFYsWa",
        "colab": {
          "base_uri": "https://localhost:8080/"
        },
        "outputId": "bda38dc9-221d-4721-fe3c-88e95be8dbdd"
      },
      "source": [
        "a=['Adam','11258','Brooklyn']\r\n",
        "b=['Adam','11214','Queens']\r\n",
        "if a[0]==b[0]:\r\n",
        "  print(True)\r\n",
        "elif a[1]==b[1]:\r\n",
        "  print(True)\r\n",
        "elif a[2]==b[2]:\r\n",
        "  print(True)\r\n",
        "else:\r\n",
        "  print(False)\r\n",
        "\r\n"
      ],
      "execution_count": null,
      "outputs": [
        {
          "output_type": "stream",
          "text": [
            "True\n"
          ],
          "name": "stdout"
        }
      ]
    },
    {
      "cell_type": "markdown",
      "metadata": {
        "id": "vYfPDaBmYtFo"
      },
      "source": [
        "4. Write a Python program to print a specified list after removing the 0th, 4th and 5th elements.\r\n",
        "* Sample List : ['Red', 'Green', 'White', 'Black', 'Pink', 'Yellow']\r\n",
        "\r\n",
        "\r\n",
        "\r\n",
        "\r\n",
        "\r\n"
      ]
    },
    {
      "cell_type": "code",
      "metadata": {
        "id": "wXCNsI3qZAjB",
        "colab": {
          "base_uri": "https://localhost:8080/"
        },
        "outputId": "421ee343-4cc9-4593-e32c-9a2344827e3f"
      },
      "source": [
        "a=['Red', 'Green', 'White', 'Black', 'Pink', 'Yellow']\r\n",
        "print(a)\r\n",
        "\r\n",
        "del a[0]\r\n",
        "del a[2]\r\n",
        "del a[2]\r\n",
        "print(a)"
      ],
      "execution_count": null,
      "outputs": [
        {
          "output_type": "stream",
          "text": [
            "['Red', 'Green', 'White', 'Black', 'Pink', 'Yellow']\n",
            "['Green', 'White', 'Yellow']\n"
          ],
          "name": "stdout"
        }
      ]
    },
    {
      "cell_type": "markdown",
      "metadata": {
        "id": "TR8c2eW_ZBJI"
      },
      "source": [
        ""
      ]
    },
    {
      "cell_type": "markdown",
      "metadata": {
        "id": "6qkBW70uZEkh"
      },
      "source": [
        "5. Write a Python program to print the numbers of a specified list after removing even numbers from it."
      ]
    },
    {
      "cell_type": "code",
      "metadata": {
        "id": "4BZTc8uqZHQo",
        "colab": {
          "base_uri": "https://localhost:8080/"
        },
        "outputId": "ff76d162-9143-429b-c113-7e2b189c0d14"
      },
      "source": [
        "norm=[10,12,1,13,9,19]\r\n",
        "for x in norm:\r\n",
        "  if (x % 2)==1:\r\n",
        "    print(x,end=' ')\r\n"
      ],
      "execution_count": null,
      "outputs": [
        {
          "output_type": "stream",
          "text": [
            "1 13 9 19 "
          ],
          "name": "stdout"
        }
      ]
    },
    {
      "cell_type": "markdown",
      "metadata": {
        "id": "iIrq_TfAZQhk"
      },
      "source": [
        "6. Write a Python program to convert a list of characters into a string."
      ]
    },
    {
      "cell_type": "code",
      "metadata": {
        "id": "9hPTJj5gZSnk",
        "colab": {
          "base_uri": "https://localhost:8080/"
        },
        "outputId": "d1906820-f959-493a-d997-226e18a13320"
      },
      "source": [
        "apple=['Newyork',1,'California',2]\r\n",
        "a=str(apple)\r\n",
        "type(a)"
      ],
      "execution_count": null,
      "outputs": [
        {
          "output_type": "execute_result",
          "data": {
            "text/plain": [
              "str"
            ]
          },
          "metadata": {
            "tags": []
          },
          "execution_count": 14
        }
      ]
    },
    {
      "cell_type": "markdown",
      "metadata": {
        "id": "SkdABAMBZgar"
      },
      "source": [
        "8. Write a Python program to count the number of elements in a list within a specified range."
      ]
    },
    {
      "cell_type": "code",
      "metadata": {
        "id": "-7xMT5hwaDsO",
        "colab": {
          "base_uri": "https://localhost:8080/"
        },
        "outputId": "acbec9cf-eab7-4d69-b111-22aac6256898"
      },
      "source": [
        "apple=['Mango','Pineapple','Strawberry','Lemon','Watermelon']\r\n",
        "print(len(apple[0:3]))\r\n",
        "print(len(apple[1:5]))"
      ],
      "execution_count": null,
      "outputs": [
        {
          "output_type": "stream",
          "text": [
            "3\n",
            "4\n"
          ],
          "name": "stdout"
        }
      ]
    },
    {
      "cell_type": "markdown",
      "metadata": {
        "id": "3LxonRtgceIz"
      },
      "source": [
        "9. Write a Python program to convert a list of multiple integers into a single \r\n",
        "\r\n",
        "\r\n",
        "\r\n",
        "\r\n",
        "\r\n",
        "integer\r\n",
        "*  Sample list: [11, 33, 50]\r\n",
        "\r\n"
      ]
    },
    {
      "cell_type": "code",
      "metadata": {
        "id": "TCkuaRkAciey",
        "colab": {
          "base_uri": "https://localhost:8080/"
        },
        "outputId": "7df1a5e1-4aa7-4ad5-eabd-03c95cc2bea8"
      },
      "source": [
        "lists=[11,33,50]\r\n",
        "for n in lists:\r\n",
        "  print(n,end='')"
      ],
      "execution_count": null,
      "outputs": [
        {
          "output_type": "stream",
          "text": [
            "113350"
          ],
          "name": "stdout"
        }
      ]
    },
    {
      "cell_type": "markdown",
      "metadata": {
        "id": "X5V3Hvh1hafZ"
      },
      "source": [
        "10.Write a Python program to print a nested lists (each list on a new line) using the print() function.\r\n",
        "\r\n",
        "*  colors = [['Red'], ['Green'], ['Black']]\r\n",
        "\r\n"
      ]
    },
    {
      "cell_type": "code",
      "metadata": {
        "id": "04nRLJj1eYjM",
        "colab": {
          "base_uri": "https://localhost:8080/"
        },
        "outputId": "8cb819a3-b23e-47dc-e480-214f2562b185"
      },
      "source": [
        "colors=[['Red'],['Green'],['Black']]\r\n",
        "for a in colors:\r\n",
        "  print(a)"
      ],
      "execution_count": null,
      "outputs": [
        {
          "output_type": "stream",
          "text": [
            "['Red']\n",
            "['Green']\n",
            "['Black']\n"
          ],
          "name": "stdout"
        }
      ]
    },
    {
      "cell_type": "markdown",
      "metadata": {
        "id": "6aoN9DIcik2G"
      },
      "source": [
        "\r\n",
        "\r\n",
        "\r\n",
        "\r\n",
        "11. Write a Python script to concatenate following dictionaries to create a new one using a loop\r\n",
        "\r\n",
        "* dic1={1:10, 2:20}\r\n",
        "* dic2={3:30, 4:40}\r\n",
        "* dic3={5:50,6:60}\r\n",
        "\r\n",
        "\r\n",
        "\r\n",
        "\r\n"
      ]
    },
    {
      "cell_type": "code",
      "metadata": {
        "id": "tRcQVNDajOBG",
        "colab": {
          "base_uri": "https://localhost:8080/"
        },
        "outputId": "0aa95ea6-9e0c-4cdc-d05c-c6acdd270775"
      },
      "source": [
        "dic1={1:10, 2:20}\r\n",
        "dic2={3:30, 4:40}\r\n",
        "dic3={5:50,6:60}\r\n",
        "dic4 = {}\r\n",
        "for d in (dic1, dic2, dic3): dic4.update(d)\r\n",
        "print(dic4)\r\n",
        "\r\n"
      ],
      "execution_count": null,
      "outputs": [
        {
          "output_type": "stream",
          "text": [
            "{1: 10, 2: 20, 3: 30, 4: 40, 5: 50, 6: 60}\n"
          ],
          "name": "stdout"
        }
      ]
    },
    {
      "cell_type": "markdown",
      "metadata": {
        "id": "LJ9xp0nmjV-0"
      },
      "source": [
        "12.Write a Python script to check whether a given key already exists in a dictionary."
      ]
    },
    {
      "cell_type": "code",
      "metadata": {
        "id": "o6eNQ9RQjlHc",
        "colab": {
          "base_uri": "https://localhost:8080/"
        },
        "outputId": "75d43c1d-3cd6-4248-9b5b-42ac7c2c8131"
      },
      "source": [
        "dic4={1: 10, 2: 20, 3: 30, 4: 40, 5: 50, 6: 60}\r\n",
        "def key_exists(x):\r\n",
        "  if x in dic4:\r\n",
        "    print('The given key already exists in the dictionary.')\r\n",
        "  else:\r\n",
        "    print('The given key does not exists in the dictionary.')\r\n",
        "  \r\n",
        "key_exists(15)"
      ],
      "execution_count": null,
      "outputs": [
        {
          "output_type": "stream",
          "text": [
            "The given key does not exists in the dictionary.\n"
          ],
          "name": "stdout"
        }
      ]
    },
    {
      "cell_type": "markdown",
      "metadata": {
        "id": "u49NsDHVkGed"
      },
      "source": [
        "13  Write a Python program to check the validity of password input by users. Go to the editor\r\n",
        "Validation :\r\n",
        "*  At least 1 character from [$#@].\r\n",
        "*  Minimum length 6 characters.\r\n",
        "\r\n",
        "\r\n",
        "\r\n"
      ]
    },
    {
      "cell_type": "code",
      "metadata": {
        "id": "ZQ3hMqwKs8Qs"
      },
      "source": [
        "def validate(x):\r\n",
        "  special=['$','#','@']\r\n",
        "  while True:\r\n",
        "        password = input(\"Enter a password: \")\r\n",
        "        if len(password) < 6:\r\n",
        "            print(\"Make sure your password is at least 6 letters\")\r\n",
        "        else:\r\n",
        "            print(\"Your password seems fine\")\r\n",
        "           "
      ],
      "execution_count": null,
      "outputs": []
    },
    {
      "cell_type": "markdown",
      "metadata": {
        "id": "bgyJXNNKlpnh"
      },
      "source": [
        "14. Write a Python program to reverse a string"
      ]
    },
    {
      "cell_type": "code",
      "metadata": {
        "id": "ajCggiVklvqT",
        "colab": {
          "base_uri": "https://localhost:8080/"
        },
        "outputId": "4654a280-6a13-4c66-f142-97e5f6bd8fb1"
      },
      "source": [
        "notes='There is a dog'[::-1]\r\n",
        "print(notes)"
      ],
      "execution_count": null,
      "outputs": [
        {
          "output_type": "stream",
          "text": [
            "god a si erehT\n"
          ],
          "name": "stdout"
        }
      ]
    },
    {
      "cell_type": "markdown",
      "metadata": {
        "id": "6td2aFajmDEY"
      },
      "source": [
        "15. rite a Python program that accepts a hyphen-separated sequence of words as input and prints the words in a hyphen-separated sequence after sorting them alphabetically\r\n",
        "* green-red-yellow-black-white\r\n",
        "\r\n",
        "\r\n"
      ]
    },
    {
      "cell_type": "code",
      "metadata": {
        "colab": {
          "base_uri": "https://localhost:8080/"
        },
        "id": "cLRt5xpCui5v",
        "outputId": "762009a4-889a-4409-f8b1-879030ba1bfe"
      },
      "source": [
        "n=input(\"Enter a hypen-separated sequence of words: \") \r\n",
        "l=n.split('-') \r\n",
        "l.sort() \r\n",
        "print('-'.join(l))\r\n"
      ],
      "execution_count": null,
      "outputs": [
        {
          "output_type": "stream",
          "text": [
            "Enter a hypen-separated sequence of words: green-red-yellow-black-white\n",
            "black-green-red-white-yellow\n"
          ],
          "name": "stdout"
        }
      ]
    },
    {
      "cell_type": "code",
      "metadata": {
        "id": "N202blbluQg6"
      },
      "source": [
        ""
      ],
      "execution_count": null,
      "outputs": []
    }
  ]
}