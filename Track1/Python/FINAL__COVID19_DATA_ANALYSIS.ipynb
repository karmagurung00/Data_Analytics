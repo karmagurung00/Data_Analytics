{
  "nbformat": 4,
  "nbformat_minor": 0,
  "metadata": {
    "colab": {
      "name": " FINAL_  COVID19_DATA_ANALYSIS.ipynb",
      "provenance": [],
      "collapsed_sections": [],
      "include_colab_link": true
    },
    "kernelspec": {
      "name": "python3",
      "display_name": "Python 3"
    }
  },
  "cells": [
    {
      "cell_type": "markdown",
      "metadata": {
        "id": "view-in-github",
        "colab_type": "text"
      },
      "source": [
        "<a href=\"https://colab.research.google.com/github/karmagurung00/Data_Analytics/blob/main/Track1/Python/FINAL__COVID19_DATA_ANALYSIS.ipynb\" target=\"_parent\"><img src=\"https://colab.research.google.com/assets/colab-badge.svg\" alt=\"Open In Colab\"/></a>"
      ]
    },
    {
      "cell_type": "markdown",
      "metadata": {
        "id": "9jvXpX2bbIFF"
      },
      "source": [
        "# COVID 19 Data Analysis"
      ]
    },
    {
      "cell_type": "markdown",
      "metadata": {
        "id": "RSvGZmxBa_Gk"
      },
      "source": [
        "**Description:** This script will read the latest data from the New York Times' county-level COVID-19 database at https://github.com/nytimes/covid-19-data/blob/master/us-counties.csv, filter the data for a chosen county in a chosen state, calculate the daily count of new cases and new deaths, print the most recent 28 days' worth of data for the selected county, and save the county's data for all dates to a comma-separated value (.csv) file on your computer. The printed data can be copied and pasted directly into a spreadsheet for further analysis and visualization.\r\n",
        "\r\n",
        "**Note:** For information about the data, see https://github.com/nytimes/covid-19-data.\r\n",
        "\r\n",
        "**Note:** After you have run the script one time in a given Anaconda environment, you may reduce the script's execution time by adding a `#` in front of `pip install pandas`. For example, `#pip install pandas` instead of `pip install pandas`. The `#` will tell Python to skip the code without running it."
      ]
    },
    {
      "cell_type": "markdown",
      "metadata": {
        "id": "ji_HknaobZJh"
      },
      "source": [
        "# Task 1 : Environment Set up"
      ]
    },
    {
      "cell_type": "markdown",
      "metadata": {
        "id": "q2y0bY0XbhNZ"
      },
      "source": [
        "Import all required libraries that are needed for data analysis"
      ]
    },
    {
      "cell_type": "code",
      "metadata": {
        "id": "k2f9bX3aiTDP"
      },
      "source": [
        "import pandas as pd\n",
        "import numpy as np\n",
        "import matplotlib.pyplot as plt\n",
        "from matplotlib import style\n",
        "import seaborn as sns"
      ],
      "execution_count": null,
      "outputs": []
    },
    {
      "cell_type": "markdown",
      "metadata": {
        "id": "vgt8s61dbueM"
      },
      "source": [
        "# Task 2 :  Data Collection"
      ]
    },
    {
      "cell_type": "markdown",
      "metadata": {
        "id": "CEc5pqrkbxcX"
      },
      "source": [
        "Use nytimes github repository as a data source to collect the covid 19 data in real time and ingest it into colab notebook for data analysis purpose"
      ]
    },
    {
      "cell_type": "code",
      "metadata": {
        "id": "vgw9nO9Hm_SB"
      },
      "source": [
        "df = pd.read_csv('https://raw.githubusercontent.com/nytimes/covid-19-data/master/us-states.csv')\r\n"
      ],
      "execution_count": null,
      "outputs": []
    },
    {
      "cell_type": "code",
      "metadata": {
        "colab": {
          "base_uri": "https://localhost:8080/",
          "height": 402
        },
        "id": "aqawA9MfhN5n",
        "outputId": "57654e19-fc11-4057-9048-f8eb2258ccfe"
      },
      "source": [
        "df.columns\r\n",
        "column_to_be_dropped = ['fips']\r\n",
        "df = df.drop(column_to_be_dropped, axis = 1)\r\n",
        "df\r\n"
      ],
      "execution_count": null,
      "outputs": [
        {
          "output_type": "execute_result",
          "data": {
            "text/html": [
              "<div>\n",
              "<style scoped>\n",
              "    .dataframe tbody tr th:only-of-type {\n",
              "        vertical-align: middle;\n",
              "    }\n",
              "\n",
              "    .dataframe tbody tr th {\n",
              "        vertical-align: top;\n",
              "    }\n",
              "\n",
              "    .dataframe thead th {\n",
              "        text-align: right;\n",
              "    }\n",
              "</style>\n",
              "<table border=\"1\" class=\"dataframe\">\n",
              "  <thead>\n",
              "    <tr style=\"text-align: right;\">\n",
              "      <th></th>\n",
              "      <th>date</th>\n",
              "      <th>state</th>\n",
              "      <th>cases</th>\n",
              "      <th>deaths</th>\n",
              "    </tr>\n",
              "  </thead>\n",
              "  <tbody>\n",
              "    <tr>\n",
              "      <th>0</th>\n",
              "      <td>2020-01-21</td>\n",
              "      <td>Washington</td>\n",
              "      <td>1</td>\n",
              "      <td>0</td>\n",
              "    </tr>\n",
              "    <tr>\n",
              "      <th>1</th>\n",
              "      <td>2020-01-22</td>\n",
              "      <td>Washington</td>\n",
              "      <td>1</td>\n",
              "      <td>0</td>\n",
              "    </tr>\n",
              "    <tr>\n",
              "      <th>2</th>\n",
              "      <td>2020-01-23</td>\n",
              "      <td>Washington</td>\n",
              "      <td>1</td>\n",
              "      <td>0</td>\n",
              "    </tr>\n",
              "    <tr>\n",
              "      <th>3</th>\n",
              "      <td>2020-01-24</td>\n",
              "      <td>Illinois</td>\n",
              "      <td>1</td>\n",
              "      <td>0</td>\n",
              "    </tr>\n",
              "    <tr>\n",
              "      <th>4</th>\n",
              "      <td>2020-01-24</td>\n",
              "      <td>Washington</td>\n",
              "      <td>1</td>\n",
              "      <td>0</td>\n",
              "    </tr>\n",
              "    <tr>\n",
              "      <th>...</th>\n",
              "      <td>...</td>\n",
              "      <td>...</td>\n",
              "      <td>...</td>\n",
              "      <td>...</td>\n",
              "    </tr>\n",
              "    <tr>\n",
              "      <th>17664</th>\n",
              "      <td>2021-01-17</td>\n",
              "      <td>Virginia</td>\n",
              "      <td>439305</td>\n",
              "      <td>5729</td>\n",
              "    </tr>\n",
              "    <tr>\n",
              "      <th>17665</th>\n",
              "      <td>2021-01-17</td>\n",
              "      <td>Washington</td>\n",
              "      <td>293296</td>\n",
              "      <td>3971</td>\n",
              "    </tr>\n",
              "    <tr>\n",
              "      <th>17666</th>\n",
              "      <td>2021-01-17</td>\n",
              "      <td>West Virginia</td>\n",
              "      <td>108821</td>\n",
              "      <td>1776</td>\n",
              "    </tr>\n",
              "    <tr>\n",
              "      <th>17667</th>\n",
              "      <td>2021-01-17</td>\n",
              "      <td>Wisconsin</td>\n",
              "      <td>568166</td>\n",
              "      <td>5907</td>\n",
              "    </tr>\n",
              "    <tr>\n",
              "      <th>17668</th>\n",
              "      <td>2021-01-17</td>\n",
              "      <td>Wyoming</td>\n",
              "      <td>49363</td>\n",
              "      <td>522</td>\n",
              "    </tr>\n",
              "  </tbody>\n",
              "</table>\n",
              "<p>17669 rows × 4 columns</p>\n",
              "</div>"
            ],
            "text/plain": [
              "             date          state   cases  deaths\n",
              "0      2020-01-21     Washington       1       0\n",
              "1      2020-01-22     Washington       1       0\n",
              "2      2020-01-23     Washington       1       0\n",
              "3      2020-01-24       Illinois       1       0\n",
              "4      2020-01-24     Washington       1       0\n",
              "...           ...            ...     ...     ...\n",
              "17664  2021-01-17       Virginia  439305    5729\n",
              "17665  2021-01-17     Washington  293296    3971\n",
              "17666  2021-01-17  West Virginia  108821    1776\n",
              "17667  2021-01-17      Wisconsin  568166    5907\n",
              "17668  2021-01-17        Wyoming   49363     522\n",
              "\n",
              "[17669 rows x 4 columns]"
            ]
          },
          "metadata": {
            "tags": []
          },
          "execution_count": 140
        }
      ]
    },
    {
      "cell_type": "code",
      "metadata": {
        "id": "MGSxdHmHNjDC",
        "colab": {
          "base_uri": "https://localhost:8080/",
          "height": 284
        },
        "outputId": "cfe4f329-c496-48d0-859e-99f2de91fd36"
      },
      "source": [
        "df.describe()"
      ],
      "execution_count": null,
      "outputs": [
        {
          "output_type": "execute_result",
          "data": {
            "text/html": [
              "<div>\n",
              "<style scoped>\n",
              "    .dataframe tbody tr th:only-of-type {\n",
              "        vertical-align: middle;\n",
              "    }\n",
              "\n",
              "    .dataframe tbody tr th {\n",
              "        vertical-align: top;\n",
              "    }\n",
              "\n",
              "    .dataframe thead th {\n",
              "        text-align: right;\n",
              "    }\n",
              "</style>\n",
              "<table border=\"1\" class=\"dataframe\">\n",
              "  <thead>\n",
              "    <tr style=\"text-align: right;\">\n",
              "      <th></th>\n",
              "      <th>cases</th>\n",
              "      <th>deaths</th>\n",
              "    </tr>\n",
              "  </thead>\n",
              "  <tbody>\n",
              "    <tr>\n",
              "      <th>count</th>\n",
              "      <td>1.766900e+04</td>\n",
              "      <td>17669.000000</td>\n",
              "    </tr>\n",
              "    <tr>\n",
              "      <th>mean</th>\n",
              "      <td>1.190759e+05</td>\n",
              "      <td>2984.598053</td>\n",
              "    </tr>\n",
              "    <tr>\n",
              "      <th>std</th>\n",
              "      <td>2.274607e+05</td>\n",
              "      <td>5554.979599</td>\n",
              "    </tr>\n",
              "    <tr>\n",
              "      <th>min</th>\n",
              "      <td>1.000000e+00</td>\n",
              "      <td>0.000000</td>\n",
              "    </tr>\n",
              "    <tr>\n",
              "      <th>25%</th>\n",
              "      <td>4.587000e+03</td>\n",
              "      <td>98.000000</td>\n",
              "    </tr>\n",
              "    <tr>\n",
              "      <th>50%</th>\n",
              "      <td>3.417400e+04</td>\n",
              "      <td>774.000000</td>\n",
              "    </tr>\n",
              "    <tr>\n",
              "      <th>75%</th>\n",
              "      <td>1.334700e+05</td>\n",
              "      <td>3324.000000</td>\n",
              "    </tr>\n",
              "    <tr>\n",
              "      <th>max</th>\n",
              "      <td>3.006583e+06</td>\n",
              "      <td>40570.000000</td>\n",
              "    </tr>\n",
              "  </tbody>\n",
              "</table>\n",
              "</div>"
            ],
            "text/plain": [
              "              cases        deaths\n",
              "count  1.766900e+04  17669.000000\n",
              "mean   1.190759e+05   2984.598053\n",
              "std    2.274607e+05   5554.979599\n",
              "min    1.000000e+00      0.000000\n",
              "25%    4.587000e+03     98.000000\n",
              "50%    3.417400e+04    774.000000\n",
              "75%    1.334700e+05   3324.000000\n",
              "max    3.006583e+06  40570.000000"
            ]
          },
          "metadata": {
            "tags": []
          },
          "execution_count": 141
        }
      ]
    },
    {
      "cell_type": "code",
      "metadata": {
        "id": "o_y-KAIVNmSI",
        "colab": {
          "base_uri": "https://localhost:8080/"
        },
        "outputId": "80d45b73-92bf-4824-ff08-2318a09b1d98"
      },
      "source": [
        "df.shape"
      ],
      "execution_count": null,
      "outputs": [
        {
          "output_type": "execute_result",
          "data": {
            "text/plain": [
              "(17669, 4)"
            ]
          },
          "metadata": {
            "tags": []
          },
          "execution_count": 142
        }
      ]
    },
    {
      "cell_type": "code",
      "metadata": {
        "id": "FEG9n2sI0Yxu",
        "colab": {
          "base_uri": "https://localhost:8080/"
        },
        "outputId": "352ed57e-1454-4fc2-e86c-496d1e09aa46"
      },
      "source": [
        "df['date']"
      ],
      "execution_count": null,
      "outputs": [
        {
          "output_type": "execute_result",
          "data": {
            "text/plain": [
              "0        2020-01-21\n",
              "1        2020-01-22\n",
              "2        2020-01-23\n",
              "3        2020-01-24\n",
              "4        2020-01-24\n",
              "            ...    \n",
              "17664    2021-01-17\n",
              "17665    2021-01-17\n",
              "17666    2021-01-17\n",
              "17667    2021-01-17\n",
              "17668    2021-01-17\n",
              "Name: date, Length: 17669, dtype: object"
            ]
          },
          "metadata": {
            "tags": []
          },
          "execution_count": 143
        }
      ]
    },
    {
      "cell_type": "code",
      "metadata": {
        "id": "ylck2xb2Nnfy",
        "colab": {
          "base_uri": "https://localhost:8080/"
        },
        "outputId": "668efa18-77c7-40c1-f389-9334175991d7"
      },
      "source": [
        "df.columns"
      ],
      "execution_count": null,
      "outputs": [
        {
          "output_type": "execute_result",
          "data": {
            "text/plain": [
              "Index(['date', 'state', 'cases', 'deaths'], dtype='object')"
            ]
          },
          "metadata": {
            "tags": []
          },
          "execution_count": 144
        }
      ]
    },
    {
      "cell_type": "code",
      "metadata": {
        "id": "ap0owuu30bLe",
        "colab": {
          "base_uri": "https://localhost:8080/",
          "height": 195
        },
        "outputId": "d25e3dbb-3902-4dcc-836f-707d27434286"
      },
      "source": [
        "df.head()"
      ],
      "execution_count": null,
      "outputs": [
        {
          "output_type": "execute_result",
          "data": {
            "text/html": [
              "<div>\n",
              "<style scoped>\n",
              "    .dataframe tbody tr th:only-of-type {\n",
              "        vertical-align: middle;\n",
              "    }\n",
              "\n",
              "    .dataframe tbody tr th {\n",
              "        vertical-align: top;\n",
              "    }\n",
              "\n",
              "    .dataframe thead th {\n",
              "        text-align: right;\n",
              "    }\n",
              "</style>\n",
              "<table border=\"1\" class=\"dataframe\">\n",
              "  <thead>\n",
              "    <tr style=\"text-align: right;\">\n",
              "      <th></th>\n",
              "      <th>date</th>\n",
              "      <th>state</th>\n",
              "      <th>cases</th>\n",
              "      <th>deaths</th>\n",
              "    </tr>\n",
              "  </thead>\n",
              "  <tbody>\n",
              "    <tr>\n",
              "      <th>0</th>\n",
              "      <td>2020-01-21</td>\n",
              "      <td>Washington</td>\n",
              "      <td>1</td>\n",
              "      <td>0</td>\n",
              "    </tr>\n",
              "    <tr>\n",
              "      <th>1</th>\n",
              "      <td>2020-01-22</td>\n",
              "      <td>Washington</td>\n",
              "      <td>1</td>\n",
              "      <td>0</td>\n",
              "    </tr>\n",
              "    <tr>\n",
              "      <th>2</th>\n",
              "      <td>2020-01-23</td>\n",
              "      <td>Washington</td>\n",
              "      <td>1</td>\n",
              "      <td>0</td>\n",
              "    </tr>\n",
              "    <tr>\n",
              "      <th>3</th>\n",
              "      <td>2020-01-24</td>\n",
              "      <td>Illinois</td>\n",
              "      <td>1</td>\n",
              "      <td>0</td>\n",
              "    </tr>\n",
              "    <tr>\n",
              "      <th>4</th>\n",
              "      <td>2020-01-24</td>\n",
              "      <td>Washington</td>\n",
              "      <td>1</td>\n",
              "      <td>0</td>\n",
              "    </tr>\n",
              "  </tbody>\n",
              "</table>\n",
              "</div>"
            ],
            "text/plain": [
              "         date       state  cases  deaths\n",
              "0  2020-01-21  Washington      1       0\n",
              "1  2020-01-22  Washington      1       0\n",
              "2  2020-01-23  Washington      1       0\n",
              "3  2020-01-24    Illinois      1       0\n",
              "4  2020-01-24  Washington      1       0"
            ]
          },
          "metadata": {
            "tags": []
          },
          "execution_count": 145
        }
      ]
    },
    {
      "cell_type": "code",
      "metadata": {
        "id": "zZdaTiUk0fqE",
        "colab": {
          "base_uri": "https://localhost:8080/",
          "height": 195
        },
        "outputId": "19b08890-d3e4-4bb4-ca7a-d782c62ee3fd"
      },
      "source": [
        "df.tail()"
      ],
      "execution_count": null,
      "outputs": [
        {
          "output_type": "execute_result",
          "data": {
            "text/html": [
              "<div>\n",
              "<style scoped>\n",
              "    .dataframe tbody tr th:only-of-type {\n",
              "        vertical-align: middle;\n",
              "    }\n",
              "\n",
              "    .dataframe tbody tr th {\n",
              "        vertical-align: top;\n",
              "    }\n",
              "\n",
              "    .dataframe thead th {\n",
              "        text-align: right;\n",
              "    }\n",
              "</style>\n",
              "<table border=\"1\" class=\"dataframe\">\n",
              "  <thead>\n",
              "    <tr style=\"text-align: right;\">\n",
              "      <th></th>\n",
              "      <th>date</th>\n",
              "      <th>state</th>\n",
              "      <th>cases</th>\n",
              "      <th>deaths</th>\n",
              "    </tr>\n",
              "  </thead>\n",
              "  <tbody>\n",
              "    <tr>\n",
              "      <th>17664</th>\n",
              "      <td>2021-01-17</td>\n",
              "      <td>Virginia</td>\n",
              "      <td>439305</td>\n",
              "      <td>5729</td>\n",
              "    </tr>\n",
              "    <tr>\n",
              "      <th>17665</th>\n",
              "      <td>2021-01-17</td>\n",
              "      <td>Washington</td>\n",
              "      <td>293296</td>\n",
              "      <td>3971</td>\n",
              "    </tr>\n",
              "    <tr>\n",
              "      <th>17666</th>\n",
              "      <td>2021-01-17</td>\n",
              "      <td>West Virginia</td>\n",
              "      <td>108821</td>\n",
              "      <td>1776</td>\n",
              "    </tr>\n",
              "    <tr>\n",
              "      <th>17667</th>\n",
              "      <td>2021-01-17</td>\n",
              "      <td>Wisconsin</td>\n",
              "      <td>568166</td>\n",
              "      <td>5907</td>\n",
              "    </tr>\n",
              "    <tr>\n",
              "      <th>17668</th>\n",
              "      <td>2021-01-17</td>\n",
              "      <td>Wyoming</td>\n",
              "      <td>49363</td>\n",
              "      <td>522</td>\n",
              "    </tr>\n",
              "  </tbody>\n",
              "</table>\n",
              "</div>"
            ],
            "text/plain": [
              "             date          state   cases  deaths\n",
              "17664  2021-01-17       Virginia  439305    5729\n",
              "17665  2021-01-17     Washington  293296    3971\n",
              "17666  2021-01-17  West Virginia  108821    1776\n",
              "17667  2021-01-17      Wisconsin  568166    5907\n",
              "17668  2021-01-17        Wyoming   49363     522"
            ]
          },
          "metadata": {
            "tags": []
          },
          "execution_count": 146
        }
      ]
    },
    {
      "cell_type": "markdown",
      "metadata": {
        "id": "dXToiyPccf4h"
      },
      "source": [
        "# Task 3 : Data Wrangling and EDA (Exploratory Data Analysis)"
      ]
    },
    {
      "cell_type": "markdown",
      "metadata": {
        "id": "XrywUhma1LD6"
      },
      "source": [
        "**1. Analyzing New York state data for Covid 19**"
      ]
    },
    {
      "cell_type": "code",
      "metadata": {
        "id": "-IXvRlig1Qjq",
        "colab": {
          "base_uri": "https://localhost:8080/",
          "height": 402
        },
        "outputId": "0d324032-9c47-4485-d7d6-86409d58ed1d"
      },
      "source": [
        "df_ny=df[df['state']=='New York']\r\n",
        "df_ny"
      ],
      "execution_count": null,
      "outputs": [
        {
          "output_type": "execute_result",
          "data": {
            "text/html": [
              "<div>\n",
              "<style scoped>\n",
              "    .dataframe tbody tr th:only-of-type {\n",
              "        vertical-align: middle;\n",
              "    }\n",
              "\n",
              "    .dataframe tbody tr th {\n",
              "        vertical-align: top;\n",
              "    }\n",
              "\n",
              "    .dataframe thead th {\n",
              "        text-align: right;\n",
              "    }\n",
              "</style>\n",
              "<table border=\"1\" class=\"dataframe\">\n",
              "  <thead>\n",
              "    <tr style=\"text-align: right;\">\n",
              "      <th></th>\n",
              "      <th>date</th>\n",
              "      <th>state</th>\n",
              "      <th>cases</th>\n",
              "      <th>deaths</th>\n",
              "    </tr>\n",
              "  </thead>\n",
              "  <tbody>\n",
              "    <tr>\n",
              "      <th>246</th>\n",
              "      <td>2020-03-01</td>\n",
              "      <td>New York</td>\n",
              "      <td>1</td>\n",
              "      <td>0</td>\n",
              "    </tr>\n",
              "    <tr>\n",
              "      <th>261</th>\n",
              "      <td>2020-03-02</td>\n",
              "      <td>New York</td>\n",
              "      <td>1</td>\n",
              "      <td>0</td>\n",
              "    </tr>\n",
              "    <tr>\n",
              "      <th>276</th>\n",
              "      <td>2020-03-03</td>\n",
              "      <td>New York</td>\n",
              "      <td>2</td>\n",
              "      <td>0</td>\n",
              "    </tr>\n",
              "    <tr>\n",
              "      <th>293</th>\n",
              "      <td>2020-03-04</td>\n",
              "      <td>New York</td>\n",
              "      <td>11</td>\n",
              "      <td>0</td>\n",
              "    </tr>\n",
              "    <tr>\n",
              "      <th>313</th>\n",
              "      <td>2020-03-05</td>\n",
              "      <td>New York</td>\n",
              "      <td>22</td>\n",
              "      <td>0</td>\n",
              "    </tr>\n",
              "    <tr>\n",
              "      <th>...</th>\n",
              "      <td>...</td>\n",
              "      <td>...</td>\n",
              "      <td>...</td>\n",
              "      <td>...</td>\n",
              "    </tr>\n",
              "    <tr>\n",
              "      <th>17427</th>\n",
              "      <td>2021-01-13</td>\n",
              "      <td>New York</td>\n",
              "      <td>1179523</td>\n",
              "      <td>39760</td>\n",
              "    </tr>\n",
              "    <tr>\n",
              "      <th>17482</th>\n",
              "      <td>2021-01-14</td>\n",
              "      <td>New York</td>\n",
              "      <td>1193710</td>\n",
              "      <td>39997</td>\n",
              "    </tr>\n",
              "    <tr>\n",
              "      <th>17537</th>\n",
              "      <td>2021-01-15</td>\n",
              "      <td>New York</td>\n",
              "      <td>1213179</td>\n",
              "      <td>40203</td>\n",
              "    </tr>\n",
              "    <tr>\n",
              "      <th>17592</th>\n",
              "      <td>2021-01-16</td>\n",
              "      <td>New York</td>\n",
              "      <td>1229124</td>\n",
              "      <td>40376</td>\n",
              "    </tr>\n",
              "    <tr>\n",
              "      <th>17647</th>\n",
              "      <td>2021-01-17</td>\n",
              "      <td>New York</td>\n",
              "      <td>1242818</td>\n",
              "      <td>40570</td>\n",
              "    </tr>\n",
              "  </tbody>\n",
              "</table>\n",
              "<p>323 rows × 4 columns</p>\n",
              "</div>"
            ],
            "text/plain": [
              "             date     state    cases  deaths\n",
              "246    2020-03-01  New York        1       0\n",
              "261    2020-03-02  New York        1       0\n",
              "276    2020-03-03  New York        2       0\n",
              "293    2020-03-04  New York       11       0\n",
              "313    2020-03-05  New York       22       0\n",
              "...           ...       ...      ...     ...\n",
              "17427  2021-01-13  New York  1179523   39760\n",
              "17482  2021-01-14  New York  1193710   39997\n",
              "17537  2021-01-15  New York  1213179   40203\n",
              "17592  2021-01-16  New York  1229124   40376\n",
              "17647  2021-01-17  New York  1242818   40570\n",
              "\n",
              "[323 rows x 4 columns]"
            ]
          },
          "metadata": {
            "tags": []
          },
          "execution_count": 147
        }
      ]
    },
    {
      "cell_type": "code",
      "metadata": {
        "colab": {
          "base_uri": "https://localhost:8080/"
        },
        "id": "EtBcTbW3hAmi",
        "outputId": "432342e4-8128-4d8e-de1b-777979a9cff2"
      },
      "source": [
        "df_ny.mean()"
      ],
      "execution_count": null,
      "outputs": [
        {
          "output_type": "execute_result",
          "data": {
            "text/plain": [
              "cases     449848.142415\n",
              "deaths     27816.811146\n",
              "dtype: float64"
            ]
          },
          "metadata": {
            "tags": []
          },
          "execution_count": 148
        }
      ]
    },
    {
      "cell_type": "code",
      "metadata": {
        "id": "vAPsO4Yq1yAj",
        "colab": {
          "base_uri": "https://localhost:8080/"
        },
        "outputId": "994ef07e-0aea-4b7c-a96a-99c159d113eb"
      },
      "source": [
        "df_ny.groupby('state')['cases'].mean()"
      ],
      "execution_count": null,
      "outputs": [
        {
          "output_type": "execute_result",
          "data": {
            "text/plain": [
              "state\n",
              "New York    449848.142415\n",
              "Name: cases, dtype: float64"
            ]
          },
          "metadata": {
            "tags": []
          },
          "execution_count": 149
        }
      ]
    },
    {
      "cell_type": "code",
      "metadata": {
        "id": "XNuZqUlI1096",
        "colab": {
          "base_uri": "https://localhost:8080/"
        },
        "outputId": "0aee647a-4b33-45df-94bf-408f07090d09"
      },
      "source": [
        "df_ny.groupby('state')['deaths'].mean()"
      ],
      "execution_count": null,
      "outputs": [
        {
          "output_type": "execute_result",
          "data": {
            "text/plain": [
              "state\n",
              "New York    27816.811146\n",
              "Name: deaths, dtype: float64"
            ]
          },
          "metadata": {
            "tags": []
          },
          "execution_count": 150
        }
      ]
    },
    {
      "cell_type": "code",
      "metadata": {
        "id": "z7sGUFdO2CAo",
        "colab": {
          "base_uri": "https://localhost:8080/"
        },
        "outputId": "0022ac07-fd7b-47a8-8e47-4e0411564a9e"
      },
      "source": [
        "df_ny.groupby('state')['cases'].median()"
      ],
      "execution_count": null,
      "outputs": [
        {
          "output_type": "execute_result",
          "data": {
            "text/plain": [
              "state\n",
              "New York    425568\n",
              "Name: cases, dtype: int64"
            ]
          },
          "metadata": {
            "tags": []
          },
          "execution_count": 151
        }
      ]
    },
    {
      "cell_type": "code",
      "metadata": {
        "colab": {
          "base_uri": "https://localhost:8080/",
          "height": 458
        },
        "id": "QiL3rHpKdO5g",
        "outputId": "23b67f64-b641-49f0-f749-9fb6581cd73c"
      },
      "source": [
        "sns.jointplot(x='date', y='cases', data=df_ny,kind='scatter')"
      ],
      "execution_count": null,
      "outputs": [
        {
          "output_type": "execute_result",
          "data": {
            "text/plain": [
              "<seaborn.axisgrid.JointGrid at 0x7f960c8c8550>"
            ]
          },
          "metadata": {
            "tags": []
          },
          "execution_count": 152
        },
        {
          "output_type": "display_data",
          "data": {
            "image/png": "[encoded data removed]",
            "text/plain": [
              "<Figure size 432x432 with 3 Axes>"
            ]
          },
          "metadata": {
            "tags": [],
            "needs_background": "light"
          }
        }
      ]
    },
    {
      "cell_type": "code",
      "metadata": {
        "colab": {
          "base_uri": "https://localhost:8080/",
          "height": 458
        },
        "id": "tGfb9T89dPAd",
        "outputId": "23d7df46-a20a-4ecf-d039-f5b7ea3788fc"
      },
      "source": [
        "sns.jointplot(x='date', y='deaths', data=df_ny,kind='scatter')"
      ],
      "execution_count": null,
      "outputs": [
        {
          "output_type": "execute_result",
          "data": {
            "text/plain": [
              "<seaborn.axisgrid.JointGrid at 0x7f960c74f518>"
            ]
          },
          "metadata": {
            "tags": []
          },
          "execution_count": 153
        },
        {
          "output_type": "display_data",
          "data": {
            "image/png": "[encoded data removed]",
            "text/plain": [
              "<Figure size 432x432 with 3 Axes>"
            ]
          },
          "metadata": {
            "tags": [],
            "needs_background": "light"
          }
        }
      ]
    },
    {
      "cell_type": "code",
      "metadata": {
        "id": "HpUDd0cIdPdK"
      },
      "source": [
        ""
      ],
      "execution_count": null,
      "outputs": []
    },
    {
      "cell_type": "code",
      "metadata": {
        "id": "TNYs0GNm4K5O"
      },
      "source": [
        ""
      ],
      "execution_count": null,
      "outputs": []
    },
    {
      "cell_type": "markdown",
      "metadata": {
        "id": "vUbZP5tccvEp"
      },
      "source": [
        "**2. Find new covid 19 cases daily basis (new cases added everyday)**"
      ]
    },
    {
      "cell_type": "code",
      "metadata": {
        "colab": {
          "base_uri": "https://localhost:8080/",
          "height": 293
        },
        "id": "Fw0e05aAk9_e",
        "outputId": "4f94387b-c51a-4e41-8b81-243c4b08d2bd"
      },
      "source": [
        "df_ny.plot()"
      ],
      "execution_count": null,
      "outputs": [
        {
          "output_type": "execute_result",
          "data": {
            "text/plain": [
              "<matplotlib.axes._subplots.AxesSubplot at 0x7f960a914860>"
            ]
          },
          "metadata": {
            "tags": []
          },
          "execution_count": 185
        },
        {
          "output_type": "display_data",
          "data": {
            "image/png": "[encoded data removed]",
            "text/plain": [
              "<Figure size 432x288 with 1 Axes>"
            ]
          },
          "metadata": {
            "tags": [],
            "needs_background": "light"
          }
        }
      ]
    },
    {
      "cell_type": "code",
      "metadata": {
        "id": "g-isLW6s4XaJ",
        "colab": {
          "base_uri": "https://localhost:8080/"
        },
        "outputId": "4f2ac113-48ae-4745-926f-20ecb51d793d"
      },
      "source": [
        "newcases = []\r\n",
        "previuos_cases = 0\r\n",
        "for index, row in df_ny.iterrows():\r\n",
        "  current_cases = row['cases']\r\n",
        "  newcases_count = current_cases - previuos_cases\r\n",
        "  previuos_cases = current_cases\r\n",
        "  newcases.append(newcases_count)\r\n",
        "  print(newcases_count)"
      ],
      "execution_count": null,
      "outputs": [
        {
          "output_type": "stream",
          "text": [
            "1\n",
            "0\n",
            "1\n",
            "9\n",
            "11\n",
            "22\n",
            "45\n",
            "17\n",
            "36\n",
            "31\n",
            "44\n",
            "109\n",
            "95\n",
            "189\n",
            "122\n",
            "218\n",
            "425\n",
            "1012\n",
            "1774\n",
            "2952\n",
            "3258\n",
            "4817\n",
            "5711\n",
            "4805\n",
            "7413\n",
            "5941\n",
            "5688\n",
            "8771\n",
            "6266\n",
            "7721\n",
            "8707\n",
            "8153\n",
            "8996\n",
            "10329\n",
            "12274\n",
            "8122\n",
            "9304\n",
            "8314\n",
            "9568\n",
            "10765\n",
            "10794\n",
            "10160\n",
            "8435\n",
            "6548\n",
            "7402\n",
            "11755\n",
            "8631\n",
            "7532\n",
            "7249\n",
            "6199\n",
            "4867\n",
            "4324\n",
            "5659\n",
            "6341\n",
            "8286\n",
            "10683\n",
            "6013\n",
            "4077\n",
            "3285\n",
            "4718\n",
            "4702\n",
            "3879\n",
            "4559\n",
            "3699\n",
            "2524\n",
            "2302\n",
            "2746\n",
            "3526\n",
            "2873\n",
            "2715\n",
            "2138\n",
            "1610\n",
            "1438\n",
            "2123\n",
            "2364\n",
            "2759\n",
            "2185\n",
            "1901\n",
            "1241\n",
            "1479\n",
            "1478\n",
            "2078\n",
            "1678\n",
            "1754\n",
            "1601\n",
            "1279\n",
            "1044\n",
            "1132\n",
            "1758\n",
            "1549\n",
            "1363\n",
            "1104\n",
            "945\n",
            "1361\n",
            "1043\n",
            "1053\n",
            "1042\n",
            "1083\n",
            "777\n",
            "712\n",
            "690\n",
            "664\n",
            "724\n",
            "821\n",
            "912\n",
            "694\n",
            "623\n",
            "630\n",
            "561\n",
            "626\n",
            "794\n",
            "707\n",
            "665\n",
            "555\n",
            "598\n",
            "575\n",
            "738\n",
            "804\n",
            "697\n",
            "624\n",
            "391\n",
            "458\n",
            "628\n",
            "872\n",
            "919\n",
            "725\n",
            "536\n",
            "516\n",
            "590\n",
            "691\n",
            "588\n",
            "790\n",
            "727\n",
            "679\n",
            "559\n",
            "913\n",
            "834\n",
            "767\n",
            "778\n",
            "752\n",
            "509\n",
            "519\n",
            "855\n",
            "706\n",
            "810\n",
            "758\n",
            "748\n",
            "532\n",
            "613\n",
            "535\n",
            "711\n",
            "779\n",
            "642\n",
            "754\n",
            "531\n",
            "542\n",
            "746\n",
            "639\n",
            "694\n",
            "720\n",
            "706\n",
            "513\n",
            "478\n",
            "667\n",
            "706\n",
            "736\n",
            "724\n",
            "738\n",
            "609\n",
            "410\n",
            "662\n",
            "626\n",
            "599\n",
            "707\n",
            "651\n",
            "581\n",
            "404\n",
            "629\n",
            "568\n",
            "789\n",
            "635\n",
            "635\n",
            "709\n",
            "649\n",
            "757\n",
            "710\n",
            "888\n",
            "863\n",
            "799\n",
            "729\n",
            "525\n",
            "557\n",
            "573\n",
            "756\n",
            "861\n",
            "849\n",
            "725\n",
            "586\n",
            "767\n",
            "653\n",
            "893\n",
            "793\n",
            "983\n",
            "865\n",
            "575\n",
            "751\n",
            "666\n",
            "953\n",
            "909\n",
            "1006\n",
            "868\n",
            "836\n",
            "1188\n",
            "1005\n",
            "1383\n",
            "1601\n",
            "1728\n",
            "1226\n",
            "937\n",
            "1394\n",
            "1356\n",
            "1835\n",
            "1593\n",
            "1448\n",
            "1143\n",
            "1032\n",
            "1391\n",
            "1235\n",
            "1464\n",
            "1703\n",
            "1788\n",
            "1390\n",
            "999\n",
            "1201\n",
            "2029\n",
            "1629\n",
            "1636\n",
            "2058\n",
            "1633\n",
            "1192\n",
            "1994\n",
            "2029\n",
            "2497\n",
            "2258\n",
            "2052\n",
            "2259\n",
            "1632\n",
            "2317\n",
            "2126\n",
            "3002\n",
            "3208\n",
            "3587\n",
            "3430\n",
            "3149\n",
            "3964\n",
            "4821\n",
            "4798\n",
            "5401\n",
            "5391\n",
            "3644\n",
            "3498\n",
            "5094\n",
            "5282\n",
            "5302\n",
            "5477\n",
            "5976\n",
            "5386\n",
            "5911\n",
            "4878\n",
            "6267\n",
            "6938\n",
            "8179\n",
            "6060\n",
            "6732\n",
            "6816\n",
            "7293\n",
            "8975\n",
            "9853\n",
            "11274\n",
            "10759\n",
            "9710\n",
            "8379\n",
            "9019\n",
            "10937\n",
            "10257\n",
            "10561\n",
            "11039\n",
            "10027\n",
            "8984\n",
            "9736\n",
            "9378\n",
            "10498\n",
            "12606\n",
            "9913\n",
            "9454\n",
            "9456\n",
            "10299\n",
            "11740\n",
            "13347\n",
            "12881\n",
            "11048\n",
            "8205\n",
            "10334\n",
            "12020\n",
            "12917\n",
            "15393\n",
            "17033\n",
            "15849\n",
            "12232\n",
            "11242\n",
            "13142\n",
            "16016\n",
            "17588\n",
            "19560\n",
            "17839\n",
            "16308\n",
            "14179\n",
            "14791\n",
            "14704\n",
            "14187\n",
            "19469\n",
            "15945\n",
            "13694\n"
          ],
          "name": "stdout"
        }
      ]
    },
    {
      "cell_type": "code",
      "metadata": {
        "id": "yKryzOu25uDi"
      },
      "source": [
        ""
      ],
      "execution_count": null,
      "outputs": []
    },
    {
      "cell_type": "code",
      "metadata": {
        "id": "xSjQW7Gm8_cO",
        "colab": {
          "base_uri": "https://localhost:8080/"
        },
        "outputId": "31e97c43-d365-46b5-f661-5b1b0e2bb0e3"
      },
      "source": [
        "df_ny['new_cases'] = newcases\r\n",
        "ny_cases = df_ny['cases']\r\n",
        "ny_deaths = df_ny['deaths']\r\n",
        "ny_dates = df_ny['date']\r\n",
        "ny_new_cases = df_ny['new_cases']"
      ],
      "execution_count": null,
      "outputs": [
        {
          "output_type": "stream",
          "text": [
            "/usr/local/lib/python3.6/dist-packages/ipykernel_launcher.py:1: SettingWithCopyWarning: \n",
            "A value is trying to be set on a copy of a slice from a DataFrame.\n",
            "Try using .loc[row_indexer,col_indexer] = value instead\n",
            "\n",
            "See the caveats in the documentation: https://pandas.pydata.org/pandas-docs/stable/user_guide/indexing.html#returning-a-view-versus-a-copy\n",
            "  \"\"\"Entry point for launching an IPython kernel.\n"
          ],
          "name": "stderr"
        }
      ]
    },
    {
      "cell_type": "code",
      "metadata": {
        "id": "PK0Tq2qs-JTJ",
        "colab": {
          "base_uri": "https://localhost:8080/",
          "height": 466
        },
        "outputId": "2baac4a3-a9fe-4cf6-8480-d93a96b8a013"
      },
      "source": [
        "plt.figure(figsize=(25,7))\r\n",
        "plt.bar(x=ny_dates, height=ny_new_cases, color='red')\r\n",
        "plt.xticks(rotation=90)\r\n",
        "plt.show()"
      ],
      "execution_count": null,
      "outputs": [
        {
          "output_type": "display_data",
          "data": {
            "image/png": "[encoded data removed]",
            "text/plain": [
              "<Figure size 1800x504 with 1 Axes>"
            ]
          },
          "metadata": {
            "tags": [],
            "needs_background": "light"
          }
        }
      ]
    },
    {
      "cell_type": "code",
      "metadata": {
        "id": "CvPTpg6T-p15"
      },
      "source": [
        ""
      ],
      "execution_count": null,
      "outputs": []
    },
    {
      "cell_type": "code",
      "metadata": {
        "id": "g14xWA8g_6nZ"
      },
      "source": [
        ""
      ],
      "execution_count": null,
      "outputs": []
    },
    {
      "cell_type": "code",
      "metadata": {
        "id": "QDc2omEP_-qS"
      },
      "source": [
        ""
      ],
      "execution_count": null,
      "outputs": []
    },
    {
      "cell_type": "code",
      "metadata": {
        "id": "-PtteplsAWT-"
      },
      "source": [
        ""
      ],
      "execution_count": null,
      "outputs": []
    },
    {
      "cell_type": "markdown",
      "metadata": {
        "id": "IKuLfv3SF27O"
      },
      "source": [
        "# Task4: Understand NY covid 19 data in last 30 days"
      ]
    },
    {
      "cell_type": "code",
      "metadata": {
        "id": "280y4sHrAyuk",
        "colab": {
          "base_uri": "https://localhost:8080/",
          "height": 935
        },
        "outputId": "bd95ef74-d13f-42bc-98b7-7089de5e63fa"
      },
      "source": [
        "df_30=df_ny.tail(30)\r\n",
        "df_30"
      ],
      "execution_count": null,
      "outputs": [
        {
          "output_type": "execute_result",
          "data": {
            "text/html": [
              "<div>\n",
              "<style scoped>\n",
              "    .dataframe tbody tr th:only-of-type {\n",
              "        vertical-align: middle;\n",
              "    }\n",
              "\n",
              "    .dataframe tbody tr th {\n",
              "        vertical-align: top;\n",
              "    }\n",
              "\n",
              "    .dataframe thead th {\n",
              "        text-align: right;\n",
              "    }\n",
              "</style>\n",
              "<table border=\"1\" class=\"dataframe\">\n",
              "  <thead>\n",
              "    <tr style=\"text-align: right;\">\n",
              "      <th></th>\n",
              "      <th>date</th>\n",
              "      <th>state</th>\n",
              "      <th>cases</th>\n",
              "      <th>deaths</th>\n",
              "    </tr>\n",
              "  </thead>\n",
              "  <tbody>\n",
              "    <tr>\n",
              "      <th>16052</th>\n",
              "      <td>2020-12-19</td>\n",
              "      <td>New York</td>\n",
              "      <td>841946</td>\n",
              "      <td>35897</td>\n",
              "    </tr>\n",
              "    <tr>\n",
              "      <th>16107</th>\n",
              "      <td>2020-12-20</td>\n",
              "      <td>New York</td>\n",
              "      <td>851400</td>\n",
              "      <td>36017</td>\n",
              "    </tr>\n",
              "    <tr>\n",
              "      <th>16162</th>\n",
              "      <td>2020-12-21</td>\n",
              "      <td>New York</td>\n",
              "      <td>860856</td>\n",
              "      <td>36147</td>\n",
              "    </tr>\n",
              "    <tr>\n",
              "      <th>16217</th>\n",
              "      <td>2020-12-22</td>\n",
              "      <td>New York</td>\n",
              "      <td>871155</td>\n",
              "      <td>36300</td>\n",
              "    </tr>\n",
              "    <tr>\n",
              "      <th>16272</th>\n",
              "      <td>2020-12-23</td>\n",
              "      <td>New York</td>\n",
              "      <td>882895</td>\n",
              "      <td>36454</td>\n",
              "    </tr>\n",
              "    <tr>\n",
              "      <th>16327</th>\n",
              "      <td>2020-12-24</td>\n",
              "      <td>New York</td>\n",
              "      <td>896242</td>\n",
              "      <td>36604</td>\n",
              "    </tr>\n",
              "    <tr>\n",
              "      <th>16382</th>\n",
              "      <td>2020-12-25</td>\n",
              "      <td>New York</td>\n",
              "      <td>909123</td>\n",
              "      <td>36739</td>\n",
              "    </tr>\n",
              "    <tr>\n",
              "      <th>16437</th>\n",
              "      <td>2020-12-26</td>\n",
              "      <td>New York</td>\n",
              "      <td>920171</td>\n",
              "      <td>36870</td>\n",
              "    </tr>\n",
              "    <tr>\n",
              "      <th>16492</th>\n",
              "      <td>2020-12-27</td>\n",
              "      <td>New York</td>\n",
              "      <td>928376</td>\n",
              "      <td>37000</td>\n",
              "    </tr>\n",
              "    <tr>\n",
              "      <th>16547</th>\n",
              "      <td>2020-12-28</td>\n",
              "      <td>New York</td>\n",
              "      <td>938710</td>\n",
              "      <td>37118</td>\n",
              "    </tr>\n",
              "    <tr>\n",
              "      <th>16602</th>\n",
              "      <td>2020-12-29</td>\n",
              "      <td>New York</td>\n",
              "      <td>950730</td>\n",
              "      <td>37256</td>\n",
              "    </tr>\n",
              "    <tr>\n",
              "      <th>16657</th>\n",
              "      <td>2020-12-30</td>\n",
              "      <td>New York</td>\n",
              "      <td>963647</td>\n",
              "      <td>37412</td>\n",
              "    </tr>\n",
              "    <tr>\n",
              "      <th>16712</th>\n",
              "      <td>2020-12-31</td>\n",
              "      <td>New York</td>\n",
              "      <td>979040</td>\n",
              "      <td>37557</td>\n",
              "    </tr>\n",
              "    <tr>\n",
              "      <th>16767</th>\n",
              "      <td>2021-01-01</td>\n",
              "      <td>New York</td>\n",
              "      <td>996073</td>\n",
              "      <td>37733</td>\n",
              "    </tr>\n",
              "    <tr>\n",
              "      <th>16822</th>\n",
              "      <td>2021-01-02</td>\n",
              "      <td>New York</td>\n",
              "      <td>1011922</td>\n",
              "      <td>37854</td>\n",
              "    </tr>\n",
              "    <tr>\n",
              "      <th>16877</th>\n",
              "      <td>2021-01-03</td>\n",
              "      <td>New York</td>\n",
              "      <td>1024154</td>\n",
              "      <td>38001</td>\n",
              "    </tr>\n",
              "    <tr>\n",
              "      <th>16932</th>\n",
              "      <td>2021-01-04</td>\n",
              "      <td>New York</td>\n",
              "      <td>1035396</td>\n",
              "      <td>38167</td>\n",
              "    </tr>\n",
              "    <tr>\n",
              "      <th>16987</th>\n",
              "      <td>2021-01-05</td>\n",
              "      <td>New York</td>\n",
              "      <td>1048538</td>\n",
              "      <td>38315</td>\n",
              "    </tr>\n",
              "    <tr>\n",
              "      <th>17042</th>\n",
              "      <td>2021-01-06</td>\n",
              "      <td>New York</td>\n",
              "      <td>1064554</td>\n",
              "      <td>38486</td>\n",
              "    </tr>\n",
              "    <tr>\n",
              "      <th>17097</th>\n",
              "      <td>2021-01-07</td>\n",
              "      <td>New York</td>\n",
              "      <td>1082142</td>\n",
              "      <td>38683</td>\n",
              "    </tr>\n",
              "    <tr>\n",
              "      <th>17152</th>\n",
              "      <td>2021-01-08</td>\n",
              "      <td>New York</td>\n",
              "      <td>1101702</td>\n",
              "      <td>38846</td>\n",
              "    </tr>\n",
              "    <tr>\n",
              "      <th>17207</th>\n",
              "      <td>2021-01-09</td>\n",
              "      <td>New York</td>\n",
              "      <td>1119541</td>\n",
              "      <td>39041</td>\n",
              "    </tr>\n",
              "    <tr>\n",
              "      <th>17262</th>\n",
              "      <td>2021-01-10</td>\n",
              "      <td>New York</td>\n",
              "      <td>1135849</td>\n",
              "      <td>39208</td>\n",
              "    </tr>\n",
              "    <tr>\n",
              "      <th>17317</th>\n",
              "      <td>2021-01-11</td>\n",
              "      <td>New York</td>\n",
              "      <td>1150028</td>\n",
              "      <td>39404</td>\n",
              "    </tr>\n",
              "    <tr>\n",
              "      <th>17372</th>\n",
              "      <td>2021-01-12</td>\n",
              "      <td>New York</td>\n",
              "      <td>1164819</td>\n",
              "      <td>39588</td>\n",
              "    </tr>\n",
              "    <tr>\n",
              "      <th>17427</th>\n",
              "      <td>2021-01-13</td>\n",
              "      <td>New York</td>\n",
              "      <td>1179523</td>\n",
              "      <td>39760</td>\n",
              "    </tr>\n",
              "    <tr>\n",
              "      <th>17482</th>\n",
              "      <td>2021-01-14</td>\n",
              "      <td>New York</td>\n",
              "      <td>1193710</td>\n",
              "      <td>39997</td>\n",
              "    </tr>\n",
              "    <tr>\n",
              "      <th>17537</th>\n",
              "      <td>2021-01-15</td>\n",
              "      <td>New York</td>\n",
              "      <td>1213179</td>\n",
              "      <td>40203</td>\n",
              "    </tr>\n",
              "    <tr>\n",
              "      <th>17592</th>\n",
              "      <td>2021-01-16</td>\n",
              "      <td>New York</td>\n",
              "      <td>1229124</td>\n",
              "      <td>40376</td>\n",
              "    </tr>\n",
              "    <tr>\n",
              "      <th>17647</th>\n",
              "      <td>2021-01-17</td>\n",
              "      <td>New York</td>\n",
              "      <td>1242818</td>\n",
              "      <td>40570</td>\n",
              "    </tr>\n",
              "  </tbody>\n",
              "</table>\n",
              "</div>"
            ],
            "text/plain": [
              "             date     state    cases  deaths\n",
              "16052  2020-12-19  New York   841946   35897\n",
              "16107  2020-12-20  New York   851400   36017\n",
              "16162  2020-12-21  New York   860856   36147\n",
              "16217  2020-12-22  New York   871155   36300\n",
              "16272  2020-12-23  New York   882895   36454\n",
              "16327  2020-12-24  New York   896242   36604\n",
              "16382  2020-12-25  New York   909123   36739\n",
              "16437  2020-12-26  New York   920171   36870\n",
              "16492  2020-12-27  New York   928376   37000\n",
              "16547  2020-12-28  New York   938710   37118\n",
              "16602  2020-12-29  New York   950730   37256\n",
              "16657  2020-12-30  New York   963647   37412\n",
              "16712  2020-12-31  New York   979040   37557\n",
              "16767  2021-01-01  New York   996073   37733\n",
              "16822  2021-01-02  New York  1011922   37854\n",
              "16877  2021-01-03  New York  1024154   38001\n",
              "16932  2021-01-04  New York  1035396   38167\n",
              "16987  2021-01-05  New York  1048538   38315\n",
              "17042  2021-01-06  New York  1064554   38486\n",
              "17097  2021-01-07  New York  1082142   38683\n",
              "17152  2021-01-08  New York  1101702   38846\n",
              "17207  2021-01-09  New York  1119541   39041\n",
              "17262  2021-01-10  New York  1135849   39208\n",
              "17317  2021-01-11  New York  1150028   39404\n",
              "17372  2021-01-12  New York  1164819   39588\n",
              "17427  2021-01-13  New York  1179523   39760\n",
              "17482  2021-01-14  New York  1193710   39997\n",
              "17537  2021-01-15  New York  1213179   40203\n",
              "17592  2021-01-16  New York  1229124   40376\n",
              "17647  2021-01-17  New York  1242818   40570"
            ]
          },
          "metadata": {
            "tags": []
          },
          "execution_count": 156
        }
      ]
    },
    {
      "cell_type": "code",
      "metadata": {
        "id": "BUDcyVRwHY6F",
        "colab": {
          "base_uri": "https://localhost:8080/",
          "height": 284
        },
        "outputId": "f60dab50-9720-49ff-c225-8ecfd200f13c"
      },
      "source": [
        "df_30.describe()"
      ],
      "execution_count": null,
      "outputs": [
        {
          "output_type": "execute_result",
          "data": {
            "text/html": [
              "<div>\n",
              "<style scoped>\n",
              "    .dataframe tbody tr th:only-of-type {\n",
              "        vertical-align: middle;\n",
              "    }\n",
              "\n",
              "    .dataframe tbody tr th {\n",
              "        vertical-align: top;\n",
              "    }\n",
              "\n",
              "    .dataframe thead th {\n",
              "        text-align: right;\n",
              "    }\n",
              "</style>\n",
              "<table border=\"1\" class=\"dataframe\">\n",
              "  <thead>\n",
              "    <tr style=\"text-align: right;\">\n",
              "      <th></th>\n",
              "      <th>cases</th>\n",
              "      <th>deaths</th>\n",
              "    </tr>\n",
              "  </thead>\n",
              "  <tbody>\n",
              "    <tr>\n",
              "      <th>count</th>\n",
              "      <td>3.000000e+01</td>\n",
              "      <td>30.000000</td>\n",
              "    </tr>\n",
              "    <tr>\n",
              "      <th>mean</th>\n",
              "      <td>1.026245e+06</td>\n",
              "      <td>38053.433333</td>\n",
              "    </tr>\n",
              "    <tr>\n",
              "      <th>std</th>\n",
              "      <td>1.244613e+05</td>\n",
              "      <td>1408.537752</td>\n",
              "    </tr>\n",
              "    <tr>\n",
              "      <th>min</th>\n",
              "      <td>8.419460e+05</td>\n",
              "      <td>35897.000000</td>\n",
              "    </tr>\n",
              "    <tr>\n",
              "      <th>25%</th>\n",
              "      <td>9.222222e+05</td>\n",
              "      <td>36902.500000</td>\n",
              "    </tr>\n",
              "    <tr>\n",
              "      <th>50%</th>\n",
              "      <td>1.018038e+06</td>\n",
              "      <td>37927.500000</td>\n",
              "    </tr>\n",
              "    <tr>\n",
              "      <th>75%</th>\n",
              "      <td>1.131772e+06</td>\n",
              "      <td>39166.250000</td>\n",
              "    </tr>\n",
              "    <tr>\n",
              "      <th>max</th>\n",
              "      <td>1.242818e+06</td>\n",
              "      <td>40570.000000</td>\n",
              "    </tr>\n",
              "  </tbody>\n",
              "</table>\n",
              "</div>"
            ],
            "text/plain": [
              "              cases        deaths\n",
              "count  3.000000e+01     30.000000\n",
              "mean   1.026245e+06  38053.433333\n",
              "std    1.244613e+05   1408.537752\n",
              "min    8.419460e+05  35897.000000\n",
              "25%    9.222222e+05  36902.500000\n",
              "50%    1.018038e+06  37927.500000\n",
              "75%    1.131772e+06  39166.250000\n",
              "max    1.242818e+06  40570.000000"
            ]
          },
          "metadata": {
            "tags": []
          },
          "execution_count": 157
        }
      ]
    },
    {
      "cell_type": "code",
      "metadata": {
        "colab": {
          "base_uri": "https://localhost:8080/"
        },
        "id": "y-EwwN5aeq-b",
        "outputId": "6cf468cb-ee2f-41d2-c2c4-0f28fef8634f"
      },
      "source": [
        "print('Average no of cases in last 30 days is',(1.026245e+06))\r\n",
        "print('Average no of deaths in last 30 days is 38,053')"
      ],
      "execution_count": null,
      "outputs": [
        {
          "output_type": "stream",
          "text": [
            "Average no of cases in last 30 days is 1026245.0\n",
            "Average no of deaths in last 30 days is 38,053\n"
          ],
          "name": "stdout"
        }
      ]
    },
    {
      "cell_type": "code",
      "metadata": {
        "id": "MrRo6IcSHa6F",
        "colab": {
          "base_uri": "https://localhost:8080/",
          "height": 293
        },
        "outputId": "41e842f0-eb23-452f-8c6d-17ab2f261b9d"
      },
      "source": [
        "df_30.plot()"
      ],
      "execution_count": null,
      "outputs": [
        {
          "output_type": "execute_result",
          "data": {
            "text/plain": [
              "<matplotlib.axes._subplots.AxesSubplot at 0x7f960b1f3278>"
            ]
          },
          "metadata": {
            "tags": []
          },
          "execution_count": 159
        },
        {
          "output_type": "display_data",
          "data": {
            "image/png": "[encoded data removed]",
            "text/plain": [
              "<Figure size 432x288 with 1 Axes>"
            ]
          },
          "metadata": {
            "tags": [],
            "needs_background": "light"
          }
        }
      ]
    },
    {
      "cell_type": "code",
      "metadata": {
        "colab": {
          "base_uri": "https://localhost:8080/",
          "height": 458
        },
        "id": "OzR7lXAzfXJe",
        "outputId": "2f1aad04-1a2b-4a13-b0ed-9a40ded5737c"
      },
      "source": [
        "sns.jointplot(x='date', y='cases', data=df_30)"
      ],
      "execution_count": null,
      "outputs": [
        {
          "output_type": "execute_result",
          "data": {
            "text/plain": [
              "<seaborn.axisgrid.JointGrid at 0x7f960b15f390>"
            ]
          },
          "metadata": {
            "tags": []
          },
          "execution_count": 160
        },
        {
          "output_type": "display_data",
          "data": {
            "image/png": "[encoded data removed]",
            "text/plain": [
              "<Figure size 432x432 with 3 Axes>"
            ]
          },
          "metadata": {
            "tags": [],
            "needs_background": "light"
          }
        }
      ]
    },
    {
      "cell_type": "code",
      "metadata": {
        "colab": {
          "base_uri": "https://localhost:8080/",
          "height": 458
        },
        "id": "aErj_QYcfXTo",
        "outputId": "e936b965-06be-43d5-98ec-d0ae2e61e3b1"
      },
      "source": [
        "sns.jointplot(x='date', y='deaths', data = df_30)"
      ],
      "execution_count": null,
      "outputs": [
        {
          "output_type": "execute_result",
          "data": {
            "text/plain": [
              "<seaborn.axisgrid.JointGrid at 0x7f960c7e8cf8>"
            ]
          },
          "metadata": {
            "tags": []
          },
          "execution_count": 161
        },
        {
          "output_type": "display_data",
          "data": {
            "image/png": "[encoded data removed]",
            "text/plain": [
              "<Figure size 432x432 with 3 Axes>"
            ]
          },
          "metadata": {
            "tags": [],
            "needs_background": "light"
          }
        }
      ]
    },
    {
      "cell_type": "code",
      "metadata": {
        "id": "D__fyMuefXfb"
      },
      "source": [
        "nycases_30 = df_ny['cases'][-31:-1]\r\n",
        "nydeaths_30 = df_ny['deaths'] [-31:-1]\r\n",
        "nydates_30 = df_ny['date'][-31:-1]\r\n",
        "ny_new_cases_30 = df_ny['new_cases'][-31:-1]"
      ],
      "execution_count": null,
      "outputs": []
    },
    {
      "cell_type": "code",
      "metadata": {
        "id": "TG0hPnVKm0E0",
        "colab": {
          "base_uri": "https://localhost:8080/",
          "height": 476
        },
        "outputId": "1dec8af2-87ad-4dc7-bf0a-534a7b7b271d"
      },
      "source": [
        "plt.figure(figsize=(15,7))\r\n",
        "plt.bar(x=nydates_30, height=ny_new_cases_30, color='red')\r\n",
        "plt.xticks(rotation=90)\r\n",
        "plt.show()"
      ],
      "execution_count": null,
      "outputs": [
        {
          "output_type": "display_data",
          "data": {
            "image/png": "[encoded data removed]",
            "text/plain": [
              "<Figure size 1080x504 with 1 Axes>"
            ]
          },
          "metadata": {
            "tags": [],
            "needs_background": "light"
          }
        }
      ]
    },
    {
      "cell_type": "markdown",
      "metadata": {
        "id": "PtjNZZmOdAhy"
      },
      "source": [
        "# Task5: Comparing Covid 19 data with different states"
      ]
    },
    {
      "cell_type": "markdown",
      "metadata": {
        "id": "HInHQMh0dHvu"
      },
      "source": [
        "**Let's compare the Covid 19 cases after July for states: New York, California, Florida, Texas, Arizona**"
      ]
    },
    {
      "cell_type": "code",
      "metadata": {
        "id": "vu_eV2RmHvyO"
      },
      "source": [
        "states = ['New York','California','Florida','Texas','Arizona']"
      ],
      "execution_count": null,
      "outputs": []
    },
    {
      "cell_type": "code",
      "metadata": {
        "id": "2xVCN1IBInu0",
        "colab": {
          "base_uri": "https://localhost:8080/",
          "height": 433
        },
        "outputId": "0f30e7ad-ff53-47ec-846c-7ea256cb3533"
      },
      "source": [
        "#DATE VS CASES\n",
        "plt.figure(figsize=(20,6))\n",
        "for state in states:\n",
        "  df_st = df[(df['state']==state) & (df['date']>='2020-07-31')]\n",
        "  plt.plot(df_st['date'],\n",
        "           df_st['cases'],\n",
        "           linewidth=1.2\n",
        "           )\n",
        "  plt.xticks(rotation=90)\n",
        "plt.legend(states)\n",
        "plt.show()\n"
      ],
      "execution_count": null,
      "outputs": [
        {
          "output_type": "display_data",
          "data": {
            "image/png": "[encoded data removed]",
            "text/plain": [
              "<Figure size 1440x432 with 1 Axes>"
            ]
          },
          "metadata": {
            "tags": [],
            "needs_background": "light"
          }
        }
      ]
    },
    {
      "cell_type": "code",
      "metadata": {
        "colab": {
          "base_uri": "https://localhost:8080/",
          "height": 422
        },
        "id": "k-1R8lA3PYgW",
        "outputId": "93020027-77e0-4ce4-9599-95834dc784b7"
      },
      "source": [
        "#DATE VS DEATHS\r\n",
        "plt.figure(figsize=(20,6))\r\n",
        "for state in states:\r\n",
        "  df_st = df[(df['state']==state) & (df['date']>='2020-07-31')]\r\n",
        "  plt.plot(df_st['date'],\r\n",
        "           df_st['deaths'],\r\n",
        "           linewidth=1.2\r\n",
        "           )\r\n",
        "  plt.xticks(rotation=90)\r\n",
        "plt.legend(states)\r\n",
        "plt.show()\r\n"
      ],
      "execution_count": null,
      "outputs": [
        {
          "output_type": "display_data",
          "data": {
            "image/png": "[encoded data removed]",
            "text/plain": [
              "<Figure size 1440x432 with 1 Axes>"
            ]
          },
          "metadata": {
            "tags": [],
            "needs_background": "light"
          }
        }
      ]
    },
    {
      "cell_type": "code",
      "metadata": {
        "id": "4x3Nj_mGTJTO"
      },
      "source": [
        "df1 = pd.read_csv('https://raw.githubusercontent.com/nytimes/covid-19-data/master/us-states.csv')"
      ],
      "execution_count": null,
      "outputs": []
    },
    {
      "cell_type": "code",
      "metadata": {
        "colab": {
          "base_uri": "https://localhost:8080/",
          "height": 402
        },
        "id": "Y574ukVsTJiZ",
        "outputId": "73944262-c5fe-477e-be17-a20b3b4e90cf"
      },
      "source": [
        "df1.columns\r\n",
        "column_to_be_dropped = ['fips']\r\n",
        "df1 = df1.drop(column_to_be_dropped, axis = 1)\r\n",
        "df1"
      ],
      "execution_count": null,
      "outputs": [
        {
          "output_type": "execute_result",
          "data": {
            "text/html": [
              "<div>\n",
              "<style scoped>\n",
              "    .dataframe tbody tr th:only-of-type {\n",
              "        vertical-align: middle;\n",
              "    }\n",
              "\n",
              "    .dataframe tbody tr th {\n",
              "        vertical-align: top;\n",
              "    }\n",
              "\n",
              "    .dataframe thead th {\n",
              "        text-align: right;\n",
              "    }\n",
              "</style>\n",
              "<table border=\"1\" class=\"dataframe\">\n",
              "  <thead>\n",
              "    <tr style=\"text-align: right;\">\n",
              "      <th></th>\n",
              "      <th>date</th>\n",
              "      <th>state</th>\n",
              "      <th>cases</th>\n",
              "      <th>deaths</th>\n",
              "    </tr>\n",
              "  </thead>\n",
              "  <tbody>\n",
              "    <tr>\n",
              "      <th>0</th>\n",
              "      <td>2020-01-21</td>\n",
              "      <td>Washington</td>\n",
              "      <td>1</td>\n",
              "      <td>0</td>\n",
              "    </tr>\n",
              "    <tr>\n",
              "      <th>1</th>\n",
              "      <td>2020-01-22</td>\n",
              "      <td>Washington</td>\n",
              "      <td>1</td>\n",
              "      <td>0</td>\n",
              "    </tr>\n",
              "    <tr>\n",
              "      <th>2</th>\n",
              "      <td>2020-01-23</td>\n",
              "      <td>Washington</td>\n",
              "      <td>1</td>\n",
              "      <td>0</td>\n",
              "    </tr>\n",
              "    <tr>\n",
              "      <th>3</th>\n",
              "      <td>2020-01-24</td>\n",
              "      <td>Illinois</td>\n",
              "      <td>1</td>\n",
              "      <td>0</td>\n",
              "    </tr>\n",
              "    <tr>\n",
              "      <th>4</th>\n",
              "      <td>2020-01-24</td>\n",
              "      <td>Washington</td>\n",
              "      <td>1</td>\n",
              "      <td>0</td>\n",
              "    </tr>\n",
              "    <tr>\n",
              "      <th>...</th>\n",
              "      <td>...</td>\n",
              "      <td>...</td>\n",
              "      <td>...</td>\n",
              "      <td>...</td>\n",
              "    </tr>\n",
              "    <tr>\n",
              "      <th>17664</th>\n",
              "      <td>2021-01-17</td>\n",
              "      <td>Virginia</td>\n",
              "      <td>439305</td>\n",
              "      <td>5729</td>\n",
              "    </tr>\n",
              "    <tr>\n",
              "      <th>17665</th>\n",
              "      <td>2021-01-17</td>\n",
              "      <td>Washington</td>\n",
              "      <td>293296</td>\n",
              "      <td>3971</td>\n",
              "    </tr>\n",
              "    <tr>\n",
              "      <th>17666</th>\n",
              "      <td>2021-01-17</td>\n",
              "      <td>West Virginia</td>\n",
              "      <td>108821</td>\n",
              "      <td>1776</td>\n",
              "    </tr>\n",
              "    <tr>\n",
              "      <th>17667</th>\n",
              "      <td>2021-01-17</td>\n",
              "      <td>Wisconsin</td>\n",
              "      <td>568166</td>\n",
              "      <td>5907</td>\n",
              "    </tr>\n",
              "    <tr>\n",
              "      <th>17668</th>\n",
              "      <td>2021-01-17</td>\n",
              "      <td>Wyoming</td>\n",
              "      <td>49363</td>\n",
              "      <td>522</td>\n",
              "    </tr>\n",
              "  </tbody>\n",
              "</table>\n",
              "<p>17669 rows × 4 columns</p>\n",
              "</div>"
            ],
            "text/plain": [
              "             date          state   cases  deaths\n",
              "0      2020-01-21     Washington       1       0\n",
              "1      2020-01-22     Washington       1       0\n",
              "2      2020-01-23     Washington       1       0\n",
              "3      2020-01-24       Illinois       1       0\n",
              "4      2020-01-24     Washington       1       0\n",
              "...           ...            ...     ...     ...\n",
              "17664  2021-01-17       Virginia  439305    5729\n",
              "17665  2021-01-17     Washington  293296    3971\n",
              "17666  2021-01-17  West Virginia  108821    1776\n",
              "17667  2021-01-17      Wisconsin  568166    5907\n",
              "17668  2021-01-17        Wyoming   49363     522\n",
              "\n",
              "[17669 rows x 4 columns]"
            ]
          },
          "metadata": {
            "tags": []
          },
          "execution_count": 166
        }
      ]
    },
    {
      "cell_type": "code",
      "metadata": {
        "id": "0xKjedP0RR7U"
      },
      "source": [
        "july = df1[df1['date'] > '2020-07-31']\r\n"
      ],
      "execution_count": null,
      "outputs": []
    },
    {
      "cell_type": "code",
      "metadata": {
        "colab": {
          "base_uri": "https://localhost:8080/"
        },
        "id": "6vyYhV7ARSBc",
        "outputId": "121ddd29-a3f7-421c-b6cb-b7a41e887a36"
      },
      "source": [
        "NYjuly = july[july['state'] == 'New York']\r\n",
        "NYjuly.mean()\r\n"
      ],
      "execution_count": null,
      "outputs": [
        {
          "output_type": "execute_result",
          "data": {
            "text/plain": [
              "cases     607702.452941\n",
              "deaths     34021.552941\n",
              "dtype: float64"
            ]
          },
          "metadata": {
            "tags": []
          },
          "execution_count": 168
        }
      ]
    },
    {
      "cell_type": "code",
      "metadata": {
        "colab": {
          "base_uri": "https://localhost:8080/"
        },
        "id": "vja2RyRZRSDw",
        "outputId": "e5561fd2-70cc-48bf-8cfc-98825f7dc2fb"
      },
      "source": [
        "CAjuly = july[july['state'] == 'California']\r\n",
        "CAjuly.mean()\r\n"
      ],
      "execution_count": null,
      "outputs": [
        {
          "output_type": "execute_result",
          "data": {
            "text/plain": [
              "cases     1.181627e+06\n",
              "deaths    1.794621e+04\n",
              "dtype: float64"
            ]
          },
          "metadata": {
            "tags": []
          },
          "execution_count": 169
        }
      ]
    },
    {
      "cell_type": "code",
      "metadata": {
        "colab": {
          "base_uri": "https://localhost:8080/"
        },
        "id": "xxT5bHIKRSFq",
        "outputId": "99b88dfb-24fe-4588-bb44-731b104b3c8c"
      },
      "source": [
        "FLjuly = july[july['state'] == 'Florida']\r\n",
        "FLjuly.mean()\r\n"
      ],
      "execution_count": null,
      "outputs": [
        {
          "output_type": "execute_result",
          "data": {
            "text/plain": [
              "cases     872936.529412\n",
              "deaths     15894.770588\n",
              "dtype: float64"
            ]
          },
          "metadata": {
            "tags": []
          },
          "execution_count": 170
        }
      ]
    },
    {
      "cell_type": "code",
      "metadata": {
        "colab": {
          "base_uri": "https://localhost:8080/"
        },
        "id": "obciIUfPRSIL",
        "outputId": "8b771210-ef6b-42cf-b7ca-b71dee006926"
      },
      "source": [
        "TXjuly = july[july['state'] == 'Texas']\r\n",
        "TXjuly.mean()\r\n"
      ],
      "execution_count": null,
      "outputs": [
        {
          "output_type": "execute_result",
          "data": {
            "text/plain": [
              "cases     1.051909e+06\n",
              "deaths    1.883595e+04\n",
              "dtype: float64"
            ]
          },
          "metadata": {
            "tags": []
          },
          "execution_count": 171
        }
      ]
    },
    {
      "cell_type": "code",
      "metadata": {
        "colab": {
          "base_uri": "https://localhost:8080/"
        },
        "id": "0TliF-XFRSK3",
        "outputId": "3d28302e-8e47-4a83-f07b-2fbf1da23728"
      },
      "source": [
        "AZjuly = july[july['state'] == 'Arizona']\r\n",
        "AZjuly.mean()\r\n"
      ],
      "execution_count": null,
      "outputs": [
        {
          "output_type": "execute_result",
          "data": {
            "text/plain": [
              "cases     303065.547059\n",
              "deaths      6337.388235\n",
              "dtype: float64"
            ]
          },
          "metadata": {
            "tags": []
          },
          "execution_count": 172
        }
      ]
    },
    {
      "cell_type": "code",
      "metadata": {
        "colab": {
          "base_uri": "https://localhost:8080/",
          "height": 195
        },
        "id": "Jw1CBQSPRSNC",
        "outputId": "caba1a6e-23d1-4206-e1ce-1b12c3368f52"
      },
      "source": [
        "dict={'State':['New York','California','Florida','Texas','Arizona'],'Average No.of Cases': ['607,702','1,181,627','872,936','1,051,909','303,065'],'Average No.of Deaths':['34,021','17,946','15,894','18,835','6,337']}\r\n",
        "df3=pd.DataFrame(dict)\r\n",
        "df3"
      ],
      "execution_count": null,
      "outputs": [
        {
          "output_type": "execute_result",
          "data": {
            "text/html": [
              "<div>\n",
              "<style scoped>\n",
              "    .dataframe tbody tr th:only-of-type {\n",
              "        vertical-align: middle;\n",
              "    }\n",
              "\n",
              "    .dataframe tbody tr th {\n",
              "        vertical-align: top;\n",
              "    }\n",
              "\n",
              "    .dataframe thead th {\n",
              "        text-align: right;\n",
              "    }\n",
              "</style>\n",
              "<table border=\"1\" class=\"dataframe\">\n",
              "  <thead>\n",
              "    <tr style=\"text-align: right;\">\n",
              "      <th></th>\n",
              "      <th>State</th>\n",
              "      <th>Average No.of Cases</th>\n",
              "      <th>Average No.of Deaths</th>\n",
              "    </tr>\n",
              "  </thead>\n",
              "  <tbody>\n",
              "    <tr>\n",
              "      <th>0</th>\n",
              "      <td>New York</td>\n",
              "      <td>607,702</td>\n",
              "      <td>34,021</td>\n",
              "    </tr>\n",
              "    <tr>\n",
              "      <th>1</th>\n",
              "      <td>California</td>\n",
              "      <td>1,181,627</td>\n",
              "      <td>17,946</td>\n",
              "    </tr>\n",
              "    <tr>\n",
              "      <th>2</th>\n",
              "      <td>Florida</td>\n",
              "      <td>872,936</td>\n",
              "      <td>15,894</td>\n",
              "    </tr>\n",
              "    <tr>\n",
              "      <th>3</th>\n",
              "      <td>Texas</td>\n",
              "      <td>1,051,909</td>\n",
              "      <td>18,835</td>\n",
              "    </tr>\n",
              "    <tr>\n",
              "      <th>4</th>\n",
              "      <td>Arizona</td>\n",
              "      <td>303,065</td>\n",
              "      <td>6,337</td>\n",
              "    </tr>\n",
              "  </tbody>\n",
              "</table>\n",
              "</div>"
            ],
            "text/plain": [
              "        State Average No.of Cases Average No.of Deaths\n",
              "0    New York             607,702               34,021\n",
              "1  California           1,181,627               17,946\n",
              "2     Florida             872,936               15,894\n",
              "3       Texas           1,051,909               18,835\n",
              "4     Arizona             303,065                6,337"
            ]
          },
          "metadata": {
            "tags": []
          },
          "execution_count": 173
        }
      ]
    },
    {
      "cell_type": "code",
      "metadata": {
        "id": "tUvu6sRWWfvk"
      },
      "source": [
        "#ALL FLOAT conversions are done here.\r\n",
        "#print(int(1.181627e+06))\r\n",
        "#print(int(1.051909e+06))\r\n",
        "#print(int(1.794621e+04))\r\n",
        "#print(int(1.883595e+04))"
      ],
      "execution_count": null,
      "outputs": []
    },
    {
      "cell_type": "code",
      "metadata": {
        "id": "rJUnNCAzRSPx"
      },
      "source": [
        ""
      ],
      "execution_count": null,
      "outputs": []
    },
    {
      "cell_type": "code",
      "metadata": {
        "id": "UEEEt6KMPYqc"
      },
      "source": [
        ""
      ],
      "execution_count": null,
      "outputs": []
    },
    {
      "cell_type": "markdown",
      "metadata": {
        "id": "Hwch-J5PIHA1"
      },
      "source": [
        "# Task6: Conclusion"
      ]
    },
    {
      "cell_type": "markdown",
      "metadata": {
        "id": "q5G5KP6CINBS"
      },
      "source": [
        "Below are the conclusions:\r\n",
        "\r\n",
        "\r\n",
        "\r\n",
        "1.\"The no. of new cases for NewYork was relatively low for the first couple of weeks of the dataset but increased dramatically thereafter reaching new highs. At the beginning stages, the no one was well aware about the danger of the situation and no lockdown or travel restrictions were enforced.\r\n",
        "\r\n",
        "As the situation got worse and worse by day, government protocols such as lockdowns helped to decrease the no of new cases. The cases slowly stabilized and stayed at low levels somewhere from mid-June till mid-September.\r\n",
        "\r\n",
        "The cases started to rise drastically as of early October and is still going up reaching all time highs for no. of new cases daily (almost 20,000 at one point). The reason could be as the weather is better during August/September so people started going outdoors. As the cases were lower and the virus seemed to be under control, restrictions were slowly eased and the holiday seasons are to be blamed for the increase in no. of cases.\r\n",
        "\r\n",
        "The last 30 days in NewYork state has experienced large no.of new cases daily.\r\n",
        "     \r\n",
        "2.California's total no. of cases is 3X more when compared to New York but has relatively less total no. of deaths. Also, New York and Arizona had a relatively low and stable no. of daily new cases when compared to three other states.\r\n",
        "\r\n",
        "\r\n",
        "By July 31,2020, New York's no. of death was about 3X more than California, about 4X more than Florida and Texas, about 11X more than Arizona.\r\n",
        "\r\n",
        "\r\n"
      ]
    },
    {
      "cell_type": "code",
      "metadata": {
        "id": "fx7Ug_qso2yh"
      },
      "source": [
        ""
      ],
      "execution_count": null,
      "outputs": []
    },
    {
      "cell_type": "code",
      "metadata": {
        "id": "rJDI8Y8lo29S"
      },
      "source": [
        ""
      ],
      "execution_count": null,
      "outputs": []
    },
    {
      "cell_type": "code",
      "metadata": {
        "id": "GCwtlBzLB9CU",
        "colab": {
          "base_uri": "https://localhost:8080/",
          "height": 77
        },
        "outputId": "cc49de7f-b47f-4aa8-fe3e-b1962fced52a"
      },
      "source": [
        "conclusion={'State':['New York'],'Average(No.of Cases)': ['449,848'],'Average(No.of Deaths)':['27,816']}\r\n",
        "df3=pd.DataFrame(conclusion)\r\n",
        "df3"
      ],
      "execution_count": null,
      "outputs": [
        {
          "output_type": "execute_result",
          "data": {
            "text/html": [
              "<div>\n",
              "<style scoped>\n",
              "    .dataframe tbody tr th:only-of-type {\n",
              "        vertical-align: middle;\n",
              "    }\n",
              "\n",
              "    .dataframe tbody tr th {\n",
              "        vertical-align: top;\n",
              "    }\n",
              "\n",
              "    .dataframe thead th {\n",
              "        text-align: right;\n",
              "    }\n",
              "</style>\n",
              "<table border=\"1\" class=\"dataframe\">\n",
              "  <thead>\n",
              "    <tr style=\"text-align: right;\">\n",
              "      <th></th>\n",
              "      <th>State</th>\n",
              "      <th>Average(No.of Cases)</th>\n",
              "      <th>Average(No.of Deaths)</th>\n",
              "    </tr>\n",
              "  </thead>\n",
              "  <tbody>\n",
              "    <tr>\n",
              "      <th>0</th>\n",
              "      <td>New York</td>\n",
              "      <td>449,848</td>\n",
              "      <td>27,816</td>\n",
              "    </tr>\n",
              "  </tbody>\n",
              "</table>\n",
              "</div>"
            ],
            "text/plain": [
              "      State Average(No.of Cases) Average(No.of Deaths)\n",
              "0  New York              449,848                27,816"
            ]
          },
          "metadata": {
            "tags": []
          },
          "execution_count": 178
        }
      ]
    },
    {
      "cell_type": "code",
      "metadata": {
        "id": "HnjyB9N6o2Eg"
      },
      "source": [
        ""
      ],
      "execution_count": null,
      "outputs": []
    },
    {
      "cell_type": "code",
      "metadata": {
        "id": "sN-crj9lh5OT"
      },
      "source": [
        ""
      ],
      "execution_count": null,
      "outputs": []
    }
  ]
}