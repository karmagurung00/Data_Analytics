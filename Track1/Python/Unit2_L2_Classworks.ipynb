{
  "nbformat": 4,
  "nbformat_minor": 0,
  "metadata": {
    "colab": {
      "name": "Unit2_L2 -Classworks",
      "provenance": [],
      "collapsed_sections": [],
      "authorship_tag": "ABX9TyPbnpsAqFrZosc2J0/8lQtx",
      "include_colab_link": true
    },
    "kernelspec": {
      "name": "python3",
      "display_name": "Python 3"
    }
  },
  "cells": [
    {
      "cell_type": "markdown",
      "metadata": {
        "id": "view-in-github",
        "colab_type": "text"
      },
      "source": [
        "<a href=\"https://colab.research.google.com/github/karmagurung00/Data_Analytics/blob/main/Track1/Python/Unit2_L2_Classworks.ipynb\" target=\"_parent\"><img src=\"https://colab.research.google.com/assets/colab-badge.svg\" alt=\"Open In Colab\"/></a>"
      ]
    },
    {
      "cell_type": "code",
      "metadata": {
        "colab": {
          "base_uri": "https://localhost:8080/"
        },
        "id": "VgwksihbfTzM",
        "outputId": "81e74d0f-483d-4fbb-9911-855a7ce20539"
      },
      "source": [
        "num=\"9\"\r\n",
        "worda=\"My favorite number is\"\r\n",
        "print(worda + num)"
      ],
      "execution_count": null,
      "outputs": [
        {
          "output_type": "stream",
          "text": [
            "My favorite number is9\n"
          ],
          "name": "stdout"
        }
      ]
    },
    {
      "cell_type": "code",
      "metadata": {
        "colab": {
          "base_uri": "https://localhost:8080/"
        },
        "id": "2-MvhQR-fc5J",
        "outputId": "d9b0fc95-9742-4dcb-d870-2fe6ed739410"
      },
      "source": [
        "New_year = \"hello there!\"\r\n",
        "print(New_year)"
      ],
      "execution_count": null,
      "outputs": [
        {
          "output_type": "stream",
          "text": [
            "hello there!\n"
          ],
          "name": "stdout"
        }
      ]
    },
    {
      "cell_type": "code",
      "metadata": {
        "colab": {
          "base_uri": "https://localhost:8080/"
        },
        "id": "nHo6Jf1Xfq3z",
        "outputId": "cf926b75-f37f-4f51-f95a-7db64419a51b"
      },
      "source": [
        "a1='firstname'\r\n",
        "b1='lastname'\r\n",
        "c1='@gmail.com'\r\n",
        "print(a1+b1+c1)"
      ],
      "execution_count": null,
      "outputs": [
        {
          "output_type": "stream",
          "text": [
            "firstnamelastname@gmail.com\n"
          ],
          "name": "stdout"
        }
      ]
    },
    {
      "cell_type": "code",
      "metadata": {
        "colab": {
          "base_uri": "https://localhost:8080/"
        },
        "id": "qU-tYFIffyog",
        "outputId": "3c78c6a2-375d-4bf8-b64a-f30921611173"
      },
      "source": [
        "Name=\"Karma\"\r\n",
        "print(Name.lower())\r\n",
        "print(Name.upper())"
      ],
      "execution_count": null,
      "outputs": [
        {
          "output_type": "stream",
          "text": [
            "karma\n",
            "KARMA\n"
          ],
          "name": "stdout"
        }
      ]
    },
    {
      "cell_type": "code",
      "metadata": {
        "colab": {
          "base_uri": "https://localhost:8080/"
        },
        "id": "89Iw-nDEf8IT",
        "outputId": "13c31d1b-ca5b-4b3b-bad9-d2b9c5c52533"
      },
      "source": [
        "x1=\"Do you want to hang out on the\"\r\n",
        "y1=\"15\"\r\n",
        "z1=\"th of the month\"\r\n",
        "print(x1+\" \" +y1+z1)\r\n"
      ],
      "execution_count": null,
      "outputs": [
        {
          "output_type": "stream",
          "text": [
            "Do you want to hang out on the 15th of the month\n"
          ],
          "name": "stdout"
        }
      ]
    },
    {
      "cell_type": "code",
      "metadata": {
        "id": "bav8ByYLgG00"
      },
      "source": [
        ""
      ],
      "execution_count": null,
      "outputs": []
    }
  ]
}