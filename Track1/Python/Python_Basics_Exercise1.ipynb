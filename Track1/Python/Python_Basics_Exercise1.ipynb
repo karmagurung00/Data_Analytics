{
  "nbformat": 4,
  "nbformat_minor": 0,
  "metadata": {
    "colab": {
      "name": "Python_Basics_Exercise1.ipynb",
      "provenance": [],
      "collapsed_sections": [],
      "include_colab_link": true
    },
    "kernelspec": {
      "name": "python3",
      "display_name": "Python 3"
    }
  },
  "cells": [
    {
      "cell_type": "markdown",
      "metadata": {
        "id": "view-in-github",
        "colab_type": "text"
      },
      "source": [
        "<a href=\"https://colab.research.google.com/github/karmagurung00/Data_Analytics/blob/main/Track1/Python/Python_Basics_Exercise1.ipynb\" target=\"_parent\"><img src=\"https://colab.research.google.com/assets/colab-badge.svg\" alt=\"Open In Colab\"/></a>"
      ]
    },
    {
      "cell_type": "markdown",
      "metadata": {
        "id": "g3-tSKRt_mkM"
      },
      "source": [
        "**PYTHON EXERCISE FOR PRACTICE**"
      ]
    },
    {
      "cell_type": "markdown",
      "metadata": {
        "id": "bC_6Uz7DBqBH"
      },
      "source": [
        "**1: Given a two integer numbers return their product and  if the product is greater than 1000, then return their sum**\r\n",
        "\r\n",
        "number1 = 20\r\n",
        "\r\n",
        "number2 = 30"
      ]
    },
    {
      "cell_type": "code",
      "metadata": {
        "id": "HKa8yElOCEhb",
        "colab": {
          "base_uri": "https://localhost:8080/"
        },
        "outputId": "86720102-25e6-4a43-a072-3dfa659feab5"
      },
      "source": [
        "number1 = 20\r\n",
        "number2 = 30\r\n",
        "x=number1*number2\r\n",
        "y=number1+number2\r\n",
        "if x>1000:\r\n",
        "  print(y)\r\n",
        "else:\r\n",
        "  print(x)"
      ],
      "execution_count": null,
      "outputs": [
        {
          "output_type": "stream",
          "text": [
            "600\n"
          ],
          "name": "stdout"
        }
      ]
    },
    {
      "cell_type": "markdown",
      "metadata": {
        "id": "gi4_I_PzCG8b"
      },
      "source": [
        "**2: Given a range of first 10 numbers, Iterate from start number to the end number and print the sum of the current number and previous number.**"
      ]
    },
    {
      "cell_type": "code",
      "metadata": {
        "id": "kEiCkup1CPI-",
        "colab": {
          "base_uri": "https://localhost:8080/"
        },
        "outputId": "dee483e0-ae39-4dbc-be0d-e10d77e90f32"
      },
      "source": [
        "previous_num = 0\r\n",
        "for i in range(0,10):\r\n",
        "    sum = previous_num + i\r\n",
        "    print(sum)\r\n",
        "    previous_num = i\r\n"
      ],
      "execution_count": null,
      "outputs": [
        {
          "output_type": "stream",
          "text": [
            "0\n",
            "1\n",
            "3\n",
            "5\n",
            "7\n",
            "9\n",
            "11\n",
            "13\n",
            "15\n",
            "17\n"
          ],
          "name": "stdout"
        }
      ]
    },
    {
      "cell_type": "markdown",
      "metadata": {
        "id": "TC9qS9y1CXub"
      },
      "source": [
        "**3: In the string \"pynative\", display only those characters which are present at an even index number.**"
      ]
    },
    {
      "cell_type": "code",
      "metadata": {
        "id": "TuKk3dabCsNB",
        "colab": {
          "base_uri": "https://localhost:8080/"
        },
        "outputId": "8b81b69d-c8fe-4db4-c6e7-8d8d12fb2dd0"
      },
      "source": [
        "a='pynative'\r\n",
        "for i in range(0,len(a),2):\r\n",
        "  print(i,a[i])"
      ],
      "execution_count": null,
      "outputs": [
        {
          "output_type": "stream",
          "text": [
            "0 p\n",
            "2 n\n",
            "4 t\n",
            "6 v\n"
          ],
          "name": "stdout"
        }
      ]
    },
    {
      "cell_type": "markdown",
      "metadata": {
        "id": "I0P344TnCtM_"
      },
      "source": [
        "**4: In the string \"pynative\" remove characters from zero up to 5 and return a new string**"
      ]
    },
    {
      "cell_type": "code",
      "metadata": {
        "id": "Ydf43l5_DB3E",
        "colab": {
          "base_uri": "https://localhost:8080/"
        },
        "outputId": "c863988d-a29f-4125-ebfe-dacc94b948a7"
      },
      "source": [
        "a='pynative'\r\n",
        "print(a.replace('pyna',' '))\r\n"
      ],
      "execution_count": null,
      "outputs": [
        {
          "output_type": "stream",
          "text": [
            " tive\n"
          ],
          "name": "stdout"
        }
      ]
    },
    {
      "cell_type": "markdown",
      "metadata": {
        "id": "5i7uTUBtDQDL"
      },
      "source": [
        "**5: Reverse numbers 121 and 125 and return true if it is the same as the original number.**"
      ]
    },
    {
      "cell_type": "markdown",
      "metadata": {
        "id": "B2JRRVNMByFg"
      },
      "source": [
        ""
      ]
    },
    {
      "cell_type": "code",
      "metadata": {
        "id": "uVb1zuoiDl4C",
        "colab": {
          "base_uri": "https://localhost:8080/"
        },
        "outputId": "98663d2d-cdd7-49a9-b76a-6683d96a49bb"
      },
      "source": [
        "a='121'\r\n",
        "reversed=int(str(a)[::-1])\r\n",
        "print(reversed)\r\n",
        "if reversed==121:\r\n",
        "  print(True)\r\n",
        "b='125'\r\n",
        "reversed=int(str(b)[::-1])\r\n",
        "print(reversed)\r\n",
        "if reversed==125:\r\n",
        "  print(True)\r\n",
        "else:\r\n",
        "  print(False)"
      ],
      "execution_count": null,
      "outputs": [
        {
          "output_type": "stream",
          "text": [
            "121\n",
            "True\n",
            "521\n",
            "False\n"
          ],
          "name": "stdout"
        }
      ]
    },
    {
      "cell_type": "markdown",
      "metadata": {
        "id": "cf2_0MYzDuxl"
      },
      "source": [
        "**6: Given two list of numbers create a new list such that new list should contain only odd numbers from the first list and even numbers from the second list.**\r\n",
        "\r\n",
        "1.  List 1  [10, 20, 23, 11, 17]\r\n",
        "2.  List 2  [13, 43, 24, 36, 12]\r\n",
        "\r\n",
        "\r\n",
        "\r\n",
        " \r\n"
      ]
    },
    {
      "cell_type": "code",
      "metadata": {
        "colab": {
          "base_uri": "https://localhost:8080/",
          "height": 229
        },
        "id": "GQWAb4hCEO7I",
        "outputId": "62c02db6-e748-474e-981e-5a7865541b71"
      },
      "source": [
        "\r\n",
        "\t "
      ],
      "execution_count": null,
      "outputs": [
        {
          "output_type": "error",
          "ename": "TypeError",
          "evalue": "ignored",
          "traceback": [
            "\u001b[0;31m---------------------------------------------------------------------------\u001b[0m",
            "\u001b[0;31mTypeError\u001b[0m                                 Traceback (most recent call last)",
            "\u001b[0;32m<ipython-input-92-901d25f4813c>\u001b[0m in \u001b[0;36m<module>\u001b[0;34m()\u001b[0m\n\u001b[1;32m      3\u001b[0m \u001b[0mlist_3\u001b[0m\u001b[0;34m=\u001b[0m\u001b[0;34m[\u001b[0m\u001b[0;34m]\u001b[0m\u001b[0;34m\u001b[0m\u001b[0;34m\u001b[0m\u001b[0m\n\u001b[1;32m      4\u001b[0m \u001b[0;32mfor\u001b[0m \u001b[0ma\u001b[0m \u001b[0;32min\u001b[0m \u001b[0mlist_1\u001b[0m\u001b[0;34m:\u001b[0m\u001b[0;34m\u001b[0m\u001b[0;34m\u001b[0m\u001b[0m\n\u001b[0;32m----> 5\u001b[0;31m   \u001b[0;32mif\u001b[0m \u001b[0;34m(\u001b[0m\u001b[0ma\u001b[0m\u001b[0;34m%\u001b[0m\u001b[0;36m2\u001b[0m \u001b[0;34m==\u001b[0m \u001b[0;36m0\u001b[0m\u001b[0;34m)\u001b[0m\u001b[0;34m:\u001b[0m\u001b[0;34m\u001b[0m\u001b[0;34m\u001b[0m\u001b[0m\n\u001b[0m\u001b[1;32m      6\u001b[0m     \u001b[0mlist_3\u001b[0m\u001b[0;34m.\u001b[0m\u001b[0mappend\u001b[0m\u001b[0;34m(\u001b[0m\u001b[0ma\u001b[0m\u001b[0;34m)\u001b[0m\u001b[0;34m\u001b[0m\u001b[0;34m\u001b[0m\u001b[0m\n\u001b[1;32m      7\u001b[0m \u001b[0;32mfor\u001b[0m \u001b[0mb\u001b[0m \u001b[0;32min\u001b[0m \u001b[0mlist_2\u001b[0m\u001b[0;34m:\u001b[0m\u001b[0;34m\u001b[0m\u001b[0;34m\u001b[0m\u001b[0m\n",
            "\u001b[0;31mTypeError\u001b[0m: not all arguments converted during string formatting"
          ]
        }
      ]
    },
    {
      "cell_type": "markdown",
      "metadata": {
        "id": "z5GgC036ESdH"
      },
      "source": [
        "**7: Write a code to extract each digit from the integer 7536  in the reverse order**"
      ]
    },
    {
      "cell_type": "code",
      "metadata": {
        "id": "KA27ivt9EfVR",
        "colab": {
          "base_uri": "https://localhost:8080/"
        },
        "outputId": "1881df51-3e77-412b-f1a2-9c9c0b22a8e1"
      },
      "source": [
        "n = '7536'\r\n",
        "reversed = int(str(n)[::-1])\r\n",
        "print(reversed)"
      ],
      "execution_count": null,
      "outputs": [
        {
          "output_type": "stream",
          "text": [
            "6357\n"
          ],
          "name": "stdout"
        }
      ]
    },
    {
      "cell_type": "markdown",
      "metadata": {
        "id": "Ac2IVsHR_x3f"
      },
      "source": [
        "**8. What is the output of the following code?**"
      ]
    },
    {
      "cell_type": "code",
      "metadata": {
        "id": "dzuN79j2_mE_",
        "colab": {
          "base_uri": "https://localhost:8080/",
          "height": 195
        },
        "outputId": "e01fd51b-0370-45a6-99ba-d7d7ec3f2604"
      },
      "source": [
        "sampleList = [\"Jon\", \"Kelly\", \"Jessa\"]\r\n",
        "sampleList.append(2, \"Scott\")\r\n",
        "print(sampleList)"
      ],
      "execution_count": null,
      "outputs": [
        {
          "output_type": "error",
          "ename": "TypeError",
          "evalue": "ignored",
          "traceback": [
            "\u001b[0;31m---------------------------------------------------------------------------\u001b[0m",
            "\u001b[0;31mTypeError\u001b[0m                                 Traceback (most recent call last)",
            "\u001b[0;32m<ipython-input-1-6e784efd483a>\u001b[0m in \u001b[0;36m<module>\u001b[0;34m()\u001b[0m\n\u001b[1;32m      1\u001b[0m \u001b[0msampleList\u001b[0m \u001b[0;34m=\u001b[0m \u001b[0;34m[\u001b[0m\u001b[0;34m\"Jon\"\u001b[0m\u001b[0;34m,\u001b[0m \u001b[0;34m\"Kelly\"\u001b[0m\u001b[0;34m,\u001b[0m \u001b[0;34m\"Jessa\"\u001b[0m\u001b[0;34m]\u001b[0m\u001b[0;34m\u001b[0m\u001b[0;34m\u001b[0m\u001b[0m\n\u001b[0;32m----> 2\u001b[0;31m \u001b[0msampleList\u001b[0m\u001b[0;34m.\u001b[0m\u001b[0mappend\u001b[0m\u001b[0;34m(\u001b[0m\u001b[0;36m2\u001b[0m\u001b[0;34m,\u001b[0m \u001b[0;34m\"Scott\"\u001b[0m\u001b[0;34m)\u001b[0m\u001b[0;34m\u001b[0m\u001b[0;34m\u001b[0m\u001b[0m\n\u001b[0m\u001b[1;32m      3\u001b[0m \u001b[0mprint\u001b[0m\u001b[0;34m(\u001b[0m\u001b[0msampleList\u001b[0m\u001b[0;34m)\u001b[0m\u001b[0;34m\u001b[0m\u001b[0;34m\u001b[0m\u001b[0m\n",
            "\u001b[0;31mTypeError\u001b[0m: append() takes exactly one argument (2 given)"
          ]
        }
      ]
    },
    {
      "cell_type": "markdown",
      "metadata": {
        "id": "mqNHojQj_7Gu"
      },
      "source": [
        "1.   The program executed with errors  **(THE ANSWERS IS THIS)**\r\n",
        "1.   [‘Jon’, ‘Kelly’, ‘Scott’, ‘Jessa’]\r\n",
        "2.   [‘Jon’, ‘Kelly’, ‘Jessa’, ‘Scott’]\r\n",
        "2.   [‘Jon’, ‘Scott’, ‘Kelly’, ‘Jessa’]\r\n",
        "\r\n",
        "\r\n"
      ]
    },
    {
      "cell_type": "markdown",
      "metadata": {
        "id": "hOzDvWv2Aqic"
      },
      "source": [
        "***9. What is the output of the following code?***"
      ]
    },
    {
      "cell_type": "code",
      "metadata": {
        "id": "GYNREZfOAw65"
      },
      "source": [
        "valueOne = 5 ** 2\r\n",
        "valueTwo = 5 ** 3\r\n",
        "\r\n",
        "print(valueOne)\r\n",
        "print(valueTwo)"
      ],
      "execution_count": null,
      "outputs": []
    },
    {
      "cell_type": "markdown",
      "metadata": {
        "id": "VGsfNQ_QA2HK"
      },
      "source": [
        "\r\n",
        "1. 10\r\n",
        "   15\r\n",
        "2. 25 \r\n",
        "   125  ***(THE ANSWER IS THIS)***\r\n",
        "1.Error: invalid syntax\r\n",
        "\r\n",
        "\r\n",
        "\r\n",
        "\r\n",
        "\r\n",
        "\r\n",
        "\r\n"
      ]
    },
    {
      "cell_type": "markdown",
      "metadata": {
        "id": "GCgvAVj6sG1N"
      },
      "source": [
        "**10. Display the following data using string.format() method and as a message**\r\n",
        "* totalMoney = 1000\r\n",
        "* quantity =3\r\n",
        "* price = 450 \r\n",
        "\r\n",
        "\r\n",
        "\r\n",
        "\r\n"
      ]
    },
    {
      "cell_type": "code",
      "metadata": {
        "id": "dtXfJx31syUY",
        "colab": {
          "base_uri": "https://localhost:8080/"
        },
        "outputId": "c36bd562-940e-41d3-8a15-cf8eec0a496a"
      },
      "source": [
        "#CANNOT UNDERSTAND THE CODE EVEN WHEN COPIED FROM THE INTERNET\r\n",
        "quantity = 3\r\n",
        "totalMoney = 1000\r\n",
        "price = 450\r\n",
        "statement1 = \"I have {1} dollars so I can buy {0} football for {2:.2f} dollars.\"\r\n",
        "print(statement1.format(quantity, totalMoney, price))"
      ],
      "execution_count": null,
      "outputs": [
        {
          "output_type": "stream",
          "text": [
            "I have 1000 dollars so I can buy 3 football for 450.00 dollars.\n"
          ],
          "name": "stdout"
        }
      ]
    },
    {
      "cell_type": "markdown",
      "metadata": {
        "id": "yxY9xGyLsywP"
      },
      "source": [
        "**11: Print First 10 natural numbers using while loop**"
      ]
    },
    {
      "cell_type": "code",
      "metadata": {
        "colab": {
          "base_uri": "https://localhost:8080/"
        },
        "id": "SEyDZvxPCla6",
        "outputId": "7c6196e3-6fac-4245-cc8c-02ab8a4f2dcf"
      },
      "source": [
        "natural_num = 1\r\n",
        "while natural_num < 11:\r\n",
        "    print(natural_num)\r\n",
        "    natural_num= natural_num + 1\r\n"
      ],
      "execution_count": null,
      "outputs": [
        {
          "output_type": "stream",
          "text": [
            "1\n",
            "2\n",
            "3\n",
            "4\n",
            "5\n",
            "6\n",
            "7\n",
            "8\n",
            "9\n",
            "10\n"
          ],
          "name": "stdout"
        }
      ]
    },
    {
      "cell_type": "markdown",
      "metadata": {
        "id": "WhRDBtDutC4M"
      },
      "source": [
        ""
      ]
    },
    {
      "cell_type": "markdown",
      "metadata": {
        "id": "5MBJ7mAztE0p"
      },
      "source": [
        "**12.  Reverse the following list using for loop**\r\n",
        "\r\n",
        "list1 = [10, 20, 30, 40, 50]"
      ]
    },
    {
      "cell_type": "code",
      "metadata": {
        "id": "TdWqlpJXtUvG",
        "colab": {
          "base_uri": "https://localhost:8080/"
        },
        "outputId": "bc2118ea-b943-484c-a0ee-456eaf9a9d35"
      },
      "source": [
        "list1 = [10, 20, 30, 40, 50]\r\n",
        "start = len(list1) - 1\r\n",
        "stop = -1\r\n",
        "step = -1\r\n",
        "for i in range(start, stop, step) :\r\n",
        "    print(list1[i])\r\n"
      ],
      "execution_count": null,
      "outputs": [
        {
          "output_type": "stream",
          "text": [
            "50\n",
            "40\n",
            "30\n",
            "20\n",
            "10\n"
          ],
          "name": "stdout"
        }
      ]
    },
    {
      "cell_type": "markdown",
      "metadata": {
        "id": "LyQAuxbgtVTM"
      },
      "source": [
        "**13: Display a message “Done” after successful execution of for loop**\r\n",
        "\r\n",
        "\r\n"
      ]
    },
    {
      "cell_type": "code",
      "metadata": {
        "id": "K8M3XInHtebM",
        "colab": {
          "base_uri": "https://localhost:8080/"
        },
        "outputId": "a2d35ac9-5afb-4857-d358-ac9f89f5e7cb"
      },
      "source": [
        "rand=['1']\r\n",
        "for n in rand:\r\n",
        "  if n=='1':\r\n",
        "    print('Done')\r\n",
        "  else:\r\n",
        "    print('NA')\r\n"
      ],
      "execution_count": null,
      "outputs": [
        {
          "output_type": "stream",
          "text": [
            "Done\n"
          ],
          "name": "stdout"
        }
      ]
    },
    {
      "cell_type": "markdown",
      "metadata": {
        "id": "Uggz_8FotmMO"
      },
      "source": [
        "**14. Use a loop to display elements from the given list (my_list) which are present at even positions**\r\n",
        "my_list = [10, 20, 30, 40, 50, 60, 70, 80, 90, 100]"
      ]
    },
    {
      "cell_type": "code",
      "metadata": {
        "id": "XI42cUtJtxha",
        "colab": {
          "base_uri": "https://localhost:8080/"
        },
        "outputId": "5242b1aa-63c6-4c51-db65-ec830aba21e8"
      },
      "source": [
        "# [1::2] means every second element is to be printed after the L1\r\n",
        "my_list = [10, 20, 30, 40, 50, 60, 70, 80, 90, 100]\r\n",
        "for i in my_list[1::2]:\r\n",
        "    print(i)\r\n"
      ],
      "execution_count": null,
      "outputs": [
        {
          "output_type": "stream",
          "text": [
            "20\n",
            "40\n",
            "60\n",
            "80\n",
            "100\n"
          ],
          "name": "stdout"
        }
      ]
    },
    {
      "cell_type": "markdown",
      "metadata": {
        "id": "usUBQQ0ouFgI"
      },
      "source": [
        "**15. Create a list of your favourite 5 fruits. Then**\r\n",
        "\r\n",
        "Add 2 new fruits to the list\r\n",
        "What's the length of your list now?\r\n",
        "Remove any one fruit from the list\r\n",
        "What's the new length of the list now?\r\n",
        "Could you sort the list? \r\n"
      ]
    },
    {
      "cell_type": "code",
      "metadata": {
        "id": "FyzB7ZnEyq0X",
        "colab": {
          "base_uri": "https://localhost:8080/"
        },
        "outputId": "a355ebe8-150f-413d-e7f3-36ce0be37ab6"
      },
      "source": [
        "fruits= ['Strawberry','Blueberry','Orange','Banana','Apricot']\r\n",
        "fruits.append('Apple')\r\n",
        "print(fruits)\r\n",
        "fruits.append('Mango')\r\n",
        "print(fruits)\r\n",
        "print(len(fruits))"
      ],
      "execution_count": null,
      "outputs": [
        {
          "output_type": "stream",
          "text": [
            "['Strawberry', 'Blueberry', 'Orange', 'Banana', 'Apricot', 'Apple']\n",
            "['Strawberry', 'Blueberry', 'Orange', 'Banana', 'Apricot', 'Apple', 'Mango']\n",
            "7\n"
          ],
          "name": "stdout"
        }
      ]
    },
    {
      "cell_type": "markdown",
      "metadata": {
        "id": "YnjUxqA8yMHc"
      },
      "source": [
        ""
      ]
    }
  ]
}