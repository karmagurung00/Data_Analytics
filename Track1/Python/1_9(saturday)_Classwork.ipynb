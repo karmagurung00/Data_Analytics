{
  "nbformat": 4,
  "nbformat_minor": 0,
  "metadata": {
    "colab": {
      "name": "1/9(saturday)-Classwork",
      "provenance": [],
      "collapsed_sections": [],
      "authorship_tag": "ABX9TyNmfR1Ynyxl3WG2l4ogKtWG",
      "include_colab_link": true
    },
    "kernelspec": {
      "name": "python3",
      "display_name": "Python 3"
    }
  },
  "cells": [
    {
      "cell_type": "markdown",
      "metadata": {
        "id": "view-in-github",
        "colab_type": "text"
      },
      "source": [
        "<a href=\"https://colab.research.google.com/github/karmagurung00/Data_Analytics/blob/main/Track1/Python/1_9(saturday)_Classwork.ipynb\" target=\"_parent\"><img src=\"https://colab.research.google.com/assets/colab-badge.svg\" alt=\"Open In Colab\"/></a>"
      ]
    },
    {
      "cell_type": "code",
      "metadata": {
        "colab": {
          "base_uri": "https://localhost:8080/"
        },
        "id": "kNxRvjDgcj9W",
        "outputId": "5fdee058-55ef-4519-96aa-11ecece4b634"
      },
      "source": [
        "motorcycles=['ducati','bmw','yamaha','honda']\r\n",
        "for bike in motorcycles:\r\n",
        "  if bike!='ducati':\r\n",
        "    print(bike.upper())\r\n",
        "  else:\r\n",
        "    print(bike.lower())"
      ],
      "execution_count": null,
      "outputs": [
        {
          "output_type": "stream",
          "text": [
            "ducati\n",
            "BMW\n",
            "YAMAHA\n",
            "HONDA\n"
          ],
          "name": "stdout"
        }
      ]
    },
    {
      "cell_type": "code",
      "metadata": {
        "colab": {
          "base_uri": "https://localhost:8080/"
        },
        "id": "cVp5bWB_ey6R",
        "outputId": "fb41b464-393b-4b9f-c100-36e3392a4725"
      },
      "source": [
        "motorcycles=['ducati','bmw','yamaha','honda']\r\n",
        "for bike in motorcycles:\r\n",
        "  if bike=='DUCATI':\r\n",
        "    print(bike.upper())\r\n",
        "  else:\r\n",
        "    print(bike.lower())"
      ],
      "execution_count": null,
      "outputs": [
        {
          "output_type": "stream",
          "text": [
            "ducati\n",
            "bmw\n",
            "yamaha\n",
            "honda\n"
          ],
          "name": "stdout"
        }
      ]
    },
    {
      "cell_type": "code",
      "metadata": {
        "colab": {
          "base_uri": "https://localhost:8080/",
          "height": 128
        },
        "id": "tu9yxtPnguAT",
        "outputId": "90797b2d-3214-4986-df9a-f4ed76638cb6"
      },
      "source": [
        "motorcycles=['ducati','bmw','yamaha','honda']\r\n",
        "for bike in motorcycles:\r\n",
        "  if bike==='DUCATI':\r\n",
        "    print(bike.upper())\r\n",
        "  else:\r\n",
        "    print(bike.lower())"
      ],
      "execution_count": null,
      "outputs": [
        {
          "output_type": "error",
          "ename": "SyntaxError",
          "evalue": "ignored",
          "traceback": [
            "\u001b[0;36m  File \u001b[0;32m\"<ipython-input-6-0c1ba087cbe5>\"\u001b[0;36m, line \u001b[0;32m3\u001b[0m\n\u001b[0;31m    if bike==='DUCATI':\u001b[0m\n\u001b[0m             ^\u001b[0m\n\u001b[0;31mSyntaxError\u001b[0m\u001b[0;31m:\u001b[0m invalid syntax\n"
          ]
        }
      ]
    },
    {
      "cell_type": "code",
      "metadata": {
        "colab": {
          "base_uri": "https://localhost:8080/"
        },
        "id": "W9B-tlmhhERE",
        "outputId": "6dbd4e7b-d517-4523-d782-e68b8d5d29cd"
      },
      "source": [
        "patient_exam='echo'\r\n",
        "if patient_exam!='ecg':\r\n",
        "  print('Incorrect exam')\r\n",
        "  "
      ],
      "execution_count": null,
      "outputs": [
        {
          "output_type": "stream",
          "text": [
            "Incorrect exam\n"
          ],
          "name": "stdout"
        }
      ]
    },
    {
      "cell_type": "code",
      "metadata": {
        "colab": {
          "base_uri": "https://localhost:8080/"
        },
        "id": "_eJGyC2qh3es",
        "outputId": "ad6fa87f-89c6-46e3-f613-9a37527388ef"
      },
      "source": [
        "student1=23\r\n",
        "student2=25\r\n",
        "if student1>21 and student2>21:\r\n",
        "  print(\"True-You are legal to drink.\")\r\n",
        "else:\r\n",
        "  print(False)"
      ],
      "execution_count": null,
      "outputs": [
        {
          "output_type": "stream",
          "text": [
            "True-You are legal to drink\n"
          ],
          "name": "stdout"
        }
      ]
    },
    {
      "cell_type": "code",
      "metadata": {
        "colab": {
          "base_uri": "https://localhost:8080/"
        },
        "id": "wH1Kl--Jjr1C",
        "outputId": "8e9eeef3-fef7-42db-f58f-c9f0a99639f2"
      },
      "source": [
        "student1=20\r\n",
        "student2=19\r\n",
        "if student1>21 or student2>21:\r\n",
        "  print(True)\r\n",
        "else:\r\n",
        "  print(\"False-You are underaged to drink.\")"
      ],
      "execution_count": null,
      "outputs": [
        {
          "output_type": "stream",
          "text": [
            "False-You are underaged to drink.\n"
          ],
          "name": "stdout"
        }
      ]
    },
    {
      "cell_type": "code",
      "metadata": {
        "id": "yLdXeJHAjyGi"
      },
      "source": [
        ""
      ],
      "execution_count": null,
      "outputs": []
    }
  ]
}