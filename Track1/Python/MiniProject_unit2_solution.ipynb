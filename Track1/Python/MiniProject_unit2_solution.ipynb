{
  "nbformat": 4,
  "nbformat_minor": 0,
  "metadata": {
    "colab": {
      "name": "MiniProject_unit2_solution.ipynb",
      "provenance": [],
      "collapsed_sections": [],
      "include_colab_link": true
    },
    "kernelspec": {
      "name": "python3",
      "display_name": "Python 3"
    }
  },
  "cells": [
    {
      "cell_type": "markdown",
      "metadata": {
        "id": "view-in-github",
        "colab_type": "text"
      },
      "source": [
        "<a href=\"https://colab.research.google.com/github/karmagurung00/Data_Analytics/blob/main/Track1/Python/MiniProject_unit2_solution.ipynb\" target=\"_parent\"><img src=\"https://colab.research.google.com/assets/colab-badge.svg\" alt=\"Open In Colab\"/></a>"
      ]
    },
    {
      "cell_type": "markdown",
      "metadata": {
        "id": "eyOFW9MkrE38"
      },
      "source": [
        "Ask the user for a number. Depending on whether the number is even or odd, print out an appropriate message to the user.  Hint: how does an even / odd number react differently when divided by 2?\r\n",
        "\r\n",
        "**Bonus:**\r\n",
        "* if the number is a multiple of 4, print out a different message.\r\n",
        "* Ask the user for two numbers: one number to check (call it num) and one number to divide by (check).  If check divides evenly into num, tell that to the user.  If not, print a different appropriate message.\r\n",
        "* Write a custom function for finding whether the number is even or odd and call it in your main program code.\r\n",
        "\r\n",
        "\r\n",
        "\r\n",
        "\r\n",
        "\r\n"
      ]
    },
    {
      "cell_type": "code",
      "metadata": {
        "id": "l3PpjTi8q3zC",
        "colab": {
          "base_uri": "https://localhost:8080/"
        },
        "outputId": "30050d87-bcf9-4b56-8b60-fb0a2c2ded65"
      },
      "source": [
        "random=int(input('Enter a number: '))\r\n",
        "if random%2==0:\r\n",
        "  print('You have entered an even number.')\r\n",
        "else:\r\n",
        "  print('You have entered an odd number.')"
      ],
      "execution_count": null,
      "outputs": [
        {
          "output_type": "stream",
          "text": [
            "Enter a number: 12\n",
            "You have entered an even number\n"
          ],
          "name": "stdout"
        }
      ]
    },
    {
      "cell_type": "code",
      "metadata": {
        "id": "lBtkf6mq6lTg",
        "colab": {
          "base_uri": "https://localhost:8080/"
        },
        "outputId": "7ae658b1-2709-4a4e-e879-ae62f8abd940"
      },
      "source": [
        "num=int(input('Enter a number to check: '))\r\n",
        "check=int(input('Enter another number to divide by:' ))\r\n",
        "if num%4==0:\r\n",
        "  print('The number you have entered is:'+' '+ str(num) + ', '+ 'is a multiple of 4.')\r\n",
        "elif num%2==0:\r\n",
        "  print('The number you have entered is:' + ' '+ str(num)+ ',' + ' is an even number.')\r\n",
        "else:\r\n",
        "  print('The number you have entered is:' + ' '+ str(num)+','' is an odd number.')\r\n",
        "\r\n",
        "if num%check==0:\r\n",
        "  print('The number you entered:' + ' '+str(num)+ ', '+ 'divides evenly into'+' '+ str(check)+'.')\r\n",
        "else:\r\n",
        "  print('The number you entered:' + ' '+str(num)+ ', '+ ', does not divide evenly into' +' '+ str(check)+'.')"
      ],
      "execution_count": null,
      "outputs": [
        {
          "output_type": "stream",
          "text": [
            "Enter a number to check: 32\n",
            "Enter another number to divide by:4\n",
            "The number you have entered is: 32, is a multiple of 4.\n",
            "The number you entered: 32, divides evenly into 4.\n"
          ],
          "name": "stdout"
        }
      ]
    },
    {
      "cell_type": "markdown",
      "metadata": {
        "id": "j0aCubXkEui8"
      },
      "source": [
        "344Make a two-player Rock-Paper-Scissors game. (Hint: Ask for player plays (using input), compare them, print out a message of congratulations to the winner, and ask if the players want to start a new game)​\r\n",
        "\r\n",
        "\r\n",
        "*  Remember the rules:​\r\n",
        "*  Rock beats scissors​\r\n",
        "*  Scissors beats paper​\r\n",
        "*  Paper beats rock\r\n",
        "\r\n",
        "\r\n",
        "\r\n",
        "\r\n",
        "\r\n",
        "\r\n"
      ]
    },
    {
      "cell_type": "code",
      "metadata": {
        "id": "ZwF9wr3eE7Fa",
        "colab": {
          "base_uri": "https://localhost:8080/"
        },
        "outputId": "d65f6dbb-3516-4fdf-b103-bc1c100c734f"
      },
      "source": [
        "x='Rock'\r\n",
        "y='Paper'\r\n",
        "z='Scissors'\r\n",
        "a=input('Player(1)-Enter either Rock, Paper or Scissors- ')\r\n",
        "b=input('Player(2)-Enter either Rock, Paper or Scissors- ')\r\n",
        "if a==x and b==z:\r\n",
        "  print('Congratulations you win Player 1.')\r\n",
        "elif a==z and b==y:\r\n",
        "  print('Congratulations you win Player 1.')\r\n",
        "elif a==y and b==x:\r\n",
        "  print('Congratulations you win Player 1.')\r\n",
        "elif b==x and a==z:\r\n",
        "  print('Congratulations you win Player 2.')\r\n",
        "elif b==z and a==y:\r\n",
        "  print('Congratulations you win Player 2.')\r\n",
        "elif b==y and a==x:\r\n",
        "  print('Congratulations you win Player 2.')\r\n",
        "else:\r\n",
        "  print('Game is tied.')\r\n",
        "\r\n",
        "  "
      ],
      "execution_count": 7,
      "outputs": [
        {
          "output_type": "stream",
          "text": [
            "Player(1)-Enter either Rock, Paper or Scissors- Rock\n",
            "Player(2)-Enter either Rock, Paper or Scissors- Scissors\n",
            "Congratulations you win Player 1.\n"
          ],
          "name": "stdout"
        }
      ]
    },
    {
      "cell_type": "code",
      "metadata": {
        "id": "92oHbOuD2ig5"
      },
      "source": [
        "\r\n"
      ],
      "execution_count": null,
      "outputs": []
    },
    {
      "cell_type": "code",
      "metadata": {
        "id": "8bBflR9-zY7w"
      },
      "source": [
        ""
      ],
      "execution_count": null,
      "outputs": []
    }
  ]
}