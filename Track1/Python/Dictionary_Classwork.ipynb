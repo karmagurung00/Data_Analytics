{
  "nbformat": 4,
  "nbformat_minor": 0,
  "metadata": {
    "colab": {
      "name": "Dictionary_Classwork.ipynb",
      "provenance": [],
      "collapsed_sections": [],
      "authorship_tag": "ABX9TyMwZvDaJo+yuQIb4xsn8ksu",
      "include_colab_link": true
    },
    "kernelspec": {
      "name": "python3",
      "display_name": "Python 3"
    }
  },
  "cells": [
    {
      "cell_type": "markdown",
      "metadata": {
        "id": "view-in-github",
        "colab_type": "text"
      },
      "source": [
        "<a href=\"https://colab.research.google.com/github/karmagurung00/Data_Analytics/blob/main/Track1/Python/Dictionary_Classwork.ipynb\" target=\"_parent\"><img src=\"https://colab.research.google.com/assets/colab-badge.svg\" alt=\"Open In Colab\"/></a>"
      ]
    },
    {
      "cell_type": "code",
      "metadata": {
        "colab": {
          "base_uri": "https://localhost:8080/"
        },
        "id": "yka7A_qmRans",
        "outputId": "cca2ad56-86ab-42f3-8c2d-c35b38f9f68c"
      },
      "source": [
        "#firstname is the key and John is the value assigned to the key\r\n",
        "patient={'firstname':'John'}\r\n",
        "patient\r\n"
      ],
      "execution_count": null,
      "outputs": [
        {
          "output_type": "execute_result",
          "data": {
            "text/plain": [
              "{'firstname': 'John'}"
            ]
          },
          "metadata": {
            "tags": []
          },
          "execution_count": 3
        }
      ]
    },
    {
      "cell_type": "code",
      "metadata": {
        "colab": {
          "base_uri": "https://localhost:8080/"
        },
        "id": "ge55IapBRukj",
        "outputId": "daf79bdb-6f07-4193-edcb-87d34d5358b9"
      },
      "source": [
        "patient_1= {'firstname':'John', 'Lastname':'Kimble'}\r\n",
        "print(patient_1['firstname'])\r\n",
        "print(patient_1['Lastname'])\r\n",
        "patient_1"
      ],
      "execution_count": null,
      "outputs": [
        {
          "output_type": "stream",
          "text": [
            "John\n",
            "Kimble\n"
          ],
          "name": "stdout"
        },
        {
          "output_type": "execute_result",
          "data": {
            "text/plain": [
              "{'Lastname': 'Kimble', 'firstname': 'John'}"
            ]
          },
          "metadata": {
            "tags": []
          },
          "execution_count": 6
        }
      ]
    },
    {
      "cell_type": "code",
      "metadata": {
        "colab": {
          "base_uri": "https://localhost:8080/"
        },
        "id": "twX1bzJ_SSmR",
        "outputId": "7621a0e8-fca9-48b1-e227-5a3add5974d2"
      },
      "source": [
        "print('Good morning,'+ \" \" + patient_1['firstname'] + \" \"+ patient_1['Lastname']+'.' + ' '+'How have you been today?')"
      ],
      "execution_count": null,
      "outputs": [
        {
          "output_type": "stream",
          "text": [
            "Good morning, John Kimble. How have you been today?\n"
          ],
          "name": "stdout"
        }
      ]
    },
    {
      "cell_type": "code",
      "metadata": {
        "colab": {
          "base_uri": "https://localhost:8080/"
        },
        "id": "ct2G_d0PVBSU",
        "outputId": "7b69343f-9293-4e9d-9d5a-34538c354c8e"
      },
      "source": [
        "patient_1['MRN']='000100001'\r\n",
        "patient_1['Last_exam']='ECG'\r\n",
        "patient_1"
      ],
      "execution_count": null,
      "outputs": [
        {
          "output_type": "execute_result",
          "data": {
            "text/plain": [
              "{'Last_exam': 'ECG',\n",
              " 'Lastname': 'Kimble',\n",
              " 'MRN': '000100001',\n",
              " 'firstname': 'John'}"
            ]
          },
          "metadata": {
            "tags": []
          },
          "execution_count": 17
        }
      ]
    },
    {
      "cell_type": "code",
      "metadata": {
        "colab": {
          "base_uri": "https://localhost:8080/"
        },
        "id": "K0uEsZ_xV4Ut",
        "outputId": "d34db090-1632-40c4-95b7-a803a96e1fbc"
      },
      "source": [
        "patient_2={ }\r\n",
        "patient_2['firstname']='John'\r\n",
        "patient_2['lastname']='cena'\r\n",
        "print(patient_2)\r\n",
        "\r\n",
        "patient_2['lastname']='CeNa'\r\n",
        "print(patient_2)"
      ],
      "execution_count": null,
      "outputs": [
        {
          "output_type": "stream",
          "text": [
            "{'firstname': 'John', 'lastname': 'cena'}\n",
            "{'firstname': 'John', 'lastname': 'CeNa'}\n"
          ],
          "name": "stdout"
        }
      ]
    },
    {
      "cell_type": "code",
      "metadata": {
        "colab": {
          "base_uri": "https://localhost:8080/"
        },
        "id": "NtZ22ho_W853",
        "outputId": "bbc9c05e-c7c6-4d98-b06e-a81e4e5fbb3b"
      },
      "source": [
        "#this is the way to remove you call the key and deletes the value\r\n",
        "del patient_2['lastname']\r\n",
        "print(patient_2)"
      ],
      "execution_count": null,
      "outputs": [
        {
          "output_type": "stream",
          "text": [
            "{'firstname': 'John'}\n"
          ],
          "name": "stdout"
        }
      ]
    },
    {
      "cell_type": "code",
      "metadata": {
        "colab": {
          "base_uri": "https://localhost:8080/"
        },
        "id": "phQseve6Y7os",
        "outputId": "8b2a0f8f-5c00-4527-9d25-6877fea17fe5"
      },
      "source": [
        "patient_3={'name':'Karma','lastname':'Gurung','DOB':'02252000'}\r\n",
        "print(patient_3)\r\n",
        "print('Patient_3 DOB is' + patient_3['DOB'])"
      ],
      "execution_count": null,
      "outputs": [
        {
          "output_type": "stream",
          "text": [
            "{'name': 'Karma', 'lastname': 'Gurung', 'DOB': '02252000'}\n",
            "Patient_3 DOB is02252000\n"
          ],
          "name": "stdout"
        }
      ]
    },
    {
      "cell_type": "code",
      "metadata": {
        "colab": {
          "base_uri": "https://localhost:8080/"
        },
        "id": "VlINrmcRaWYb",
        "outputId": "a1c5587b-0807-4c73-82ba-600c1bfd6f9a"
      },
      "source": [
        "some_1={'firstname':'Nirdesh','lastname':'Ghale','place':'Sydney'}\r\n",
        "print(some_1)\r\n"
      ],
      "execution_count": null,
      "outputs": [
        {
          "output_type": "stream",
          "text": [
            "{'firstname': 'Nirdesh', 'lastname': 'Ghale', 'place': 'Sydney'}\n"
          ],
          "name": "stdout"
        }
      ]
    },
    {
      "cell_type": "code",
      "metadata": {
        "colab": {
          "base_uri": "https://localhost:8080/"
        },
        "id": "aifh0cUBa4bR",
        "outputId": "933ca125-9bbb-4c50-ccf3-2c2389854bec"
      },
      "source": [
        "rand={'Name_1':'Medhat',\r\n",
        "      'Age_1':'22',\r\n",
        "      'Name_2':'Lucy',\r\n",
        "      'Age_2':'23',\r\n",
        "      'Name_3':'Dolma',\r\n",
        "      'Age_3':'20',\r\n",
        "      'Name_4':'Yankee',\r\n",
        "      'Age_4':'19',\r\n",
        "      'Name_5':'Tsering',\r\n",
        "      'Age_5':'22'}\r\n",
        "print(rand)\r\n",
        "print( )\r\n",
        "print('Random name is'+\" \"+rand['Name_1']+ \" \"+ \"and age is\"+\" \"+rand['Age_1']+'.')\r\n",
        "print('Random name is'+\" \"+rand['Name_2']+ \" \"+ \"and age is\"+\" \"+rand['Age_2']+'.')\r\n",
        "print('Random name is'+\" \"+rand['Name_3']+ \" \"+ \"and age is\"+\" \"+rand['Age_3']+'.')\r\n",
        "print('Random name is'+\" \"+rand['Name_4']+ \" \"+ \"and age is\"+\" \"+rand['Age_4']+'.')\r\n",
        "print('Random name is'+\" \"+rand['Name_5']+ \" \"+ \"and age is\"+\" \"+rand['Age_5']+'.')"
      ],
      "execution_count": null,
      "outputs": [
        {
          "output_type": "stream",
          "text": [
            "{'Name_1': 'Medhat', 'Age_1': '22', 'Name_2': 'Lucy', 'Age_2': '23', 'Name_3': 'Dolma', 'Age_3': '20', 'Name_4': 'Yankee', 'Age_4': '19', 'Name_5': 'Tsering', 'Age_5': '22'}\n",
            "\n",
            "Random name is Medhat and age is 22.\n",
            "Random name is Lucy and age is 23.\n",
            "Random name is Dolma and age is 20.\n",
            "Random name is Yankee and age is 19.\n",
            "Random name is Tsering and age is 22.\n"
          ],
          "name": "stdout"
        }
      ]
    },
    {
      "cell_type": "code",
      "metadata": {
        "colab": {
          "base_uri": "https://localhost:8080/"
        },
        "id": "UEL7gHFGbQ5M",
        "outputId": "e4124725-f176-4a17-f9c1-a55bab6d5ec5"
      },
      "source": [
        "Glossary={'Lists':'It can consists of anything from string or numbers.','Numbers':'They can be integers or float.','Dictionaries':'They stored specific value with a specific key.'}\r\n",
        "print(Glossary)\r\n",
        "print(  )\r\n",
        "print('Lists'+':'+' ' +Glossary['Lists'])\r\n",
        "print('Numbers'+':'+' ' +Glossary['Numbers'])\r\n",
        "print('Dictionaries'+':'+' ' +Glossary['Dictionaries'])"
      ],
      "execution_count": null,
      "outputs": [
        {
          "output_type": "stream",
          "text": [
            "{'Lists': 'It can consists of anything from string or numbers.', 'Numbers': 'They can be integers or float.', 'Dictionaries': 'They stored specific value with a specific key.'}\n",
            "\n",
            "Lists: It can consists of anything from string or numbers.\n",
            "Numbers: They can be integers or float.\n",
            "Dictionaries: They stored specific value with a specific key.\n"
          ],
          "name": "stdout"
        }
      ]
    },
    {
      "cell_type": "code",
      "metadata": {
        "colab": {
          "base_uri": "https://localhost:8080/"
        },
        "id": "bJsUWYzcbLXH",
        "outputId": "a5bc1fe1-2096-4abd-aee5-f7e51c204d1e"
      },
      "source": [
        "for z in Glossary:\r\n",
        "  if z==\"Lists\":\r\n",
        "    print('Good Job')\r\n",
        "  else:\r\n",
        "    print('Sorry')"
      ],
      "execution_count": null,
      "outputs": [
        {
          "output_type": "stream",
          "text": [
            "Good Job\n",
            "Sorry\n",
            "Sorry\n"
          ],
          "name": "stdout"
        }
      ]
    },
    {
      "cell_type": "code",
      "metadata": {
        "colab": {
          "base_uri": "https://localhost:8080/"
        },
        "id": "Q0xK-NaLjIp7",
        "outputId": "87bd702d-34e3-4446-d097-bbfae5514db0"
      },
      "source": [
        "patient_3={'firstname':'Karma','lastname':'Gurung','DOB':'02252000'}\r\n",
        "for key,value in patient_3.items():\r\n",
        "  print('\\nkey:'+key)\r\n",
        "  print('\\nvalue:'+value)\r\n"
      ],
      "execution_count": null,
      "outputs": [
        {
          "output_type": "stream",
          "text": [
            "\n",
            "key:firstname\n",
            "\n",
            "value:Karma\n",
            "\n",
            "key:lastname\n",
            "\n",
            "value:Gurung\n",
            "\n",
            "key:DOB\n",
            "\n",
            "value:02252000\n"
          ],
          "name": "stdout"
        }
      ]
    },
    {
      "cell_type": "code",
      "metadata": {
        "colab": {
          "base_uri": "https://localhost:8080/"
        },
        "id": "rJEDeKnujuRO",
        "outputId": "529dcfbc-f908-4b75-9498-8b42557667c0"
      },
      "source": [
        "for keys in patient_3.keys():\r\n",
        "  print(keys)"
      ],
      "execution_count": null,
      "outputs": [
        {
          "output_type": "stream",
          "text": [
            "firstname\n",
            "lastname\n",
            "DOB\n"
          ],
          "name": "stdout"
        }
      ]
    },
    {
      "cell_type": "code",
      "metadata": {
        "colab": {
          "base_uri": "https://localhost:8080/"
        },
        "id": "3TNRgsdJlEoG",
        "outputId": "98f34c76-74c8-47cc-d928-606a18902560"
      },
      "source": [
        "friends_age={\r\n",
        "    'nick':'21',\r\n",
        "    'amanda':'24',\r\n",
        "    'steve':'20',\r\n",
        "    'alex':'30'\r\n",
        "}\r\n",
        "friend_fav=['nick','amanda']\r\n",
        "for name in friends_age.keys():\r\n",
        "  print(name.title())\r\n",
        "\r\n",
        "  if name in friend_fav:\r\n",
        "    print('Hi'+ ' '+ name.title()+'. I see you are'+' '+friends_age[name]+'years old.')\r\n",
        "\r\n",
        "print( )\r\n",
        "for keys in friends_age.keys():\r\n",
        "  print(keys)"
      ],
      "execution_count": null,
      "outputs": [
        {
          "output_type": "stream",
          "text": [
            "Nick\n",
            "Hi Nick. I see you are 21years old.\n",
            "Amanda\n",
            "Hi Amanda. I see you are 24years old.\n",
            "Steve\n",
            "Alex\n",
            "\n",
            "nick\n",
            "amanda\n",
            "steve\n",
            "alex\n"
          ],
          "name": "stdout"
        }
      ]
    },
    {
      "cell_type": "code",
      "metadata": {
        "colab": {
          "base_uri": "https://localhost:8080/"
        },
        "id": "-PCj8TUMl8Db",
        "outputId": "151aec15-6368-420d-e663-63652410a894"
      },
      "source": [
        "num=1\r\n",
        "while num<=5:\r\n",
        "  print(num)\r\n",
        "  num=num+1"
      ],
      "execution_count": null,
      "outputs": [
        {
          "output_type": "stream",
          "text": [
            "1\n",
            "2\n",
            "3\n",
            "4\n",
            "5\n"
          ],
          "name": "stdout"
        }
      ]
    },
    {
      "cell_type": "code",
      "metadata": {
        "colab": {
          "base_uri": "https://localhost:8080/"
        },
        "id": "qa6JKVC9owHp",
        "outputId": "b7ae61f5-9a28-44b9-8132-108df3161b54"
      },
      "source": [
        "name=input('Enter your name')\r\n",
        "print(name)"
      ],
      "execution_count": null,
      "outputs": [
        {
          "output_type": "stream",
          "text": [
            "Enter your namekarma gurung\n",
            "karma gurung\n"
          ],
          "name": "stdout"
        }
      ]
    },
    {
      "cell_type": "code",
      "metadata": {
        "colab": {
          "base_uri": "https://localhost:8080/"
        },
        "id": "WXMj7l68qoIC",
        "outputId": "a483874f-e4f3-4071-e4aa-d285bf7bf039"
      },
      "source": [
        "prompt='Input a message. I will stop when you type in \"FEMALE\"'\r\n",
        "message=\"\"\r\n",
        "while message !='FEMALE':\r\n",
        "  message=input(prompt)\r\n",
        "  print(message)\r\n",
        "else:\r\n",
        "  print('You are good to go')"
      ],
      "execution_count": null,
      "outputs": [
        {
          "output_type": "stream",
          "text": [
            "Input a message. I will stop when you type in \"FEMALE\"ma\n",
            "ma\n",
            "Input a message. I will stop when you type in \"FEMALE\"FEMALE\n",
            "FEMALE\n",
            "You are good to go\n"
          ],
          "name": "stdout"
        }
      ]
    },
    {
      "cell_type": "code",
      "metadata": {
        "colab": {
          "base_uri": "https://localhost:8080/"
        },
        "id": "HZe63dtZq81f",
        "outputId": "8f9f2080-2cf6-457b-b367-6055f5d5b38d"
      },
      "source": [
        "prompts='Input a message. I will repeat until you type \"QUIT\"'\r\n",
        "message=''\r\n",
        "\r\n",
        "active=True\r\n",
        "while active:\r\n",
        "  message=input(prompts)\r\n",
        "\r\n",
        "  if message==\"QUIT\":\r\n",
        "    active=False\r\n",
        "  else:\r\n",
        "    print(message)"
      ],
      "execution_count": null,
      "outputs": [
        {
          "output_type": "stream",
          "text": [
            "Input a message. I will repeat until you type \"QUIT\"no QUIT\n",
            "no QUIT\n",
            "Input a message. I will repeat until you type \"QUIT\"QUIT\n"
          ],
          "name": "stdout"
        }
      ]
    },
    {
      "cell_type": "code",
      "metadata": {
        "id": "L6yxHnz8tgqN"
      },
      "source": [
        ""
      ],
      "execution_count": null,
      "outputs": []
    }
  ]
}